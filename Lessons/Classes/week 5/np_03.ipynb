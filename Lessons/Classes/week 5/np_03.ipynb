{
 "cells": [
  {
   "cell_type": "code",
   "execution_count": 1,
   "id": "ca6ac051-6fe9-4df8-af2e-b5181a54b9fe",
   "metadata": {},
   "outputs": [
    {
     "name": "stdout",
     "output_type": "stream",
     "text": [
      "elements of the array\n",
      " [[ 0  1  2  3  4]\n",
      " [ 5  6  7  8  9]\n",
      " [10 11 12 13 14]]\n",
      "ndim of the array\n",
      " 2\n",
      "shape of the array\n",
      " (3, 5)\n",
      "size (total elements) of the array\n",
      " 15\n",
      "dtype.name of the array\n",
      " int32\n",
      "itemsize(in bytes) of the array\n",
      " 4\n",
      "buffer of the array\n",
      " <memory at 0x000001E717409B10>\n",
      "type of the array\n",
      " <class 'numpy.ndarray'>\n",
      "elements of the array b:\n",
      " [6 7 8]\n",
      "type array b:\n",
      " <class 'numpy.ndarray'>\n"
     ]
    }
   ],
   "source": [
    "# important attributes of the NumPy array: ndarray\n",
    "import numpy as np\n",
    "\n",
    "#\n",
    "a = np.arange(15).reshape(3, 5)\n",
    "print(f\"elements of the array\\n {a}\")\n",
    "\n",
    "print(f\"ndim of the array\\n {a.ndim}\")\n",
    "print(f\"shape of the array\\n {a.shape}\")\n",
    "print(f\"size (total elements) of the array\\n {a.size}\")\n",
    "print(f\"dtype.name of the array\\n {a.dtype.name}\")\n",
    "print(f\"itemsize(in bytes) of the array\\n {a.itemsize}\")\n",
    "print(f\"buffer of the array\\n {a.data}\")\n",
    "print(f\"type of the array\\n {type(a)}\")\n",
    "\n",
    "#\n",
    "b = np.array([6, 7, 8])\n",
    "print(f\"elements of the array b:\\n {b}\")\n",
    "print(f\"type array b:\\n {type(b)}\")"
   ]
  },
  {
   "cell_type": "code",
   "execution_count": 20,
   "id": "31b34fb9-42cc-40c5-9d13-7fd3d8703725",
   "metadata": {},
   "outputs": [
    {
     "name": "stdout",
     "output_type": "stream",
     "text": [
      "[10 20 30]\n",
      "sequence of sequences:\n",
      " [[1.5 2.  3. ]\n",
      " [4.  5.  6. ]]\n",
      "explicit specification:\n",
      " [[1.+0.j 2.+0.j]\n",
      " [3.+0.j 4.+0.j]]\n"
     ]
    }
   ],
   "source": [
    "# Array creation\n",
    "import numpy as np\n",
    "\n",
    "# from a regular python list or tuple\n",
    "a = np.array([1, 2, 3]) \n",
    "print(a * 10)\n",
    "\n",
    "#a = np.array(1, 2, 3, 4)    # WRONG\n",
    "\n",
    "# sequence of sequences is transformed in 2D, ...\n",
    "b = np.array([(1.5, 2, 3), (4, 5, 6)]) # observation: list of tuples\n",
    "print(f\"sequence of sequences:\\n {b}\")\n",
    "\n",
    "# explicit specification of array type\n",
    "c = np.array([[1, 2], [3, 4]], dtype=complex) # what other values dtype can have?\n",
    "print(f\"explicit specification:\\n {c}\")"
   ]
  },
  {
   "cell_type": "code",
   "execution_count": 29,
   "id": "31157cc0-fa05-45f9-88a3-ea0bd7416823",
   "metadata": {},
   "outputs": [
    {
     "name": "stdout",
     "output_type": "stream",
     "text": [
      "Array initialized with all 0's:\n",
      " [[0. 0. 0. 0.]\n",
      " [0. 0. 0. 0.]\n",
      " [0. 0. 0. 0.]]\n",
      "array initialized with seq of integers:\n",
      " [10 15 20 25]\n",
      "array initialized with seq of float:\n",
      " [0.  0.3 0.6 0.9 1.2 1.5 1.8]\n",
      "array initialized with linear space:\n",
      " [0.   0.25 0.5  0.75 1.   1.25 1.5  1.75 2.  ]\n",
      "array initialized with linear space:\n",
      " [0.    0.698 1.396 2.094 2.793 3.491 4.189 4.887 5.585 6.283]\n",
      "sinosidal function of the array:\n",
      " [ 0.     0.643  0.985  0.866  0.342 -0.342 -0.866 -0.985 -0.643 -0.   ]\n"
     ]
    }
   ],
   "source": [
    "# initial placeholder content\n",
    "a_zeros = np.zeros((3, 4))\n",
    "a_ones = np.ones((2, 3, 4), dtype=np.int16)\n",
    "a_empty = np.empty((2, 3))\n",
    "\n",
    "print(f\"Array initialized with all 0's:\\n {a_zeros}\")\n",
    "\n",
    "# sequences of numbers\n",
    "a_seq_int = np.arange(10, 30, 5) # lower to max smallest than upper\n",
    "a_seq_float = np.arange(0, 2, 0.3)\n",
    "print(f\"array initialized with seq of integers:\\n {a_seq_int}\")\n",
    "print(f\"array initialized with seq of float:\\n {a_seq_float}\")\n",
    "\n",
    "# linear space\n",
    "a_lin_space = np.linspace(0, 2, 9)\n",
    "print(f\"array initialized with linear space:\\n {a_lin_space}\")\n",
    "\n",
    "#\n",
    "from numpy import pi\n",
    "\n",
    "x = np.linspace(0, 2 * pi, 10)\n",
    "f = np.sin(x)\n",
    "print(f\"array initialized with linear space:\\n {np.around(x, 3)}\")\n",
    "print(f\"sinosidal function of the array:\\n {np.around(f, 3)}\")"
   ]
  },
  {
   "cell_type": "code",
   "execution_count": 119,
   "id": "f0f6a0bc-d6ce-4238-9951-1120875c38ae",
   "metadata": {},
   "outputs": [
    {
     "name": "stdout",
     "output_type": "stream",
     "text": [
      "1D array a:\n",
      " [0 1 2 3 4 5]\n",
      "\n",
      "2D array b:\n",
      " [[ 0  1  2]\n",
      " [ 3  4  5]\n",
      " [ 6  7  8]\n",
      " [ 9 10 11]]\n",
      "\n",
      "3D array c:\n",
      " [[ 0  1  2]\n",
      " [ 3  4  5]\n",
      " [ 6  7  8]\n",
      " [ 9 10 11]]\n",
      "\n",
      "Flat 1D array:\n",
      " [ 0  1  2  3  4  5  6  7  8  9 10 11 12 13 14 15 16 17 18 19 20 21 22 23\n",
      " 24 25 26 27 28 29 30 31 32 33 34 35 36 37 38 39 40 41 42 43 44 45 46 47\n",
      " 48 49 50 51 52 53 54 55 56 57 58 59 60 61 62 63 64 65 66 67 68 69 70 71\n",
      " 72 73 74 75 76 77 78 79 80 81 82 83 84 85 86 87 88 89 90 91 92 93 94 95\n",
      " 96 97 98 99]\n",
      "\n",
      "Reshaped 2D array:\n",
      " [[ 0  1  2  3  4  5  6  7  8  9]\n",
      " [10 11 12 13 14 15 16 17 18 19]\n",
      " [20 21 22 23 24 25 26 27 28 29]\n",
      " [30 31 32 33 34 35 36 37 38 39]\n",
      " [40 41 42 43 44 45 46 47 48 49]\n",
      " [50 51 52 53 54 55 56 57 58 59]\n",
      " [60 61 62 63 64 65 66 67 68 69]\n",
      " [70 71 72 73 74 75 76 77 78 79]\n",
      " [80 81 82 83 84 85 86 87 88 89]\n",
      " [90 91 92 93 94 95 96 97 98 99]]\n"
     ]
    }
   ],
   "source": [
    "# Printing arrays\n",
    "import numpy as np\n",
    "\n",
    "\n",
    "a = np.arange(6)                    # 1d array\n",
    "b = np.arange(12).reshape(4, 3)     # 2d array\n",
    "c = np.arange(24).reshape(2, 3, 4)  # 3d array\n",
    "\n",
    "print(f\"1D array a:\\n {a}\")\n",
    "print(f\"\\n2D array b:\\n {b}\")\n",
    "print(f\"\\n3D array c:\\n {b}\")\n",
    "\n",
    "print(f\"\\nFlat 1D array:\\n {np.arange(100)}\")\n",
    "print(f\"\\nReshaped 2D array:\\n {np.arange(100).reshape(10, 10)}\")\n"
   ]
  },
  {
   "cell_type": "code",
   "execution_count": 43,
   "id": "7d39b66e-d655-4140-b43d-71685e5f3de2",
   "metadata": {},
   "outputs": [
    {
     "name": "stdout",
     "output_type": "stream",
     "text": [
      "[20 30 40 50]\n",
      "[0 1 2 3]\n",
      "[20 29 38 47]\n",
      "[0 1 4 9]\n",
      "[ 9.12945251 -9.88031624  7.4511316  -2.62374854]\n",
      "[ True  True False False]\n",
      "[20 30]\n"
     ]
    }
   ],
   "source": [
    "# Basic operations\n",
    "a = np.array([20, 30, 40, 50])\n",
    "b = np.arange(4)\n",
    "c = a - b\n",
    "\n",
    "print(a)\n",
    "print(b)\n",
    "print(c)\n",
    "print(b**2)\n",
    "print(10 * np.sin(a))\n",
    "print(a < 35)\n",
    "print(a[a < 35])"
   ]
  },
  {
   "cell_type": "code",
   "execution_count": 47,
   "id": "ecf384e9-7746-43ac-af37-3b828170e248",
   "metadata": {},
   "outputs": [
    {
     "name": "stdout",
     "output_type": "stream",
     "text": [
      "[[2 0]\n",
      " [0 4]]\n",
      "[[5 4]\n",
      " [3 4]]\n",
      "[[5 4]\n",
      " [3 4]]\n",
      "[[5 4]\n",
      " [3 4]]\n"
     ]
    }
   ],
   "source": [
    "A = np.array([[1, 1],\n",
    "              [0, 1]])\n",
    "B = np.array([[2, 0],\n",
    "              [3, 4]])\n",
    "# elementwise product\n",
    "print(A * B) \n",
    "\n",
    "# matrix multiplication\n",
    "print(A @ B)\n",
    "\n",
    "# another matrix multiplication\n",
    "print(A.dot(B))\n",
    "print(np.dot(A, B))"
   ]
  },
  {
   "cell_type": "code",
   "execution_count": 53,
   "id": "ba8d871f-a1ea-4e85-bc1c-23907f7ffad0",
   "metadata": {},
   "outputs": [
    {
     "name": "stdout",
     "output_type": "stream",
     "text": [
      "[[3 3 3]\n",
      " [3 3 3]]\n",
      "[[3.51182162 3.9504637  3.14415961]\n",
      " [3.94864945 3.31183145 3.42332645]]\n",
      "[[6.51182162 6.9504637  6.14415961]\n",
      " [6.94864945 6.31183145 6.42332645]]\n"
     ]
    }
   ],
   "source": [
    "# create instance of default random number generator\n",
    "rg = np.random.default_rng(1)\n",
    "a = np.ones((2, 3), dtype=int)\n",
    "\n",
    "b = rg.random((2, 3))\n",
    "a *= 3\n",
    "print(a)\n",
    "\n",
    "b += a\n",
    "print(b)\n",
    "\n",
    "#a += b # not allowed, why?\n",
    "a = a.astype(float) # separate float array with copy of values of a. The old,int array, is garbage-collected\n",
    "a += b\n",
    "print(a)"
   ]
  },
  {
   "cell_type": "code",
   "execution_count": 62,
   "id": "d20494e1-e0cb-4b0a-a36c-062e204acf8e",
   "metadata": {},
   "outputs": [
    {
     "name": "stdout",
     "output_type": "stream",
     "text": [
      "\n",
      "dtype.name of b:\n",
      "float64\n",
      "\n",
      "c = a + b:\n",
      "[1.    2.571 4.142]\n",
      "\n",
      "d = e^(c * 1j):\n",
      "[ 0.54 +0.841j -0.841+0.54j  -0.54 -0.841j]\n",
      "\n",
      "dtype of complex var d:\n",
      "complex128\n"
     ]
    }
   ],
   "source": [
    "# upcasting: automatic conversion of arrays to a more general or higher precision data type\n",
    "a = np.ones(3, dtype=np.int32)\n",
    "b = np.linspace(0, pi, 3)\n",
    "print(f\"\\ndtype.name of b:\\n{b.dtype.name}\")\n",
    "\n",
    "c = a + b # integer+float upcast to float array a\n",
    "print(f\"\\nc = a + b:\\n{np.around(c, 3)}\")\n",
    "\n",
    "d = np.exp(c * 1j) # float upcast to complex\n",
    "print(f\"\\nd = e^(c * 1j):\\n{np.around(d, 3)}\")\n",
    "\n",
    "print(f\"\\ndtype of complex var d:\\n{d.dtype.name}\")\n"
   ]
  },
  {
   "cell_type": "code",
   "execution_count": 76,
   "id": "78fa7cbe-9a3b-444b-b3fd-79b357d2bde2",
   "metadata": {},
   "outputs": [
    {
     "name": "stdout",
     "output_type": "stream",
     "text": [
      "array a:\n",
      "[[1 2 3]\n",
      " [4 5 6]\n",
      " [7 8 9]]\n",
      "\n",
      "sum of array a:\n",
      "45\n",
      "\n",
      "max of array a:\n",
      "9\n",
      "\n",
      "min of array a:\n",
      "1\n",
      "\n",
      "sum of each column:\n",
      "66\n",
      "\n",
      "min of each row:\n",
      "66\n",
      "\n",
      "cummulative sum along each row:\n",
      "[[ 0  1  3  6]\n",
      " [ 4  9 15 22]\n",
      " [ 8 17 27 38]]\n",
      "\n",
      "cummulative sum along each column:\n",
      "[[ 0  1  2  3]\n",
      " [ 4  6  8 10]\n",
      " [12 15 18 21]]\n"
     ]
    }
   ],
   "source": [
    "# aggregation functions\n",
    "\n",
    "#a = rg.random((2, 3))\n",
    "#a = np.arange(9).reshape(3, 3)\n",
    "a = np.array([[1, 2, 3], [4, 5, 6], [7, 8, 9]])\n",
    "print(f\"array a:\\n{a}\")\n",
    "\n",
    "print(f\"\\nsum of array a:\\n{a.sum()}\")\n",
    "\n",
    "print(f\"\\nmax of array a:\\n{a.max()}\")\n",
    "\n",
    "print(f\"\\nmin of array a:\\n{a.min()}\")\n",
    "\n",
    "b = np.arange(12).reshape(3, 4)\n",
    "\n",
    "b.sum(axis=0)     # sum of each column\n",
    "print(f\"\\nsum of each column:\\n{b.sum()}\")\n",
    "\n",
    "b.min(axis=1)     # min of each row\n",
    "print(f\"\\nmin of each row:\\n{b.sum()}\")\n",
    "\n",
    "# cumulative sum along each row\n",
    "print(f\"\\ncummulative sum along each row:\\n{b.cumsum(axis=1)}\")\n",
    "\n",
    "# cumulative sum along each column\n",
    "print(f\"\\ncummulative sum along each column:\\n{b.cumsum(axis=0)}\")"
   ]
  },
  {
   "cell_type": "code",
   "execution_count": 82,
   "id": "99b8ad05-acd1-41a2-bd67-749f2a61c799",
   "metadata": {},
   "outputs": [
    {
     "name": "stdout",
     "output_type": "stream",
     "text": [
      "array B:\n",
      "[0 1 2]\n",
      "\n",
      "exponent of B:\n",
      "[1.         2.71828183 7.3890561 ]\n",
      "\n",
      "square root of B:\n",
      "[0.         1.         1.41421356]\n",
      "\n",
      "array C:\n",
      "[ 2. -1.  4.]\n",
      "\n",
      "B + C:\n",
      "[2. 0. 6.]\n"
     ]
    }
   ],
   "source": [
    "# universal functions (ufunc)\n",
    "\n",
    "B = np.arange(3)\n",
    "print(f\"array B:\\n{B}\")\n",
    "\n",
    "print(f\"\\nexponent of B:\\n{np.exp(B)}\")\n",
    "#print(f\"exponent of B:\\n{np.around(np.exp(B), 3)}\")\n",
    "\n",
    "print(f\"\\nsquare root of B:\\n{np.sqrt(B)}\")\n",
    "#print(f\"square root of B:\\n{np.around(np.sqrt(B), 3)}\")\n",
    "\n",
    "C = np.array([2., -1., 4.])\n",
    "print(f\"\\narray C:\\n{C}\")\n",
    "\n",
    "print(f\"\\nB + C:\\n{np.add(B, C)}\")\n",
    "\n",
    "# np.exp(), np.sqrt(), np.add()"
   ]
  },
  {
   "attachments": {},
   "cell_type": "markdown",
   "id": "d5b5ab2b-5dc9-47c0-a6b0-a0fd701eaee5",
   "metadata": {},
   "source": [
    "# Indexing, Slicing, and Iterating"
   ]
  },
  {
   "cell_type": "markdown",
   "id": "f2df5495-b053-4f32-9114-eae4c86a7d28",
   "metadata": {},
   "source": [
    "## One-dimensional array"
   ]
  },
  {
   "cell_type": "code",
   "execution_count": 84,
   "id": "8ce88561-235d-4a94-b9cf-0e865c7926d0",
   "metadata": {},
   "outputs": [
    {
     "name": "stdout",
     "output_type": "stream",
     "text": [
      "array a:\n",
      "[  0   1   8  27  64 125 216 343 512 729]\n",
      "\n",
      "element of a on index 2:\n",
      "8\n",
      "\n",
      "elements in slice[2:5]:\n",
      "[ 8 27 64]\n",
      "\n",
      "element in slice[:6:2]\n",
      "[ 0  8 64]\n",
      "\n",
      "element in slice[::-1]\n",
      "[729 512 343 216 125  64  27   8   1   0]\n"
     ]
    }
   ],
   "source": [
    "import numpy as np\n",
    "\n",
    "# Create a 1D array with cubes of numbers from 0 to 9\n",
    "a = np.arange(10)**3\n",
    "print(f\"Array a (cubed values from 0 to 9):\\n{a}\")\n",
    "\n",
    "# Access the element at index 2 (cube of 2 = 8)\n",
    "print(f\"\\nElement of 'a' at index 2:\\n{a[2]}\")\n",
    "\n",
    "# Slice elements from index 2 to 5 (exclusive), i.e., [2, 3, 4] cubes\n",
    "print(f\"\\nElements in slice a[2:5] (indices 2 to 4):\\n{a[2:5]}\")  # lower: 2 (start), upper: 5 (stop, exclusive)\n",
    "\n",
    "# Slice elements from start to index 6, with a step of 2\n",
    "print(f\"\\nElements in slice a[:6:2] (up to index 6, step of 2):\\n{a[:6:2]}\")  # from start (0), up to (but not including) 6, with step 2\n",
    "\n",
    "# Reverse the array by using a negative step in the slice\n",
    "print(f\"\\nElements in slice a[::-1] (reversed array):\\n{a[::-1]}\")  # reverse the array by stepping backwards (step = -1)\n",
    "\n",
    "#c = a[1:4].copy()"
   ]
  },
  {
   "cell_type": "markdown",
   "id": "068765f4-4040-41ca-8c45-3c82e553dba7",
   "metadata": {},
   "source": [
    "## Multi-dimensional array"
   ]
  },
  {
   "cell_type": "code",
   "execution_count": 85,
   "id": "d7637520-6d7d-46ab-8c6a-5c048454a45a",
   "metadata": {},
   "outputs": [
    {
     "name": "stdout",
     "output_type": "stream",
     "text": [
      "2D array 'a':\n",
      "[[  0   1   4   9]\n",
      " [ 16  25  36  49]\n",
      " [ 64  81 100 121]]\n",
      "\n",
      "Element of 'a' on index [1, 2]:\n",
      "36\n",
      "\n",
      "Elements in slice a[1:3, 1:4] (rows 1-2, columns 1-3):\n",
      "[[ 25  36  49]\n",
      " [ 81 100 121]]\n",
      "\n",
      "Elements in slice a[:3:2, :4:2] (every second row, every second column):\n",
      "[[  0   4]\n",
      " [ 64 100]]\n",
      "\n",
      "Array 'a' with rows reversed (slice a[::-1]):\n",
      "[[ 64  81 100 121]\n",
      " [ 16  25  36  49]\n",
      " [  0   1   4   9]]\n",
      "\n",
      "Array 'a' with both rows and columns reversed (slice a[::-1, ::-1]):\n",
      "[[121 100  81  64]\n",
      " [ 49  36  25  16]\n",
      " [  9   4   1   0]]\n"
     ]
    }
   ],
   "source": [
    "import numpy as np\n",
    "\n",
    "# Create a 3x4 array (3 rows, 4 columns) with values cubed\n",
    "a = np.arange(12).reshape(3, 4)**2\n",
    "print(f\"2D array 'a':\\n{a}\")\n",
    "\n",
    "# Accessing an element at a specific index [row, column]\n",
    "print(f\"\\nElement of 'a' on index [1, 2]:\\n{a[1, 2]}\")\n",
    "\n",
    "# Slicing rows and columns (rows 1 to 2, columns 1 to 3)\n",
    "print(f\"\\nElements in slice a[1:3, 1:4] (rows 1-2, columns 1-3):\\n{a[1:3, 1:4]}\")\n",
    "\n",
    "# Slicing with a step (every second row, every second column)\n",
    "print(f\"\\nElements in slice a[:3:2, :4:2] (every second row, every second column):\\n{a[:3:2, :4:2]}\")\n",
    "\n",
    "# Reversing the rows\n",
    "print(f\"\\nArray 'a' with rows reversed (slice a[::-1]):\\n{a[::-1]}\")\n",
    "\n",
    "# Reversing both rows and columns\n",
    "print(f\"\\nArray 'a' with both rows and columns reversed (slice a[::-1, ::-1]):\\n{a[::-1, ::-1]}\")\n"
   ]
  },
  {
   "cell_type": "code",
   "execution_count": 86,
   "id": "759d984e-f78d-47da-8e26-0cc5947afb6e",
   "metadata": {},
   "outputs": [
    {
     "name": "stdout",
     "output_type": "stream",
     "text": [
      "[[ 0  1  2  3]\n",
      " [10 11 12 13]\n",
      " [20 21 22 23]\n",
      " [30 31 32 33]\n",
      " [40 41 42 43]]\n",
      "23\n",
      "[ 1 11 21 31 41]\n",
      "[ 1 11 21 31 41]\n",
      "[[10 11 12 13]\n",
      " [20 21 22 23]]\n",
      "[40 41 42 43]\n"
     ]
    }
   ],
   "source": [
    "# multi-dimensional array\n",
    "\n",
    "def f(x, y):\n",
    "    return 10 * x + y\n",
    "    \n",
    "b = np.fromfunction(f, (5, 4), dtype=int)\n",
    "print(b)\n",
    "print(b[2, 3])\n",
    "print(b[0:5, 1])  # each row in the second column of b\n",
    "print(b[:, 1])    # equivalent to the previous example\n",
    "print(b[1:3, :])  # each column in the second and third row of b\n",
    "print(b[-1])   # the last row. Equivalent to b[-1, :]\n"
   ]
  },
  {
   "cell_type": "markdown",
   "id": "81ae7231-673f-4570-bb21-cb5474b58748",
   "metadata": {},
   "source": [
    "## Iterating over multi-dimensional array"
   ]
  },
  {
   "cell_type": "code",
   "execution_count": 88,
   "id": "b9574c54-1ec4-4dd5-a613-a8f5cc937c31",
   "metadata": {},
   "outputs": [
    {
     "name": "stdout",
     "output_type": "stream",
     "text": [
      "[0 1 2 3]\n",
      "[10 11 12 13]\n",
      "[20 21 22 23]\n",
      "[30 31 32 33]\n",
      "[40 41 42 43]\n",
      "0\n",
      "1\n",
      "2\n",
      "3\n",
      "10\n",
      "11\n",
      "12\n",
      "13\n",
      "20\n",
      "21\n",
      "22\n",
      "23\n",
      "30\n",
      "31\n",
      "32\n",
      "33\n",
      "40\n",
      "41\n",
      "42\n",
      "43\n"
     ]
    }
   ],
   "source": [
    "def f(x, y):\n",
    "    return 10 * x + y\n",
    "    \n",
    "b = np.fromfunction(f, (5, 4), dtype=int)\n",
    "\n",
    "for element in b:\n",
    "    print(element)\n",
    "    \n",
    "for element in b.flat:\n",
    "    print(element)"
   ]
  },
  {
   "cell_type": "markdown",
   "id": "d1f6e64d-f57c-49f1-8770-25cf19503de9",
   "metadata": {},
   "source": [
    "# Shape Manipulation"
   ]
  },
  {
   "cell_type": "markdown",
   "id": "de4c4129-74d7-4fc8-926c-673374d6548e",
   "metadata": {},
   "source": [
    "## Changing the shape of an array"
   ]
  },
  {
   "cell_type": "code",
   "execution_count": 90,
   "id": "3a4d0f18-5f87-4f1e-9b7a-050471354b39",
   "metadata": {},
   "outputs": [
    {
     "name": "stdout",
     "output_type": "stream",
     "text": [
      "[[3. 7. 3. 4.]\n",
      " [1. 4. 2. 2.]\n",
      " [7. 2. 4. 9.]]\n",
      "(3, 4)\n",
      "[3. 7. 3. 4. 1. 4. 2. 2. 7. 2. 4. 9.]\n",
      "[[3. 7.]\n",
      " [3. 4.]\n",
      " [1. 4.]\n",
      " [2. 2.]\n",
      " [7. 2.]\n",
      " [4. 9.]]\n",
      "[[3. 1. 7.]\n",
      " [7. 4. 2.]\n",
      " [3. 2. 4.]\n",
      " [4. 2. 9.]]\n",
      "(4, 3)\n",
      "(3, 4)\n"
     ]
    }
   ],
   "source": [
    "a = np.floor(10 * rg.random((3, 4)))\n",
    "print(a)\n",
    "\n",
    "print(a.shape)\n",
    "\n",
    "print(a.ravel()) # flattened array\n",
    "print(a.reshape(6,2))\n",
    "print(a.T)\n",
    "print(a.T.shape)\n",
    "print(a.shape)\n"
   ]
  },
  {
   "cell_type": "code",
   "execution_count": 92,
   "id": "cc7cd259-13ca-42a3-92d3-d61c461ea18b",
   "metadata": {},
   "outputs": [
    {
     "name": "stdout",
     "output_type": "stream",
     "text": [
      "b is a view of a\n"
     ]
    }
   ],
   "source": [
    "# view or copy test\n",
    "\n",
    "import numpy as np\n",
    "\n",
    "a = np.arange(6)\n",
    "b = a.reshape(2, 3)\n",
    "\n",
    "# Check if b is a view or a copy\n",
    "if b.base is a:\n",
    "    print(\"b is a view of a\")\n",
    "else:\n",
    "    print(\"b is a copy of a\")\n"
   ]
  },
  {
   "cell_type": "code",
   "execution_count": 91,
   "id": "e20659ca-98c2-43eb-beda-8e4727340d2b",
   "metadata": {},
   "outputs": [
    {
     "name": "stdout",
     "output_type": "stream",
     "text": [
      "[[3. 7. 3. 4.]\n",
      " [1. 4. 2. 2.]\n",
      " [7. 2. 4. 9.]]\n",
      "[[3. 7. 3. 4. 1. 4.]\n",
      " [2. 2. 7. 2. 4. 9.]]\n",
      "[[3. 7. 3. 4.]\n",
      " [1. 4. 2. 2.]\n",
      " [7. 2. 4. 9.]]\n",
      "[[3. 7. 3. 4. 1. 4.]\n",
      " [2. 2. 7. 2. 4. 9.]]\n"
     ]
    }
   ],
   "source": [
    "print(a)\n",
    "a.resize((2, 6))\n",
    "print(a)\n",
    "\n",
    "b = a.reshape(3, -1)\n",
    "\n",
    "print(b)\n",
    "\n",
    "print(a)"
   ]
  },
  {
   "cell_type": "markdown",
   "id": "f3aadc8f-bb7e-4529-a5d7-37dc41de7625",
   "metadata": {},
   "source": [
    "## Stacking together different arrays"
   ]
  },
  {
   "cell_type": "code",
   "execution_count": 93,
   "id": "2cc97689-fa1d-486d-bcc7-35ad9e6233ee",
   "metadata": {},
   "outputs": [
    {
     "name": "stdout",
     "output_type": "stream",
     "text": [
      "[[9. 7.]\n",
      " [5. 2.]]\n",
      "[[1. 9.]\n",
      " [5. 1.]]\n",
      "[[9. 7.]\n",
      " [5. 2.]\n",
      " [1. 9.]\n",
      " [5. 1.]]\n",
      "[[9. 7. 1. 9.]\n",
      " [5. 2. 5. 1.]]\n",
      "\n",
      "[1 2 3]\n",
      "[2 3 4]\n",
      "[[1 2]\n",
      " [2 3]\n",
      " [3 4]]\n"
     ]
    }
   ],
   "source": [
    "a = np.floor(10 * rg.random((2, 2)))\n",
    "print(a)\n",
    "\n",
    "b = np.floor(10 * rg.random((2, 2)))\n",
    "print(b)\n",
    "\n",
    "print(np.vstack((a, b)))\n",
    "print(np.hstack((a, b)))\n",
    "print()\n",
    "\n",
    "a = np.array((1,2,3))\n",
    "print(a)\n",
    "\n",
    "b = np.array((2,3,4))\n",
    "print(b)\n",
    "\n",
    "cs=np.column_stack((a,b))\n",
    "print(cs)"
   ]
  },
  {
   "cell_type": "code",
   "execution_count": 96,
   "id": "d5eae85f-5f8a-4128-b30e-3e40f059118f",
   "metadata": {},
   "outputs": [
    {
     "name": "stdout",
     "output_type": "stream",
     "text": [
      "[[0. 0.]\n",
      " [8. 3.]]\n",
      "[[2. 3.]\n",
      " [0. 5.]]\n",
      "[[0. 0.]\n",
      " [8. 3.]\n",
      " [2. 3.]\n",
      " [0. 5.]]\n",
      "[[0. 0. 2. 3.]\n",
      " [8. 3. 0. 5.]]\n",
      "\n",
      "[1 2 3]\n",
      "[2 3 4]\n",
      "[[1 2]\n",
      " [2 3]\n",
      " [3 4]]\n",
      "[[1 2 3]\n",
      " [4 5 6]]\n"
     ]
    }
   ],
   "source": [
    "import numpy as np\n",
    "\n",
    "# Create a default random number generator\n",
    "rg = np.random.default_rng()\n",
    "\n",
    "# Generate a 2x2 array of random numbers, scale by 10, and apply floor to get integer values\n",
    "a = np.floor(10 * rg.random((2, 2)))\n",
    "print(a)  # Print the first 2x2 array 'a'\n",
    "\n",
    "# Generate another 2x2 array of random numbers, scale by 10, and apply floor to get integer values\n",
    "b = np.floor(10 * rg.random((2, 2)))\n",
    "print(b)  # Print the second 2x2 array 'b'\n",
    "\n",
    "# Vertically stack arrays 'a' and 'b' (combine them along axis 0 - add rows)\n",
    "print(np.vstack((a, b)))  # Print the result of vertical stacking of arrays 'a' and 'b'\n",
    "\n",
    "# Horizontally stack arrays 'a' and 'b' (combine them along axis 1 - add columns)\n",
    "print(np.hstack((a, b)))  # Print the result of horizontal stacking of arrays 'a' and 'b'\n",
    "\n",
    "print()  #\n",
    "\n",
    "# Create a 1D array 'a' with elements 1, 2, 3\n",
    "a = np.array((1, 2, 3))\n",
    "print(a)  # Print the 1D array 'a'\n",
    "\n",
    "# Create a 1D array 'b' with elements 2, 3, 4\n",
    "b = np.array((2, 3, 4))\n",
    "print(b)  # Print the 1D array 'b'\n",
    "\n",
    "# Use column_stack to stack the arrays 'a' and 'b' as columns\n",
    "# This converts 1D arrays into 2D arrays with 3 rows and 2 columns\n",
    "cs = np.column_stack((a, b))\n",
    "print(cs)  # Print the result of column stacking 'a' and 'b'\n",
    "\n",
    "# Create two 1D arrays\n",
    "c = np.array([1, 2, 3])\n",
    "d = np.array([4, 5, 6])\n",
    "\n",
    "# Row stacking: stacks the arrays as rows\n",
    "#rs = np.row_stack((c, d))  # Equivalent to np.vstack((a, b))\n",
    "rs = np.vstack((c, d))  # Equivalent to np.vstack((a, b))\n",
    "print(rs)\n"
   ]
  },
  {
   "cell_type": "markdown",
   "id": "3268d98a-3481-4e80-abec-6fa0e8a0c2a7",
   "metadata": {},
   "source": [
    "## Splitting one array into several smaller ones"
   ]
  },
  {
   "cell_type": "code",
   "execution_count": 97,
   "id": "e87eed8a-291f-48ef-8de0-498ed157d89c",
   "metadata": {},
   "outputs": [
    {
     "name": "stdout",
     "output_type": "stream",
     "text": [
      "[[9. 7. 3. 9. 5. 5. 2. 6. 8. 2. 5. 8.]\n",
      " [8. 2. 9. 1. 1. 9. 1. 6. 3. 6. 3. 7.]]\n",
      "[array([[9., 7., 3.],\n",
      "       [8., 2., 9.]]), array([[9., 5., 5.],\n",
      "       [1., 1., 9.]]), array([[2., 6., 8.],\n",
      "       [1., 6., 3.]]), array([[2., 5., 8.],\n",
      "       [6., 3., 7.]])]\n"
     ]
    }
   ],
   "source": [
    "a = np.floor(10 * rg.random((2, 12)))\n",
    "print(a)\n",
    "\n",
    "# Split `a` horizontally into 4\n",
    "print(np.hsplit(a, 4))\n"
   ]
  },
  {
   "cell_type": "markdown",
   "id": "16d76e55-ca10-4984-bc7d-06a79f1dd941",
   "metadata": {},
   "source": [
    "# Exercises"
   ]
  },
  {
   "cell_type": "markdown",
   "id": "a5c528fc-91c7-407c-a2aa-2fe91de8a7f4",
   "metadata": {},
   "source": [
    "1. Implement a function that takes a ```matrix``` and two index arrays ```row_indices``` and ```col_indices``` of the same length and returns the ```sum``` of a np.array consisting of the sequence of elements \n",
    "\n",
    "```[matrix[row_indices[0], col_indices[0]], ... , matrix[row_indices[N-1], col_indices[N-1]]]```"
   ]
  },
  {
   "cell_type": "code",
   "execution_count": 102,
   "id": "cd3fe3ed-c0a7-4c43-a2c3-c5b9772d45bb",
   "metadata": {},
   "outputs": [
    {
     "name": "stdout",
     "output_type": "stream",
     "text": [
      "150\n"
     ]
    }
   ],
   "source": [
    "import numpy as np\n",
    "\n",
    "def indexed_elements(matrix, row_indices, col_indices):\n",
    "    # Ensure row_indices and col_indices are the same length\n",
    "    assert len(row_indices) == len(col_indices), \"row_indices and col_indices must have the same length\"\n",
    "    \n",
    "    # Use np.array with list comprehension to extract the sequence of elements\n",
    "    return np.array([matrix[row_indices[i], col_indices[i]] for i in range(len(row_indices))]).sum()\n",
    "\n",
    "# Example usage\n",
    "matrix = np.array([[10, 20, 30],\n",
    "                   [40, 50, 60],\n",
    "                   [70, 80, 90]])\n",
    "\n",
    "row_indices = [0, 1, 2]\n",
    "col_indices = [1, 2, 0]\n",
    "\n",
    "result = indexed_elements(matrix, row_indices, col_indices)\n",
    "print(result)  # Expected output: [20 60 70]\n"
   ]
  },
  {
   "cell_type": "code",
   "execution_count": 103,
   "id": "e143ff01-d3e6-4737-a5d5-58c56262bf97",
   "metadata": {},
   "outputs": [
    {
     "name": "stdout",
     "output_type": "stream",
     "text": [
      "150\n"
     ]
    }
   ],
   "source": [
    "import numpy as np\n",
    "\n",
    "def indexed_elements(matrix, row_indices, col_indices):\n",
    "    # Use advanced indexing to extract elements directly\n",
    "    return matrix[row_indices, col_indices].sum()\n",
    "\n",
    "# Example usage\n",
    "matrix = np.array([[10, 20, 30],\n",
    "                   [40, 50, 60],\n",
    "                   [70, 80, 90]])\n",
    "\n",
    "row_indices = np.array([0, 1, 2])\n",
    "col_indices = np.array([1, 2, 0])\n",
    "\n",
    "result = indexed_elements(matrix, row_indices, col_indices)\n",
    "print(result)  # Expected output: [20 60 70]\n"
   ]
  },
  {
   "cell_type": "markdown",
   "id": "b0103207-50a3-4521-bb17-663686765227",
   "metadata": {},
   "source": [
    "# NaN"
   ]
  },
  {
   "cell_type": "code",
   "execution_count": 104,
   "id": "1aaae114-39c6-4eef-b5ad-c1041b57438d",
   "metadata": {},
   "outputs": [],
   "source": [
    "import math\n",
    "x = math.nan  # NaN in Python\n"
   ]
  },
  {
   "cell_type": "code",
   "execution_count": 105,
   "id": "61cde4cc-33d8-42f2-b210-5680101f08e0",
   "metadata": {},
   "outputs": [],
   "source": [
    "x = float('nan')\n"
   ]
  },
  {
   "cell_type": "code",
   "execution_count": 106,
   "id": "44f700c3-a903-469e-81b3-8009b7c63b76",
   "metadata": {},
   "outputs": [],
   "source": [
    "import numpy as np\n",
    "x = np.nan\n"
   ]
  },
  {
   "cell_type": "code",
   "execution_count": 109,
   "id": "fb87bb8f-ea6a-40a7-b817-834e2968b51d",
   "metadata": {},
   "outputs": [
    {
     "name": "stdout",
     "output_type": "stream",
     "text": [
      "False\n",
      "True\n"
     ]
    }
   ],
   "source": [
    "result = (np.nan == np.nan)  # False\n",
    "print(result)\n",
    "\n",
    "result = np.isnan(np.nan)  # True\n",
    "print(result)\n"
   ]
  },
  {
   "cell_type": "code",
   "execution_count": 110,
   "id": "0e632e15-0724-403a-904d-bac70cc5a473",
   "metadata": {},
   "outputs": [
    {
     "name": "stdout",
     "output_type": "stream",
     "text": [
      "[False False  True False]\n",
      "2.3333333333333335\n"
     ]
    }
   ],
   "source": [
    "import numpy as np\n",
    "\n",
    "# Creating an array with NaN\n",
    "arr = np.array([1, 2, np.nan, 4])\n",
    "\n",
    "# Checking for NaN values\n",
    "print(np.isnan(arr))  # Output: [False False  True False]\n",
    "\n",
    "# Ignoring NaN values in computations (e.g., computing the mean)\n",
    "mean_value = np.nanmean(arr)  # np.nanmean ignores NaN as a member\n",
    "print(mean_value)  # Output: 2.3333333333333335\n"
   ]
  },
  {
   "cell_type": "code",
   "execution_count": 112,
   "id": "69d7e101-7ea8-4938-8c44-268f9c01fd78",
   "metadata": {},
   "outputs": [
    {
     "name": "stdout",
     "output_type": "stream",
     "text": [
      "Initial Stock Prices:\n",
      "[100.5   nan 102.3 101.8   nan]\n"
     ]
    }
   ],
   "source": [
    "import numpy as np\n",
    "\n",
    "# Create a NumPy array with stock prices, using np.nan to represent missing values\n",
    "dates = np.array(['2024-09-01', '2024-09-02', '2024-09-03', '2024-09-04', '2024-09-05'])\n",
    "stock_prices = np.array([100.5, np.nan, 102.3, 101.8, np.nan])\n",
    "\n",
    "# Print the initial array with NaN values\n",
    "print(\"Initial Stock Prices:\")\n",
    "print(stock_prices)\n"
   ]
  },
  {
   "cell_type": "code",
   "execution_count": null,
   "id": "909777af-60b0-474f-9214-eb32906cb138",
   "metadata": {},
   "outputs": [],
   "source": []
  }
 ],
 "metadata": {
  "kernelspec": {
   "display_name": "base",
   "language": "python",
   "name": "python3"
  },
  "language_info": {
   "codemirror_mode": {
    "name": "ipython",
    "version": 3
   },
   "file_extension": ".py",
   "mimetype": "text/x-python",
   "name": "python",
   "nbconvert_exporter": "python",
   "pygments_lexer": "ipython3",
   "version": "3.12.7"
  }
 },
 "nbformat": 4,
 "nbformat_minor": 5
}
