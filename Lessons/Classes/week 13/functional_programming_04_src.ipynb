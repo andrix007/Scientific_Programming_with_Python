{
 "cells": [
  {
   "cell_type": "code",
   "execution_count": 1,
   "id": "ffce8c86-5054-4b2f-a7dc-109d1ff350a5",
   "metadata": {},
   "outputs": [],
   "source": [
    "employees = [\n",
    "    {'name': 'Alice', 'department': 'Engineering', 'salary': 70000},\n",
    "    {'name': 'Bob', 'department': 'HR', 'salary': 50000},\n",
    "    {'name': 'Charlie', 'department': 'Engineering', 'salary': 80000},\n",
    "    {'name': 'Diana', 'department': 'Sales', 'salary': 60000},\n",
    "    {'name': 'Eve', 'department': 'Engineering', 'salary': 75000},\n",
    "]"
   ]
  },
  {
   "cell_type": "code",
   "execution_count": 2,
   "id": "6edbc738-f291-4a85-ad67-8bdb807b9faf",
   "metadata": {},
   "outputs": [
    {
     "name": "stdout",
     "output_type": "stream",
     "text": [
      "Total Salary: 335000\n"
     ]
    }
   ],
   "source": [
    "# 1\n",
    "\n",
    "def get_total_salary(employee_list):\n",
    "    return sum(emp['salary'] for emp in employee_list)\n",
    "\n",
    "total_salary = get_total_salary(employees)\n",
    "print(\"Total Salary:\", total_salary)"
   ]
  },
  {
   "cell_type": "code",
   "execution_count": 3,
   "id": "b90b8a43-8745-475a-87b1-c8f1d277f550",
   "metadata": {},
   "outputs": [
    {
     "name": "stdout",
     "output_type": "stream",
     "text": [
      "Engineering Employees: [{'name': 'Alice', 'department': 'Engineering', 'salary': 70000}, {'name': 'Charlie', 'department': 'Engineering', 'salary': 80000}, {'name': 'Eve', 'department': 'Engineering', 'salary': 75000}]\n"
     ]
    }
   ],
   "source": [
    "# 2\n",
    "\n",
    "def filter_by_department(employee_list, department):\n",
    "    return [emp for emp in employee_list if emp['department'] == department]\n",
    "\n",
    "engineering_employees = filter_by_department(employees, 'Engineering')\n",
    "print(\"Engineering Employees:\", engineering_employees)"
   ]
  },
  {
   "cell_type": "code",
   "execution_count": 4,
   "id": "cf00d95d-ff7c-422f-919e-445822151cae",
   "metadata": {},
   "outputs": [],
   "source": [
    "# 3\n",
    "\n",
    "from collections import namedtuple\n",
    "\n",
    "Employee = namedtuple('Employee', ['name', 'department', 'salary'])\n",
    "\n",
    "immutable_employees = (\n",
    "    Employee('Alice', 'Engineering', 70000),\n",
    "    Employee('Bob', 'HR', 50000),\n",
    "    Employee('Charlie', 'Engineering', 80000),\n",
    "    Employee('Diana', 'Sales', 60000),\n",
    "    Employee('Eve', 'Engineering', 75000),\n",
    ")\n",
    "\n",
    "# Attempting to modify will raise an AttributeError\n",
    "# immutable_employees[0].salary = 72000  # This will fail"
   ]
  },
  {
   "cell_type": "code",
   "execution_count": 5,
   "id": "3c252648-bdc0-47d0-a463-0da69fd356e2",
   "metadata": {},
   "outputs": [
    {
     "name": "stdout",
     "output_type": "stream",
     "text": [
      "Employees after bonus: [{'name': 'Alice', 'department': 'Engineering', 'salary': 77000.0}, {'name': 'Charlie', 'department': 'Engineering', 'salary': 88000.0}, {'name': 'Eve', 'department': 'Engineering', 'salary': 82500.0}]\n"
     ]
    }
   ],
   "source": [
    "# 4\n",
    "\n",
    "def apply_bonus(employee_list, bonus_function):\n",
    "    return [bonus_function(emp) for emp in employee_list]\n",
    "\n",
    "def ten_percent_bonus(employee):\n",
    "    employee = employee.copy()  # Avoid modifying original\n",
    "    employee['salary'] *= 1.10\n",
    "    return employee\n",
    "\n",
    "updated_employees = apply_bonus(engineering_employees, ten_percent_bonus)\n",
    "print(\"Employees after bonus:\", updated_employees)"
   ]
  },
  {
   "cell_type": "code",
   "execution_count": 6,
   "id": "c2dfa221-93d1-402b-a8e7-148b436ce998",
   "metadata": {},
   "outputs": [
    {
     "name": "stdout",
     "output_type": "stream",
     "text": [
      "Employees after 5% increment: [{'name': 'Alice', 'department': 'Engineering', 'salary': 73500.0}, {'name': 'Charlie', 'department': 'Engineering', 'salary': 84000.0}, {'name': 'Eve', 'department': 'Engineering', 'salary': 78750.0}]\n"
     ]
    }
   ],
   "source": [
    "# 5\n",
    "\n",
    "def make_incrementer(rate):\n",
    "    def incrementer(employee):\n",
    "        employee = employee.copy()\n",
    "        employee['salary'] *= (1 + rate)\n",
    "        return employee\n",
    "    return incrementer\n",
    "\n",
    "five_percent_incrementer = make_incrementer(0.05)\n",
    "updated_employees = apply_bonus(engineering_employees, five_percent_incrementer)\n",
    "print(\"Employees after 5% increment:\", updated_employees)"
   ]
  },
  {
   "cell_type": "code",
   "execution_count": 7,
   "id": "965beb4d-3174-4ea5-b74c-04715f25e0dc",
   "metadata": {},
   "outputs": [
    {
     "name": "stdout",
     "output_type": "stream",
     "text": [
      "Employees sorted by salary: [{'name': 'Bob', 'department': 'HR', 'salary': 50000}, {'name': 'Diana', 'department': 'Sales', 'salary': 60000}, {'name': 'Alice', 'department': 'Engineering', 'salary': 70000}, {'name': 'Eve', 'department': 'Engineering', 'salary': 75000}, {'name': 'Charlie', 'department': 'Engineering', 'salary': 80000}]\n"
     ]
    }
   ],
   "source": [
    "# 6\n",
    "sorted_employees = sorted(employees, key=lambda emp: emp['salary'])\n",
    "print(\"Employees sorted by salary:\", sorted_employees)"
   ]
  },
  {
   "cell_type": "code",
   "execution_count": 8,
   "id": "f41d2a64-daf8-4c19-815b-568ce4ace398",
   "metadata": {},
   "outputs": [
    {
     "name": "stdout",
     "output_type": "stream",
     "text": [
      "Total Salary using reduce: 335000\n"
     ]
    }
   ],
   "source": [
    "# 7\n",
    "\n",
    "from functools import reduce\n",
    "\n",
    "total_salary = reduce(lambda acc, emp: acc + emp['salary'], employees, 0)\n",
    "print(\"Total Salary using reduce:\", total_salary)"
   ]
  },
  {
   "cell_type": "code",
   "execution_count": 9,
   "id": "47c0baae-1dc9-4c0e-8121-c51abd072021",
   "metadata": {},
   "outputs": [
    {
     "name": "stdout",
     "output_type": "stream",
     "text": [
      "Engineering Employees using filter: [{'name': 'Alice', 'department': 'Engineering', 'salary': 70000}, {'name': 'Charlie', 'department': 'Engineering', 'salary': 80000}, {'name': 'Eve', 'department': 'Engineering', 'salary': 75000}]\n"
     ]
    }
   ],
   "source": [
    "# 7\n",
    "\n",
    "engineering_employees = list(filter(lambda emp: emp['department'] == 'Engineering', employees))\n",
    "print(\"Engineering Employees using filter:\", engineering_employees)"
   ]
  },
  {
   "cell_type": "code",
   "execution_count": 10,
   "id": "0b86bb6d-49db-4965-963d-34eb42a4c3f3",
   "metadata": {},
   "outputs": [
    {
     "name": "stdout",
     "output_type": "stream",
     "text": [
      "Employee Names: ['Alice', 'Bob', 'Charlie', 'Diana', 'Eve']\n"
     ]
    }
   ],
   "source": [
    "# 8\n",
    "\n",
    "employee_names = [emp['name'] for emp in employees]\n",
    "print(\"Employee Names:\", employee_names)"
   ]
  },
  {
   "cell_type": "code",
   "execution_count": 11,
   "id": "03d7407d-1e59-49a0-9f0a-32bee4a85863",
   "metadata": {},
   "outputs": [
    {
     "name": "stdout",
     "output_type": "stream",
     "text": [
      "Engineering Salaries: [70000, 80000, 75000]\n"
     ]
    }
   ],
   "source": [
    "# 8\n",
    "\n",
    "engineering_salaries = [emp['salary'] for emp in employees if emp['department'] == 'Engineering']\n",
    "print(\"Engineering Salaries:\", engineering_salaries)"
   ]
  },
  {
   "cell_type": "code",
   "execution_count": 12,
   "id": "d24b5237-5d7d-450f-950e-f81167bcf075",
   "metadata": {},
   "outputs": [
    {
     "name": "stdout",
     "output_type": "stream",
     "text": [
      "Total Salary using generator expression: 335000\n"
     ]
    }
   ],
   "source": [
    "# 9\n",
    "\n",
    "total_salary = sum(emp['salary'] for emp in employees)\n",
    "print(\"Total Salary using generator expression:\", total_salary)"
   ]
  },
  {
   "cell_type": "code",
   "execution_count": 13,
   "id": "c6cedec8-b039-4346-8036-2a8267ce8f59",
   "metadata": {},
   "outputs": [
    {
     "name": "stdout",
     "output_type": "stream",
     "text": [
      "Function 'get_employee_names' called with arguments ([{'name': 'Alice', 'department': 'Engineering', 'salary': 70000}, {'name': 'Bob', 'department': 'HR', 'salary': 50000}, {'name': 'Charlie', 'department': 'Engineering', 'salary': 80000}, {'name': 'Diana', 'department': 'Sales', 'salary': 60000}, {'name': 'Eve', 'department': 'Engineering', 'salary': 75000}],) {}\n",
      "Employee Names: ['Alice', 'Bob', 'Charlie', 'Diana', 'Eve']\n"
     ]
    }
   ],
   "source": [
    "# 10\n",
    "\n",
    "def log_function_call(func):\n",
    "    def wrapper(*args, **kwargs):\n",
    "        result = func(*args, **kwargs)\n",
    "        print(f\"Function '{func.__name__}' called with arguments {args} {kwargs}\")\n",
    "        return result\n",
    "    return wrapper\n",
    "\n",
    "@log_function_call\n",
    "def get_employee_names(employee_list):\n",
    "    return [emp['name'] for emp in employee_list]\n",
    "\n",
    "names = get_employee_names(employees)\n",
    "print(\"Employee Names:\", names)"
   ]
  },
  {
   "cell_type": "code",
   "execution_count": 14,
   "id": "b3a1ee9c-6b94-4801-967d-d50fe58eb4bd",
   "metadata": {},
   "outputs": [
    {
     "name": "stdout",
     "output_type": "stream",
     "text": [
      "High Earners: [{'name': 'Charlie', 'department': 'Engineering', 'salary': 80000}, {'name': 'Eve', 'department': 'Engineering', 'salary': 75000}]\n"
     ]
    }
   ],
   "source": [
    "# 11\n",
    "\n",
    "def make_salary_filter(min_salary):\n",
    "    def salary_filter(employee):\n",
    "        return employee['salary'] >= min_salary\n",
    "    return salary_filter\n",
    "\n",
    "high_earners_filter = make_salary_filter(75000)\n",
    "high_earners = list(filter(high_earners_filter, employees))\n",
    "print(\"High Earners:\", high_earners)"
   ]
  },
  {
   "cell_type": "code",
   "execution_count": 15,
   "id": "1bd645ec-8a18-4553-a577-ad529016b9e5",
   "metadata": {},
   "outputs": [
    {
     "name": "stdout",
     "output_type": "stream",
     "text": [
      "Employees after 5% increment using partial: [{'name': 'Alice', 'department': 'Engineering', 'salary': 73500.0}, {'name': 'Bob', 'department': 'HR', 'salary': 52500.0}, {'name': 'Charlie', 'department': 'Engineering', 'salary': 84000.0}, {'name': 'Diana', 'department': 'Sales', 'salary': 63000.0}, {'name': 'Eve', 'department': 'Engineering', 'salary': 78750.0}]\n"
     ]
    }
   ],
   "source": [
    "# 12\n",
    "\n",
    "from functools import partial\n",
    "\n",
    "def apply_increment(employee, rate):\n",
    "    employee = employee.copy()\n",
    "    employee['salary'] *= (1 + rate)\n",
    "    return employee\n",
    "\n",
    "five_percent_increment = partial(apply_increment, rate=0.05)\n",
    "updated_employees = list(map(five_percent_increment, employees))\n",
    "print(\"Employees after 5% increment using partial:\", updated_employees)"
   ]
  },
  {
   "cell_type": "code",
   "execution_count": 16,
   "id": "cf95dee1-db81-4cc8-8a8d-db0f0e240f2d",
   "metadata": {},
   "outputs": [
    {
     "name": "stdout",
     "output_type": "stream",
     "text": [
      "Factorial of 5: 120\n"
     ]
    }
   ],
   "source": [
    "# 12\n",
    "\n",
    "from functools import lru_cache\n",
    "\n",
    "@lru_cache(maxsize=None)\n",
    "def compute_factorial(n):\n",
    "    return 1 if n == 0 else n * compute_factorial(n - 1)\n",
    "\n",
    "print(\"Factorial of 5:\", compute_factorial(5))"
   ]
  },
  {
   "cell_type": "code",
   "execution_count": 17,
   "id": "da8acf00-c90c-4f98-a492-39a5057528e0",
   "metadata": {},
   "outputs": [
    {
     "name": "stdout",
     "output_type": "stream",
     "text": [
      "Department: Engineering\n",
      " - Alice\n",
      " - Charlie\n",
      " - Eve\n",
      "Department: HR\n",
      " - Bob\n",
      "Department: Sales\n",
      " - Diana\n"
     ]
    }
   ],
   "source": [
    "# 13\n",
    "\n",
    "from itertools import groupby\n",
    "from operator import itemgetter\n",
    "\n",
    "# First, sort the employees by department\n",
    "employees_sorted = sorted(employees, key=itemgetter('department'))\n",
    "\n",
    "# Then, group them\n",
    "for department, group in groupby(employees_sorted, key=itemgetter('department')):\n",
    "    print(f\"Department: {department}\")\n",
    "    for emp in group:\n",
    "        print(f\" - {emp['name']}\")\n",
    "        "
   ]
  },
  {
   "cell_type": "code",
   "execution_count": 18,
   "id": "3649488a-07d2-420a-8d8f-7848f7af9145",
   "metadata": {},
   "outputs": [
    {
     "name": "stdout",
     "output_type": "stream",
     "text": [
      "Factorial of 5: 120\n"
     ]
    }
   ],
   "source": [
    "# 14\n",
    "\n",
    "def factorial(n):\n",
    "    if n == 0:\n",
    "        return 1  # Base case\n",
    "    else:\n",
    "        return n * factorial(n - 1)  # Recursive case\n",
    "\n",
    "print(\"Factorial of 5:\", factorial(5))"
   ]
  },
  {
   "cell_type": "code",
   "execution_count": 19,
   "id": "b7921bc6-4b1b-426b-bc3b-4058cc9258b8",
   "metadata": {},
   "outputs": [
    {
     "name": "stdout",
     "output_type": "stream",
     "text": [
      "Average Salary: 67000.0\n"
     ]
    }
   ],
   "source": [
    "# 15\n",
    "\n",
    "def get_salaries(employee_list):\n",
    "    return [emp['salary'] for emp in employee_list]\n",
    "\n",
    "def calculate_average(salaries):\n",
    "    return sum(salaries) / len(salaries)\n",
    "\n",
    "average_salary = calculate_average(get_salaries(employees))\n",
    "print(\"Average Salary:\", average_salary)\n"
   ]
  },
  {
   "cell_type": "code",
   "execution_count": 20,
   "id": "e5bf6495-c5d2-4d3c-99b3-c9ca276ea03f",
   "metadata": {},
   "outputs": [
    {
     "name": "stdout",
     "output_type": "stream",
     "text": [
      "Average Salary using composed function: 67000.0\n"
     ]
    }
   ],
   "source": [
    "# 15\n",
    "\n",
    "def compose(f, g):\n",
    "    return lambda x: f(g(x))\n",
    "\n",
    "average_salary_func = compose(calculate_average, get_salaries)\n",
    "average_salary = average_salary_func(employees)\n",
    "print(\"Average Salary using composed function:\", average_salary)"
   ]
  },
  {
   "cell_type": "code",
   "execution_count": 21,
   "id": "41800f40-76cc-4ddc-bbd0-c13c04683c28",
   "metadata": {},
   "outputs": [
    {
     "name": "stdout",
     "output_type": "stream",
     "text": [
      "Immutable Employee: {'name': 'Frank', 'department': 'Marketing', 'salary': 65000}\n",
      "Departments: frozenset({'Sales', 'Engineering', 'HR'})\n"
     ]
    }
   ],
   "source": [
    "# 16\n",
    "\n",
    "immutable_employee = (\n",
    "    ('name', 'Frank'),\n",
    "    ('department', 'Marketing'),\n",
    "    ('salary', 65000)\n",
    ")\n",
    "\n",
    "# Converting to a dictionary\n",
    "employee_dict = dict(immutable_employee)\n",
    "print(\"Immutable Employee:\", employee_dict)\n",
    "\n",
    "# Using frozenset\n",
    "departments = frozenset(emp['department'] for emp in employees)\n",
    "print(\"Departments:\", departments)"
   ]
  },
  {
   "cell_type": "code",
   "execution_count": 22,
   "id": "b94bcb1b-261b-419a-be99-13813ed6639f",
   "metadata": {},
   "outputs": [
    {
     "name": "stdout",
     "output_type": "stream",
     "text": [
      "Employee: {'name': 'Alice', 'department': 'Engineering', 'salary': 70000}\n",
      "Employee: {'name': 'Bob', 'department': 'HR', 'salary': 50000}\n",
      "Employee: {'name': 'Charlie', 'department': 'Engineering', 'salary': 80000}\n",
      "Employee: {'name': 'Diana', 'department': 'Sales', 'salary': 60000}\n",
      "Employee: {'name': 'Eve', 'department': 'Engineering', 'salary': 75000}\n"
     ]
    }
   ],
   "source": [
    "# 17\n",
    "\n",
    "def employee_generator(employee_list):\n",
    "    for emp in employee_list:\n",
    "        yield emp\n",
    "\n",
    "for employee in employee_generator(employees):\n",
    "    print(\"Employee:\", employee)"
   ]
  },
  {
   "cell_type": "code",
   "execution_count": 24,
   "id": "a5959b5d-6c42-4422-a6b1-33401bdbf76e",
   "metadata": {},
   "outputs": [
    {
     "ename": "RuntimeError",
     "evalue": "asyncio.run() cannot be called from a running event loop",
     "output_type": "error",
     "traceback": [
      "\u001b[1;31m---------------------------------------------------------------------------\u001b[0m",
      "\u001b[1;31mRuntimeError\u001b[0m                              Traceback (most recent call last)",
      "Cell \u001b[1;32mIn[24], line 13\u001b[0m\n\u001b[0;32m     10\u001b[0m     \u001b[38;5;28;01mawait\u001b[39;00m asyncio\u001b[38;5;241m.\u001b[39mgather(\u001b[38;5;241m*\u001b[39mtasks)\n\u001b[0;32m     12\u001b[0m \u001b[38;5;66;03m# Run the event loop\u001b[39;00m\n\u001b[1;32m---> 13\u001b[0m \u001b[43masyncio\u001b[49m\u001b[38;5;241;43m.\u001b[39;49m\u001b[43mrun\u001b[49m\u001b[43m(\u001b[49m\u001b[43mmain\u001b[49m\u001b[43m(\u001b[49m\u001b[43m)\u001b[49m\u001b[43m)\u001b[49m\n",
      "File \u001b[1;32m~\\AppData\\Local\\Programs\\Python\\Python312\\Lib\\asyncio\\runners.py:190\u001b[0m, in \u001b[0;36mrun\u001b[1;34m(main, debug, loop_factory)\u001b[0m\n\u001b[0;32m    161\u001b[0m \u001b[38;5;250m\u001b[39m\u001b[38;5;124;03m\"\"\"Execute the coroutine and return the result.\u001b[39;00m\n\u001b[0;32m    162\u001b[0m \n\u001b[0;32m    163\u001b[0m \u001b[38;5;124;03mThis function runs the passed coroutine, taking care of\u001b[39;00m\n\u001b[1;32m   (...)\u001b[0m\n\u001b[0;32m    186\u001b[0m \u001b[38;5;124;03m    asyncio.run(main())\u001b[39;00m\n\u001b[0;32m    187\u001b[0m \u001b[38;5;124;03m\"\"\"\u001b[39;00m\n\u001b[0;32m    188\u001b[0m \u001b[38;5;28;01mif\u001b[39;00m events\u001b[38;5;241m.\u001b[39m_get_running_loop() \u001b[38;5;129;01mis\u001b[39;00m \u001b[38;5;129;01mnot\u001b[39;00m \u001b[38;5;28;01mNone\u001b[39;00m:\n\u001b[0;32m    189\u001b[0m     \u001b[38;5;66;03m# fail fast with short traceback\u001b[39;00m\n\u001b[1;32m--> 190\u001b[0m     \u001b[38;5;28;01mraise\u001b[39;00m \u001b[38;5;167;01mRuntimeError\u001b[39;00m(\n\u001b[0;32m    191\u001b[0m         \u001b[38;5;124m\"\u001b[39m\u001b[38;5;124masyncio.run() cannot be called from a running event loop\u001b[39m\u001b[38;5;124m\"\u001b[39m)\n\u001b[0;32m    193\u001b[0m \u001b[38;5;28;01mwith\u001b[39;00m Runner(debug\u001b[38;5;241m=\u001b[39mdebug, loop_factory\u001b[38;5;241m=\u001b[39mloop_factory) \u001b[38;5;28;01mas\u001b[39;00m runner:\n\u001b[0;32m    194\u001b[0m     \u001b[38;5;28;01mreturn\u001b[39;00m runner\u001b[38;5;241m.\u001b[39mrun(main)\n",
      "\u001b[1;31mRuntimeError\u001b[0m: asyncio.run() cannot be called from a running event loop"
     ]
    }
   ],
   "source": [
    "# 18\n",
    "\n",
    "# should be executed through separate interpreter from command line\n",
    "\n",
    "import asyncio\n",
    "\n",
    "async def fetch_employee_data(employee):\n",
    "    # Simulate an asynchronous I/O operation\n",
    "    await asyncio.sleep(1)\n",
    "    print(f\"Fetched data for {employee['name']}\")\n",
    "\n",
    "async def main():\n",
    "    tasks = [fetch_employee_data(emp) for emp in employees]\n",
    "    await asyncio.gather(*tasks)\n",
    "\n",
    "# Run the event loop\n",
    "asyncio.run(main())"
   ]
  },
  {
   "cell_type": "code",
   "execution_count": null,
   "id": "c391899c-37f3-48ba-940c-247be16d8804",
   "metadata": {},
   "outputs": [],
   "source": []
  }
 ],
 "metadata": {
  "kernelspec": {
   "display_name": "Python 3 (ipykernel)",
   "language": "python",
   "name": "python3"
  },
  "language_info": {
   "codemirror_mode": {
    "name": "ipython",
    "version": 3
   },
   "file_extension": ".py",
   "mimetype": "text/x-python",
   "name": "python",
   "nbconvert_exporter": "python",
   "pygments_lexer": "ipython3",
   "version": "3.12.4"
  }
 },
 "nbformat": 4,
 "nbformat_minor": 5
}
