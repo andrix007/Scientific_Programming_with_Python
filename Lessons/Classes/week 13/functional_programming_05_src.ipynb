{
 "cells": [
  {
   "cell_type": "code",
   "execution_count": 1,
   "id": "3544a3c7-3230-4ffc-a5cc-f48d51fe791f",
   "metadata": {},
   "outputs": [
    {
     "name": "stdout",
     "output_type": "stream",
     "text": [
      "[4, 16, 36]\n"
     ]
    }
   ],
   "source": [
    "# 1\n",
    "\n",
    "# List of numbers\n",
    "numbers = [1, 2, 3, 4, 5, 6]\n",
    "\n",
    "# Pure function: squares a number\n",
    "def square(x):\n",
    "    return x * x\n",
    "\n",
    "# Pure function: checks if a number is even\n",
    "def is_even(x):\n",
    "    return x % 2 == 0\n",
    "\n",
    "# Using map and filter (higher-order functions)\n",
    "even_numbers = filter(is_even, numbers)\n",
    "squared_numbers = map(square, even_numbers)\n",
    "\n",
    "# Convert the result to a list and print\n",
    "result = list(squared_numbers)\n",
    "print(result)  # Output: [4, 16, 36]"
   ]
  },
  {
   "cell_type": "code",
   "execution_count": 2,
   "id": "b3ac3e3f-02d2-46d8-bb27-ea6724a42aa4",
   "metadata": {},
   "outputs": [
    {
     "name": "stdout",
     "output_type": "stream",
     "text": [
      "78.53981633974483\n"
     ]
    }
   ],
   "source": [
    "# 2\n",
    "\n",
    "import math\n",
    "\n",
    "# Pure function to calculate the area of a circle\n",
    "def circle_area(radius):\n",
    "    return math.pi * radius ** 2\n",
    "\n",
    "# Calling the function with the same input will always return the same output\n",
    "print(circle_area(5))  # Output: 78.53981633974483"
   ]
  },
  {
   "cell_type": "code",
   "execution_count": 3,
   "id": "ad277894-6f3b-4c6c-bd66-3ce147febbeb",
   "metadata": {},
   "outputs": [
    {
     "name": "stdout",
     "output_type": "stream",
     "text": [
      "(15, 20)\n"
     ]
    }
   ],
   "source": [
    "# 3\n",
    "\n",
    "# Immutable tuple\n",
    "coordinates = (10, 20)\n",
    "\n",
    "# Attempting to modify will raise an error\n",
    "# coordinates[0] = 15  \n",
    "# TypeError: 'tuple' object does not support item assignment\n",
    "\n",
    "# Correct way: create a new tuple\n",
    "new_coordinates = (15, coordinates[1])\n",
    "print(new_coordinates)  # Output: (15, 20)"
   ]
  },
  {
   "cell_type": "code",
   "execution_count": 4,
   "id": "beef3767-7a8c-4e80-989d-93246db87f9b",
   "metadata": {},
   "outputs": [
    {
     "name": "stdout",
     "output_type": "stream",
     "text": [
      "Hello, Alice!\n"
     ]
    }
   ],
   "source": [
    "# 4\n",
    "\n",
    "# Function that greets a person\n",
    "def greet(name):\n",
    "    return f\"Hello, {name}!\"\n",
    "\n",
    "# Function that takes another function as an argument\n",
    "def display_message(func, name):\n",
    "    message = func(name)\n",
    "    print(message)\n",
    "\n",
    "# Using the functions\n",
    "display_message(greet, \"Alice\")  # Output: Hello, Alice!"
   ]
  },
  {
   "cell_type": "code",
   "execution_count": 5,
   "id": "38d6364b-fffe-4d12-ab37-0440997b5317",
   "metadata": {},
   "outputs": [
    {
     "name": "stdout",
     "output_type": "stream",
     "text": [
      "90.0\n"
     ]
    }
   ],
   "source": [
    "# 5\n",
    "\n",
    "# Higher-order function that creates a discount function\n",
    "def make_discount(discount_rate):\n",
    "    def apply_discount(price):\n",
    "        return price * (1 - discount_rate)\n",
    "    return apply_discount\n",
    "\n",
    "# Create a 10% discount function\n",
    "discount_10 = make_discount(0.10)\n",
    "\n",
    "# Apply discount to a price\n",
    "print(discount_10(100))  # Output: 90.0"
   ]
  },
  {
   "cell_type": "code",
   "execution_count": 6,
   "id": "19f934c7-038f-4d43-99f4-bb6a569afce8",
   "metadata": {},
   "outputs": [
    {
     "name": "stdout",
     "output_type": "stream",
     "text": [
      "[('Bob', 20), ('Alice', 25), ('Charlie', 30)]\n"
     ]
    }
   ],
   "source": [
    "# 6\n",
    "\n",
    "# List of tuples\n",
    "data = [('Alice', 25), ('Bob', 20), ('Charlie', 30)]\n",
    "\n",
    "# Sort by age using a lambda function\n",
    "sorted_data = sorted(data, key=lambda x: x[1])\n",
    "\n",
    "print(sorted_data)\n",
    "# Output: [('Bob', 20), ('Alice', 25), ('Charlie', 30)]"
   ]
  },
  {
   "cell_type": "code",
   "execution_count": 7,
   "id": "16e7c64e-d440-4de0-afeb-59c8ed1a06c3",
   "metadata": {},
   "outputs": [
    {
     "name": "stdout",
     "output_type": "stream",
     "text": [
      "[2, 4, 6, 8, 10, 12]\n",
      "[2, 4, 6]\n",
      "720\n"
     ]
    }
   ],
   "source": [
    "# 7\n",
    "\n",
    "from functools import reduce\n",
    "\n",
    "numbers = [1, 2, 3, 4, 5, 6]\n",
    "\n",
    "# Double each number using map\n",
    "doubled = list(map(lambda x: x * 2, numbers))\n",
    "print(doubled)  # Output: [2, 4, 6, 8, 10, 12]\n",
    "\n",
    "# Filter even numbers using filter\n",
    "even_numbers = list(filter(lambda x: x % 2 == 0, numbers))\n",
    "print(even_numbers)  # Output: [2, 4, 6]\n",
    "\n",
    "# Calculate the product of all numbers using reduce\n",
    "product = reduce(lambda x, y: x * y, numbers)\n",
    "print(product)  # Output: 720"
   ]
  },
  {
   "cell_type": "code",
   "execution_count": 8,
   "id": "0531affa-cdcb-45c3-990a-504610aec41a",
   "metadata": {},
   "outputs": [
    {
     "name": "stdout",
     "output_type": "stream",
     "text": [
      "[4, 16, 36]\n"
     ]
    }
   ],
   "source": [
    "# 8\n",
    "\n",
    "numbers = [1, 2, 3, 4, 5, 6]\n",
    "\n",
    "# List comprehension to square even numbers\n",
    "squared_evens = [x ** 2 for x in numbers if x % 2 == 0]\n",
    "print(squared_evens)  # Output: [4, 16, 36]"
   ]
  },
  {
   "cell_type": "code",
   "execution_count": 9,
   "id": "53f81029-90e9-4d9f-8b2b-d3743209d730",
   "metadata": {},
   "outputs": [
    {
     "name": "stdout",
     "output_type": "stream",
     "text": [
      "333333833333500000\n"
     ]
    }
   ],
   "source": [
    "# 9\n",
    "\n",
    "numbers = range(1, 1000001)  # Large range\n",
    "\n",
    "# Generator expression\n",
    "sum_of_squares = sum(x ** 2 for x in numbers)\n",
    "\n",
    "print(sum_of_squares)  # Output: 333333833333500000"
   ]
  },
  {
   "cell_type": "code",
   "execution_count": 37,
   "id": "71137b29-9624-4890-a9e8-d6e839be377a",
   "metadata": {},
   "outputs": [
    {
     "name": "stdout",
     "output_type": "stream",
     "text": [
      "Running 'add' with arguments (3, 5) {}\n",
      "None\n"
     ]
    }
   ],
   "source": [
    "# 10\n",
    "\n",
    "# Decorator function\n",
    "def logger(func):\n",
    "    def wrapper(*args, **kwargs):\n",
    "        print(f\"Running '{func.__name__}' with arguments {args} {kwargs}\")\n",
    "        # return func(*args, **kwargs)\n",
    "    return wrapper\n",
    "\n",
    "# Using the decorator\n",
    "@logger\n",
    "def add(a, b):\n",
    "    return a + b\n",
    "\n",
    "# Call the function\n",
    "result = add(3, 5)\n",
    "print(result)\n",
    "# Output:\n",
    "# Running 'add' with arguments (3, 5) {}\n",
    "# 8"
   ]
  },
  {
   "cell_type": "code",
   "execution_count": 11,
   "id": "b2d191a1-d027-4799-b2c6-131ce95e4fa2",
   "metadata": {},
   "outputs": [
    {
     "name": "stdout",
     "output_type": "stream",
     "text": [
      "30\n"
     ]
    }
   ],
   "source": [
    "# 11\n",
    "\n",
    "def make_multiplier(factor):\n",
    "    def multiplier(number):\n",
    "        return number * factor\n",
    "    return multiplier\n",
    "\n",
    "# Create a function that multiplies by 3\n",
    "times_three = make_multiplier(3)\n",
    "\n",
    "print(times_three(10))  # Output: 30"
   ]
  },
  {
   "cell_type": "code",
   "execution_count": 12,
   "id": "e80ee5da-faaa-44e2-a4d7-17bd185fa293",
   "metadata": {},
   "outputs": [
    {
     "name": "stdout",
     "output_type": "stream",
     "text": [
      "25\n"
     ]
    }
   ],
   "source": [
    "# 12\n",
    "\n",
    "from functools import partial\n",
    "\n",
    "def power(base, exponent):\n",
    "    return base ** exponent\n",
    "\n",
    "# Create a function to square numbers\n",
    "square = partial(power, exponent=2)\n",
    "\n",
    "print(square(5))  # Output: 25"
   ]
  },
  {
   "cell_type": "code",
   "execution_count": 13,
   "id": "a0948527-4511-432d-af3d-08c8638681bf",
   "metadata": {},
   "outputs": [
    {
     "name": "stdout",
     "output_type": "stream",
     "text": [
      "832040\n"
     ]
    }
   ],
   "source": [
    "# 12\n",
    "\n",
    "from functools import lru_cache\n",
    "\n",
    "@lru_cache(maxsize=None)\n",
    "def fibonacci(n):\n",
    "    if n < 2:\n",
    "        return n\n",
    "    return fibonacci(n-1) + fibonacci(n-2)\n",
    "\n",
    "print(fibonacci(30))  # Output: 832040"
   ]
  },
  {
   "cell_type": "code",
   "execution_count": 14,
   "id": "bbfbeed0-5fdd-40a8-b9c2-fd2a772c5294",
   "metadata": {},
   "outputs": [
    {
     "name": "stdout",
     "output_type": "stream",
     "text": [
      "[('A', 'B', 'C'), ('A', 'C', 'B'), ('B', 'A', 'C'), ('B', 'C', 'A'), ('C', 'A', 'B'), ('C', 'B', 'A')]\n"
     ]
    }
   ],
   "source": [
    "# 13\n",
    "\n",
    "from itertools import permutations\n",
    "\n",
    "letters = ['A', 'B', 'C']\n",
    "\n",
    "# Generate all permutations\n",
    "permuts = permutations(letters)\n",
    "\n",
    "# Convert to list and print\n",
    "print(list(permuts))"
   ]
  },
  {
   "cell_type": "code",
   "execution_count": 15,
   "id": "540a94a2-1c52-43f0-b3be-b49e100e5783",
   "metadata": {},
   "outputs": [
    {
     "name": "stdout",
     "output_type": "stream",
     "text": [
      "120\n"
     ]
    }
   ],
   "source": [
    "# 14\n",
    "\n",
    "def factorial(n):\n",
    "    if n == 0:\n",
    "        return 1  # Base case\n",
    "    else:\n",
    "        return n * factorial(n - 1)  # Recursive case\n",
    "\n",
    "print(factorial(5))  # Output: 120"
   ]
  },
  {
   "cell_type": "code",
   "execution_count": 16,
   "id": "1c5f2a1c-4add-4cc5-922f-42cb3d2f9a80",
   "metadata": {},
   "outputs": [
    {
     "name": "stdout",
     "output_type": "stream",
     "text": [
      "Hello World This Is An Example\n"
     ]
    }
   ],
   "source": [
    "# 15\n",
    "\n",
    "def remove_punctuation(text):\n",
    "    return ''.join(char for char in text if char.isalnum() or char.isspace())\n",
    "\n",
    "def to_lowercase(text):\n",
    "    return text.lower()\n",
    "\n",
    "def capitalize_words(text):\n",
    "    return ' '.join(word.capitalize() for word in text.split())\n",
    "\n",
    "# Compose functions\n",
    "def normalize_text(text):\n",
    "    return capitalize_words(to_lowercase(remove_punctuation(text)))\n",
    "\n",
    "# Use the composed function\n",
    "raw_text = \"Hello, World! This is an example.\"\n",
    "normalized = normalize_text(raw_text)\n",
    "print(normalized)  # Output: Hello World This Is An Example"
   ]
  },
  {
   "cell_type": "code",
   "execution_count": 17,
   "id": "ff359e35-59f5-4485-b9cd-3d8140dd8faf",
   "metadata": {},
   "outputs": [
    {
     "name": "stdout",
     "output_type": "stream",
     "text": [
      "frozenset({'cherry', 'apple', 'banana'})\n"
     ]
    }
   ],
   "source": [
    "# 16\n",
    "\n",
    "# Regular set (mutable)\n",
    "fruits_set = {'apple', 'banana', 'cherry'}\n",
    "\n",
    "# Immutable frozenset\n",
    "fruits_frozenset = frozenset(fruits_set)\n",
    "\n",
    "# Attempting to add an item raises an error\n",
    "# fruits_frozenset.add('date')  # AttributeError\n",
    "\n",
    "print(fruits_frozenset)  # Output: frozenset({'banana', 'apple', 'cherry'})"
   ]
  },
  {
   "cell_type": "code",
   "execution_count": 18,
   "id": "5242962c-4018-475b-b629-4a8d047b7b37",
   "metadata": {},
   "outputs": [
    {
     "name": "stdout",
     "output_type": "stream",
     "text": [
      "0\n",
      "1\n",
      "4\n",
      "9\n",
      "16\n"
     ]
    }
   ],
   "source": [
    "# 17\n",
    "\n",
    "# Generator function to yield squares of numbers\n",
    "def generate_squares(n):\n",
    "    for i in range(n):\n",
    "        yield i ** 2\n",
    "\n",
    "# Using the generator\n",
    "for square in generate_squares(5):\n",
    "    print(square)"
   ]
  },
  {
   "cell_type": "code",
   "execution_count": 19,
   "id": "1a7443ec-03b0-4999-a7e8-cfbc0812e606",
   "metadata": {},
   "outputs": [
    {
     "ename": "RuntimeError",
     "evalue": "asyncio.run() cannot be called from a running event loop",
     "output_type": "error",
     "traceback": [
      "\u001b[1;31m---------------------------------------------------------------------------\u001b[0m",
      "\u001b[1;31mRuntimeError\u001b[0m                              Traceback (most recent call last)",
      "Cell \u001b[1;32mIn[19], line 16\u001b[0m\n\u001b[0;32m     13\u001b[0m     \u001b[38;5;28mprint\u001b[39m(\u001b[38;5;124mf\u001b[39m\u001b[38;5;124m\"\u001b[39m\u001b[38;5;124mReceived: \u001b[39m\u001b[38;5;132;01m{\u001b[39;00mdata\u001b[38;5;132;01m}\u001b[39;00m\u001b[38;5;124m\"\u001b[39m)\n\u001b[0;32m     15\u001b[0m \u001b[38;5;66;03m# Run the event loop\u001b[39;00m\n\u001b[1;32m---> 16\u001b[0m \u001b[43masyncio\u001b[49m\u001b[38;5;241;43m.\u001b[39;49m\u001b[43mrun\u001b[49m\u001b[43m(\u001b[49m\u001b[43mmain\u001b[49m\u001b[43m(\u001b[49m\u001b[43m)\u001b[49m\u001b[43m)\u001b[49m\n",
      "File \u001b[1;32m~\\AppData\\Local\\Programs\\Python\\Python312\\Lib\\asyncio\\runners.py:190\u001b[0m, in \u001b[0;36mrun\u001b[1;34m(main, debug, loop_factory)\u001b[0m\n\u001b[0;32m    161\u001b[0m \u001b[38;5;250m\u001b[39m\u001b[38;5;124;03m\"\"\"Execute the coroutine and return the result.\u001b[39;00m\n\u001b[0;32m    162\u001b[0m \n\u001b[0;32m    163\u001b[0m \u001b[38;5;124;03mThis function runs the passed coroutine, taking care of\u001b[39;00m\n\u001b[1;32m   (...)\u001b[0m\n\u001b[0;32m    186\u001b[0m \u001b[38;5;124;03m    asyncio.run(main())\u001b[39;00m\n\u001b[0;32m    187\u001b[0m \u001b[38;5;124;03m\"\"\"\u001b[39;00m\n\u001b[0;32m    188\u001b[0m \u001b[38;5;28;01mif\u001b[39;00m events\u001b[38;5;241m.\u001b[39m_get_running_loop() \u001b[38;5;129;01mis\u001b[39;00m \u001b[38;5;129;01mnot\u001b[39;00m \u001b[38;5;28;01mNone\u001b[39;00m:\n\u001b[0;32m    189\u001b[0m     \u001b[38;5;66;03m# fail fast with short traceback\u001b[39;00m\n\u001b[1;32m--> 190\u001b[0m     \u001b[38;5;28;01mraise\u001b[39;00m \u001b[38;5;167;01mRuntimeError\u001b[39;00m(\n\u001b[0;32m    191\u001b[0m         \u001b[38;5;124m\"\u001b[39m\u001b[38;5;124masyncio.run() cannot be called from a running event loop\u001b[39m\u001b[38;5;124m\"\u001b[39m)\n\u001b[0;32m    193\u001b[0m \u001b[38;5;28;01mwith\u001b[39;00m Runner(debug\u001b[38;5;241m=\u001b[39mdebug, loop_factory\u001b[38;5;241m=\u001b[39mloop_factory) \u001b[38;5;28;01mas\u001b[39;00m runner:\n\u001b[0;32m    194\u001b[0m     \u001b[38;5;28;01mreturn\u001b[39;00m runner\u001b[38;5;241m.\u001b[39mrun(main)\n",
      "\u001b[1;31mRuntimeError\u001b[0m: asyncio.run() cannot be called from a running event loop"
     ]
    }
   ],
   "source": [
    "import asyncio\n",
    "\n",
    "# Asynchronous coroutine function\n",
    "async def fetch_data():\n",
    "    print(\"Start fetching\")\n",
    "    await asyncio.sleep(2)  # Simulate I/O operation\n",
    "    print(\"Done fetching\")\n",
    "    return {\"data\": 123}\n",
    "\n",
    "# Main coroutine\n",
    "async def main():\n",
    "    data = await fetch_data()\n",
    "    print(f\"Received: {data}\")\n",
    "\n",
    "# Run the event loop\n",
    "asyncio.run(main())"
   ]
  },
  {
   "cell_type": "code",
   "execution_count": null,
   "id": "2383ae8c-e21b-40f1-aa4e-f459f84726f8",
   "metadata": {},
   "outputs": [],
   "source": []
  }
 ],
 "metadata": {
  "kernelspec": {
   "display_name": "Python 3 (ipykernel)",
   "language": "python",
   "name": "python3"
  },
  "language_info": {
   "codemirror_mode": {
    "name": "ipython",
    "version": 3
   },
   "file_extension": ".py",
   "mimetype": "text/x-python",
   "name": "python",
   "nbconvert_exporter": "python",
   "pygments_lexer": "ipython3",
   "version": "3.12.4"
  }
 },
 "nbformat": 4,
 "nbformat_minor": 5
}
