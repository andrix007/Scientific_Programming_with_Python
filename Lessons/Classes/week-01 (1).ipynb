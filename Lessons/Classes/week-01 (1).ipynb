{
 "cells": [
  {
   "cell_type": "code",
   "execution_count": null,
   "metadata": {
    "cell_id": "f8299ec04af045baa30a2b3728a2e093",
    "deepnote_cell_type": "code",
    "deepnote_to_be_reexecuted": false,
    "execution_millis": 16,
    "execution_start": 1725377019949,
    "source_hash": null
   },
   "outputs": [
    {
     "name": "stdout",
     "output_type": "stream",
     "text": [
      "Hello, World!!!\n"
     ]
    }
   ],
   "source": [
    "print (\"Hello, World!!!\")"
   ]
  },
  {
   "cell_type": "markdown",
   "metadata": {
    "cell_id": "9f0b1ac454bb434ab166d48026c94d72",
    "deepnote_cell_type": "markdown"
   },
   "source": [
    "### Data types"
   ]
  },
  {
   "cell_type": "code",
   "execution_count": null,
   "metadata": {
    "cell_id": "7c50b431a8ac47529d3d319dc703ffd5",
    "deepnote_cell_type": "code",
    "deepnote_to_be_reexecuted": false,
    "execution_millis": 46,
    "execution_start": 1725343993609,
    "source_hash": null
   },
   "outputs": [],
   "source": [
    "num1 = 3.14\n",
    "num2 = 0.001\n",
    "num3 = -42.0\n",
    "\n",
    "num1 = 1.23e4   # Equivalent to 1.23 * 10^4, or 12300.0\n",
    "num2 = 5.67E-8  # Equivalent to 5.67 * 10^-8, or 0.0000000567\n",
    "num3 = -9.01e2  # Equivalent to -9.01 * 10^2, or -901.0\n",
    "\n",
    "num1 = float(10)        # Converts integer 10 to floating point 10.0\n",
    "num2 = float(\"3.1415\")  # Converts string \"3.1415\" to floating point 3.1415\n",
    "num3 = float(\"1e-3\")    # Converts string \"1e-3\" to floating point 0.001\n",
    "\n",
    "num1 = float('inf')   # Positive infinity\n",
    "num2 = float('-inf')  # Negative infinity\n",
    "num3 = float('nan')   # Not a Number\n"
   ]
  },
  {
   "cell_type": "markdown",
   "metadata": {
    "cell_id": "c304ccd3bbd04d1b9acc8228675c1e3a",
    "deepnote_cell_type": "text-cell-h1",
    "formattedRanges": []
   },
   "source": [
    "# Numeric Bases"
   ]
  },
  {
   "cell_type": "code",
   "execution_count": null,
   "metadata": {
    "cell_id": "d2f061849da94cbdba7158234d613168",
    "deepnote_cell_type": "code",
    "deepnote_to_be_reexecuted": false,
    "execution_millis": 84,
    "execution_start": 1725377160985,
    "source_hash": null
   },
   "outputs": [
    {
     "name": "stdout",
     "output_type": "stream",
     "text": [
      "10\n"
     ]
    }
   ],
   "source": [
    "print(0b1010)"
   ]
  },
  {
   "cell_type": "code",
   "execution_count": null,
   "metadata": {
    "cell_id": "5f49e6eaa78c412987e9538cb7789b54",
    "deepnote_cell_type": "code",
    "deepnote_to_be_reexecuted": false,
    "execution_millis": 87,
    "execution_start": 1725344248909,
    "source_hash": null
   },
   "outputs": [
    {
     "name": "stdout",
     "output_type": "stream",
     "text": [
      "Binary: 0b101010\n",
      "Octal: 0o52\n",
      "Hexadecimal: 0x2a\n",
      "Binary (no prefix): 101010\n",
      "Octal (no prefix): 52\n",
      "Hexadecimal (no prefix): 2a\n"
     ]
    }
   ],
   "source": [
    "number = 42\n",
    "\n",
    "# Binary\n",
    "print(f\"Binary: {bin(number)}\")         # Output: Binary: 0b101010\n",
    "\n",
    "# Octal\n",
    "print(f\"Octal: {oct(number)}\")          # Output: Octal: 0o52\n",
    "\n",
    "# Hexadecimal\n",
    "print(f\"Hexadecimal: {hex(number)}\")    # Output: Hexadecimal: 0x2a\n",
    "\n",
    "# Without prefixes\n",
    "print(f\"Binary (no prefix): {bin(number)[2:]}\")        # Output: Binary (no prefix): 101010\n",
    "print(f\"Octal (no prefix): {oct(number)[2:]}\")         # Output: Octal (no prefix): 52\n",
    "print(f\"Hexadecimal (no prefix): {hex(number)[2:]}\")   # Output: Hexadecimal (no prefix): 2a\n"
   ]
  },
  {
   "cell_type": "markdown",
   "metadata": {
    "cell_id": "13c5f1928d39428194ef77745ceff019",
    "deepnote_cell_type": "text-cell-h1",
    "formattedRanges": []
   },
   "source": [
    "# Data Types"
   ]
  },
  {
   "cell_type": "code",
   "execution_count": null,
   "metadata": {
    "cell_id": "a47c2d439fe9423fa6e44d6890753b99",
    "deepnote_cell_type": "code",
    "deepnote_to_be_reexecuted": false,
    "execution_millis": 69,
    "execution_start": 1725344594125,
    "source_hash": null
   },
   "outputs": [],
   "source": [
    "# Data types\n",
    "\n",
    "age = 25\n",
    "temperature = -15\n",
    "distance = 100000\n",
    "\n",
    "pi = 3.14159\n",
    "price = 19.99\n",
    "gravity = 9.8\n",
    "\n",
    "is_sunny = True\n",
    "has_access = False\n",
    "\n",
    "greeting = \"Hello, World!\"\n",
    "name = 'Alice'\n",
    "multiline_string = \"\"\"This is a \n",
    "multiline string.\"\"\"\n",
    "\n",
    "result = None\n"
   ]
  },
  {
   "cell_type": "markdown",
   "metadata": {
    "cell_id": "0983c7193cd648348106bc19cd234178",
    "deepnote_cell_type": "text-cell-h1",
    "formattedRanges": []
   },
   "source": [
    "# Strings"
   ]
  },
  {
   "cell_type": "code",
   "execution_count": null,
   "metadata": {
    "cell_id": "bc79615c3b2a4b63818f8a945fb0d7ca",
    "deepnote_cell_type": "code",
    "deepnote_to_be_reexecuted": false,
    "execution_millis": 325,
    "execution_start": 1725345010597,
    "source_hash": null
   },
   "outputs": [],
   "source": [
    "# single quote vs double quote\n",
    "greeting = 'Hello, World!'\n",
    "greeting = \"Hello, World!\"\n",
    "\n",
    "single_quote_string = 'It\\'s a beautiful day!'\n",
    "double_quote_string = \"It's a beautiful day!\"\n"
   ]
  },
  {
   "cell_type": "code",
   "execution_count": null,
   "metadata": {
    "cell_id": "c3ee7db6c7e94e089918e7db8bb2db75",
    "deepnote_cell_type": "code",
    "deepnote_to_be_reexecuted": false,
    "execution_millis": 539,
    "execution_start": 1725345058745,
    "source_hash": null
   },
   "outputs": [
    {
     "name": "stdout",
     "output_type": "stream",
     "text": [
      "Hello, World!\n"
     ]
    },
    {
     "ename": "TypeError",
     "evalue": "can only concatenate str (not \"int\") to str",
     "output_type": "error",
     "traceback": [
      "\u001b[0;31m---------------------------------------------------------------------------\u001b[0m",
      "\u001b[0;31mTypeError\u001b[0m                                 Traceback (most recent call last)",
      "Cell \u001b[0;32mIn [8], line 8\u001b[0m\n\u001b[1;32m      5\u001b[0m \u001b[38;5;28mprint\u001b[39m(result)  \u001b[38;5;66;03m# Output: Hello, World!\u001b[39;00m\n\u001b[1;32m      7\u001b[0m \u001b[38;5;66;03m# Attempting to add a string and an integer\u001b[39;00m\n\u001b[0;32m----> 8\u001b[0m result \u001b[38;5;241m=\u001b[39m \u001b[38;5;124;43m\"\u001b[39;49m\u001b[38;5;124;43mThe answer is \u001b[39;49m\u001b[38;5;124;43m\"\u001b[39;49m\u001b[43m \u001b[49m\u001b[38;5;241;43m+\u001b[39;49m\u001b[43m \u001b[49m\u001b[38;5;241;43m42\u001b[39;49m\n",
      "\u001b[0;31mTypeError\u001b[0m: can only concatenate str (not \"int\") to str"
     ]
    }
   ],
   "source": [
    "# when one operand in an arithmetic operation is string\n",
    "\n",
    "# Concatenation of two strings\n",
    "result = \"Hello, \" + \"World!\"\n",
    "print(result)  # Output: Hello, World!\n",
    "\n",
    "# Attempting to add a string and an integer\n",
    "result = \"The answer is \" + 42  # Raises TypeError"
   ]
  },
  {
   "cell_type": "code",
   "execution_count": null,
   "metadata": {
    "cell_id": "423ddc1025d14a8096eb79b07370c5b6",
    "deepnote_cell_type": "code",
    "deepnote_to_be_reexecuted": false,
    "execution_millis": 84,
    "execution_start": 1725345068002,
    "source_hash": null
   },
   "outputs": [
    {
     "name": "stdout",
     "output_type": "stream",
     "text": [
      "The answer is 42\n"
     ]
    }
   ],
   "source": [
    "result = \"The answer is \" + str(42)\n",
    "print(result)  # Output: The answer is 42\n"
   ]
  },
  {
   "cell_type": "code",
   "execution_count": null,
   "metadata": {
    "cell_id": "e64b156465ad437387dc489447f8e096",
    "deepnote_cell_type": "code",
    "deepnote_to_be_reexecuted": false,
    "execution_millis": 92,
    "execution_start": 1725345096275,
    "source_hash": null
   },
   "outputs": [
    {
     "name": "stdout",
     "output_type": "stream",
     "text": [
      "HaHaHa\n"
     ]
    }
   ],
   "source": [
    "# string with * operator\n",
    "\n",
    "result = \"Ha\" * 3\n",
    "print(result)  # Output: HaHaHa\n"
   ]
  },
  {
   "cell_type": "code",
   "execution_count": null,
   "metadata": {
    "cell_id": "0419b230029c4227bc0ddb99797a0732",
    "deepnote_cell_type": "code",
    "deepnote_to_be_reexecuted": false,
    "execution_millis": 21,
    "execution_start": 1725345119645,
    "source_hash": null
   },
   "outputs": [],
   "source": [
    "result = 3 * \"Ha\"  # Valid, Output: HaHaHa\n",
    "result = \"Ha\" * 3  # Valid, Output: HaHaHa"
   ]
  },
  {
   "cell_type": "code",
   "execution_count": null,
   "metadata": {
    "cell_id": "75722bb988ac4f74a9dbfe557ff876c5",
    "deepnote_cell_type": "code",
    "deepnote_to_be_reexecuted": false,
    "execution_millis": 101,
    "execution_start": 1725345193513,
    "source_hash": null
   },
   "outputs": [
    {
     "ename": "TypeError",
     "evalue": "unsupported operand type(s) for -: 'str' and 'int'",
     "output_type": "error",
     "traceback": [
      "\u001b[0;31m---------------------------------------------------------------------------\u001b[0m",
      "\u001b[0;31mTypeError\u001b[0m                                 Traceback (most recent call last)",
      "Cell \u001b[0;32mIn [14], line 3\u001b[0m\n\u001b[1;32m      1\u001b[0m \u001b[38;5;66;03m# other operators like: -, /, //, %, **\u001b[39;00m\n\u001b[0;32m----> 3\u001b[0m result \u001b[38;5;241m=\u001b[39m \u001b[38;5;124;43m\"\u001b[39;49m\u001b[38;5;124;43m5\u001b[39;49m\u001b[38;5;124;43m\"\u001b[39;49m\u001b[43m \u001b[49m\u001b[38;5;241;43m-\u001b[39;49m\u001b[43m \u001b[49m\u001b[38;5;241;43m2\u001b[39;49m  \u001b[38;5;66;03m# Raises TypeError\u001b[39;00m\n\u001b[1;32m      4\u001b[0m result \u001b[38;5;241m=\u001b[39m \u001b[38;5;124m\"\u001b[39m\u001b[38;5;124mHello\u001b[39m\u001b[38;5;124m\"\u001b[39m \u001b[38;5;241m/\u001b[39m \u001b[38;5;241m2\u001b[39m\n",
      "\u001b[0;31mTypeError\u001b[0m: unsupported operand type(s) for -: 'str' and 'int'"
     ]
    }
   ],
   "source": [
    "# other operators like: -, /, //, %, **\n",
    "\n",
    "result = \"5\" - 2  # Raises TypeError\n",
    "result = \"Hello\" / 2  # Raises TypeError\n",
    "\n"
   ]
  },
  {
   "cell_type": "markdown",
   "metadata": {
    "cell_id": "2d910432c64c4ab9a6a10220e061ba4d",
    "deepnote_cell_type": "text-cell-h1",
    "formattedRanges": []
   },
   "source": [
    "# Arithmatic Operators"
   ]
  },
  {
   "cell_type": "code",
   "execution_count": null,
   "metadata": {
    "cell_id": "abc7fa265b2c47a1b0c7d017ac5be3fa",
    "deepnote_cell_type": "code",
    "deepnote_to_be_reexecuted": false,
    "execution_millis": 155,
    "execution_start": 1725345912805,
    "source_hash": null
   },
   "outputs": [
    {
     "name": "stdout",
     "output_type": "stream",
     "text": [
      "8.0\n",
      "5.5\n",
      "4.0\n",
      "3.0\n"
     ]
    }
   ],
   "source": [
    "# precedence\n",
    "print ( 5 + 6 / 2)\n",
    "print ((5 + 6) / 2)\n",
    "print (6 * 2 / 3 * 2 / 2)\n",
    "print (6 / 4 * 2 / 2 * 2)\n"
   ]
  },
  {
   "cell_type": "code",
   "execution_count": null,
   "metadata": {
    "cell_id": "5929baaf20e4480093b777dd9d9b879d",
    "deepnote_cell_type": "code",
    "deepnote_to_be_reexecuted": false,
    "execution_millis": 104,
    "execution_start": 1725346173109,
    "source_hash": null
   },
   "outputs": [
    {
     "name": "stdout",
     "output_type": "stream",
     "text": [
      "21.0\n"
     ]
    }
   ],
   "source": [
    "# precedence in arithmetic operations -- combined example\n",
    "\n",
    "# Expression: 2 + 3 * 4 ** 2 / (1 + 1) - 5\n",
    "result = 2 + 3 * 4 ** 2 / (1 + 1) - 5\n",
    "\n",
    "# Breakdown:\n",
    "# 1. Parentheses: (1 + 1) -> 2\n",
    "# 2. Exponentiation: 4 ** 2 -> 16\n",
    "# 3. Multiplication: 3 * 16 -> 48\n",
    "# 4. Division: 48 / 2 -> 24.0\n",
    "# 5. Addition: 2 + 24.0 -> 26.0\n",
    "# 6. Subtraction: 26.0 - 5 -> 21.0\n",
    "\n",
    "print(result)  # Output: 21.0\n"
   ]
  },
  {
   "cell_type": "code",
   "execution_count": null,
   "metadata": {
    "cell_id": "3dc03f9bb36a435bb62034db60faca8c",
    "deepnote_cell_type": "code",
    "deepnote_to_be_reexecuted": false,
    "execution_millis": 28,
    "execution_start": 1725346759065,
    "source_hash": null
   },
   "outputs": [
    {
     "name": "stdout",
     "output_type": "stream",
     "text": [
      "-15\n"
     ]
    }
   ],
   "source": [
    "# unary operator\n",
    "result = -5 + -10\n",
    "print(result)  # Output: -5"
   ]
  },
  {
   "cell_type": "markdown",
   "metadata": {
    "cell_id": "f43889a5d3c944f6bcf0bfd888bd403f",
    "deepnote_cell_type": "text-cell-h1",
    "formattedRanges": []
   },
   "source": [
    "# Standard Input"
   ]
  },
  {
   "cell_type": "code",
   "execution_count": null,
   "metadata": {
    "cell_id": "456a0f7dc59b4170932b801acfae4d33",
    "deepnote_cell_type": "code",
    "deepnote_to_be_reexecuted": false,
    "execution_millis": 21868,
    "execution_start": 1725378283359,
    "source_hash": null
   },
   "outputs": [
    {
     "name": "stdout",
     "output_type": "stream",
     "text": [
      "Hello, Alice!\n"
     ]
    }
   ],
   "source": [
    "# input\n",
    "name = input(\"What is your name? \")\n",
    "print(\"Hello, \" + name + \"!\")"
   ]
  },
  {
   "cell_type": "code",
   "execution_count": null,
   "metadata": {
    "cell_id": "65c68bdacfcf46e4923701f7a3a13de7",
    "deepnote_cell_type": "code",
    "deepnote_to_be_reexecuted": false,
    "execution_millis": 6595,
    "execution_start": 1725347953629,
    "source_hash": null
   },
   "outputs": [
    {
     "ename": "ValueError",
     "evalue": "invalid literal for int() with base 10: ''",
     "output_type": "error",
     "traceback": [
      "\u001b[0;31m---------------------------------------------------------------------------\u001b[0m",
      "\u001b[0;31mValueError\u001b[0m                                Traceback (most recent call last)",
      "Cell \u001b[0;32mIn [35], line 2\u001b[0m\n\u001b[1;32m      1\u001b[0m name \u001b[38;5;241m=\u001b[39m \u001b[38;5;28minput\u001b[39m(\u001b[38;5;124m\"\u001b[39m\u001b[38;5;124mEnter your name: \u001b[39m\u001b[38;5;124m\"\u001b[39m)\n\u001b[0;32m----> 2\u001b[0m age \u001b[38;5;241m=\u001b[39m \u001b[38;5;28;43mint\u001b[39;49m\u001b[43m(\u001b[49m\u001b[38;5;28;43minput\u001b[39;49m\u001b[43m(\u001b[49m\u001b[38;5;124;43m\"\u001b[39;49m\u001b[38;5;124;43mEnter your age: \u001b[39;49m\u001b[38;5;124;43m\"\u001b[39;49m\u001b[43m)\u001b[49m\u001b[43m)\u001b[49m\n\u001b[1;32m      3\u001b[0m height \u001b[38;5;241m=\u001b[39m \u001b[38;5;28mfloat\u001b[39m(\u001b[38;5;28minput\u001b[39m(\u001b[38;5;124m\"\u001b[39m\u001b[38;5;124mEnter your height: \u001b[39m\u001b[38;5;124m\"\u001b[39m))\n\u001b[1;32m      4\u001b[0m is_student \u001b[38;5;241m=\u001b[39m \u001b[38;5;28minput\u001b[39m(\u001b[38;5;124m\"\u001b[39m\u001b[38;5;124mAre you a student? (yes/no): \u001b[39m\u001b[38;5;124m\"\u001b[39m)\u001b[38;5;241m.\u001b[39mlower() \u001b[38;5;241m==\u001b[39m \u001b[38;5;124m\"\u001b[39m\u001b[38;5;124myes\u001b[39m\u001b[38;5;124m\"\u001b[39m\n",
      "\u001b[0;31mValueError\u001b[0m: invalid literal for int() with base 10: ''"
     ]
    }
   ],
   "source": [
    "name = input(\"Enter your name: \")\n",
    "age = int(input(\"Enter your age: \"))\n",
    "height = float(input(\"Enter your height: \"))\n",
    "is_student = input(\"Are you a student? (yes/no): \").lower() == \"yes\"\n",
    "value = None if input(\"Enter a value: \") == \"\" else input(\"Enter a value: \")\n",
    "\n",
    "print(f\"Name: {name}\")\n",
    "print(f\"Age: {age}\")\n",
    "print(f\"Height: {height}\")\n",
    "print(f\"Is student: {is_student}\")\n",
    "print(f\"Value: {value}\")"
   ]
  },
  {
   "cell_type": "code",
   "execution_count": null,
   "metadata": {
    "cell_id": "b3e125865a2942ec9b3eb9f90f346c74",
    "deepnote_cell_type": "code"
   },
   "outputs": [],
   "source": [
    "# Example: Inputting three variables separated by spaces\n",
    "x, y, z = input(\"Enter three values separated by spaces: \").split()\n",
    "\n",
    "print(\"x:\", x)\n",
    "print(\"y:\", y)\n",
    "print(\"z:\", z)"
   ]
  },
  {
   "cell_type": "code",
   "execution_count": null,
   "metadata": {
    "cell_id": "a9a1b0b55e814861b80b46f1313adb1b",
    "deepnote_cell_type": "code"
   },
   "outputs": [],
   "source": [
    "# Example: Inputting three integers separated by spaces and mapping to specific type\n",
    "x, y, z = map(int, input(\"Enter three integers separated by spaces: \").split())\n",
    "\n",
    "print(\"x:\", x)\n",
    "print(\"y:\", y)\n",
    "print(\"z:\", z)\n"
   ]
  },
  {
   "cell_type": "code",
   "execution_count": null,
   "metadata": {
    "cell_id": "df9188c5fccf45edbea20731a2b24574",
    "deepnote_cell_type": "code"
   },
   "outputs": [],
   "source": [
    "# Example: Inputting three variables separated by commas\n",
    "x, y, z = input(\"Enter three values separated by commas: \").split(',')\n",
    "\n",
    "print(\"x:\", x)\n",
    "print(\"y:\", y)\n",
    "print(\"z:\", z)\n"
   ]
  },
  {
   "cell_type": "code",
   "execution_count": null,
   "metadata": {
    "cell_id": "e0523929e96d43ec92f108bc8e967867",
    "deepnote_cell_type": "code"
   },
   "outputs": [],
   "source": [
    "# Example: Inputting an unknown number of values\n",
    "values = input(\"Enter values separated by spaces: \").split()\n",
    "\n",
    "print(\"Values:\", values)\n"
   ]
  },
  {
   "cell_type": "markdown",
   "metadata": {
    "cell_id": "e5fc530920824b0a93db6f86d0ebdd04",
    "deepnote_cell_type": "text-cell-h1",
    "formattedRanges": []
   },
   "source": [
    "# Standard Output"
   ]
  },
  {
   "cell_type": "code",
   "execution_count": null,
   "metadata": {
    "cell_id": "e79cdc422cd54318beae3040311f187d",
    "deepnote_cell_type": "code",
    "deepnote_to_be_reexecuted": false,
    "execution_millis": 33,
    "execution_start": 1725348501803,
    "source_hash": null
   },
   "outputs": [
    {
     "name": "stdout",
     "output_type": "stream",
     "text": [
      "Number of rooms: 5 Price per room: 100.5\n",
      "Number of rooms: 5 Price per room:     100.50\n"
     ]
    }
   ],
   "source": [
    "# printing\n",
    "numRooms = 5\n",
    "price = 100.5\n",
    "\n",
    "print (\"Number of rooms:\", numRooms, \"Price per room:\", price)  # Output: Number of rooms: %d Price per room: %10.2f\" % (numRooms, price))\n",
    "\n"
   ]
  },
  {
   "cell_type": "code",
   "execution_count": null,
   "metadata": {
    "cell_id": "7043ac53f59e469fba031cc3b4ac8413",
    "deepnote_cell_type": "code",
    "deepnote_to_be_reexecuted": false,
    "execution_millis": 89,
    "execution_start": 1725348561621,
    "source_hash": null
   },
   "outputs": [
    {
     "name": "stdout",
     "output_type": "stream",
     "text": [
      "Number of rooms: 5 Price per room: 100.5\n",
      "Number of rooms: 5 Price per room:     100.50\n"
     ]
    }
   ],
   "source": [
    "# printing\n",
    "numRooms = 5\n",
    "price = 100.5\n",
    "\n",
    "print (\"Number of rooms:\", numRooms, \"Price per room:\", price)  # Output: Number of rooms: %d Price per room: %10.2f\" % (numRooms, price))\n",
    "\n",
    "print (\"Number of rooms: %d Price per room: %10.2f\" % (numRooms, price))\n"
   ]
  },
  {
   "cell_type": "code",
   "execution_count": null,
   "metadata": {
    "cell_id": "288610e0ee344e6a829c29648a061848",
    "deepnote_cell_type": "code",
    "deepnote_to_be_reexecuted": false,
    "execution_millis": 119,
    "execution_start": 1725358881554,
    "source_hash": null
   },
   "outputs": [
    {
     "name": "stdout",
     "output_type": "stream",
     "text": [
      "Number of rooms: 5. Price per room:     100.50\n",
      "Number of rooms: 5 Price per room:     100.50\n",
      "Number of rooms: ${numRooms} Price per room: {price}\n"
     ]
    }
   ],
   "source": [
    "# printing\n",
    "numRooms = 5\n",
    "price = 100.5\n",
    "# different formats of print statement\n",
    "print (\"Number of rooms: %d. Price per room: %10.2f\" % (numRooms, price))\n",
    "print (\"Number of rooms: {0} Price per room: {1:10.2f}\".format(numRooms, price))\n",
    "print (\"Number of rooms: {numRooms} Price per room: {price}\")"
   ]
  },
  {
   "cell_type": "code",
   "execution_count": null,
   "metadata": {
    "cell_id": "a0647ecea11d4d64808bb14a44accd7e",
    "deepnote_cell_type": "code",
    "deepnote_to_be_reexecuted": false,
    "execution_millis": 66,
    "execution_start": 1725348821684,
    "source_hash": null
   },
   "outputs": [
    {
     "name": "stdout",
     "output_type": "stream",
     "text": [
      "24\n",
      "   24\n",
      "00024\n",
      "Amount:   24\n",
      "1.219970\n",
      "1.22\n",
      "   1.22\n",
      "1.22   \n",
      "Hello\n",
      "24 1.22\n",
      "    Hello\n",
      "Hello    \n",
      "24%\n"
     ]
    }
   ],
   "source": [
    "x = 24\n",
    "y = 1.21997\n",
    "greeting = \"Hello\"\n",
    "print(\"%d\" % x)\n",
    "print(\"%5d\" % x)\n",
    "print(\"%05d\" % x)\n",
    "print(\"Amount:%5d\" % x)\n",
    "print(\"%f\" % y)\n",
    "print(\"%.2f\" % y)\n",
    "print(\"%7.2f\" % y)\n",
    "print(\"%-7.2f\" % y)\n",
    "print(\"%s\" % greeting)\n",
    "print(\"%d %.2f\" % (x,y))\n",
    "print(\"%9s\" % greeting)\n",
    "print(\"%-9s\" % greeting)\n",
    "print(\"%d%%\" % x)\n"
   ]
  },
  {
   "cell_type": "markdown",
   "metadata": {
    "cell_id": "13362efa9017456a839344206bb9ae73",
    "deepnote_cell_type": "text-cell-h1",
    "formattedRanges": []
   },
   "source": [
    "# The match Statement"
   ]
  },
  {
   "cell_type": "code",
   "execution_count": null,
   "metadata": {
    "cell_id": "42e25b21887a404d8db371b4a8ec7907",
    "deepnote_cell_type": "code",
    "deepnote_to_be_reexecuted": false,
    "execution_millis": 298,
    "execution_start": 1725354914029,
    "source_hash": null
   },
   "outputs": [
    {
     "name": "stdout",
     "output_type": "stream",
     "text": [
      "Service Unavailable\n"
     ]
    }
   ],
   "source": [
    "status_code = 505\n",
    "\n",
    "match status_code:\n",
    "    case 200:\n",
    "        print(\"OK\") \n",
    "    case 404:\n",
    "        print(\"Not Found\")\n",
    "    case 500:\n",
    "        print(\"Internal Server Error\")\n",
    "    case 503|504|505:\n",
    "        print(\"Service Unavailable\")\n",
    "    case _:\n",
    "        print(\"Unknown status code\")\n"
   ]
  },
  {
   "cell_type": "code",
   "execution_count": null,
   "metadata": {
    "cell_id": "a0b5cb8c70d942a9b60917185a1b9290",
    "deepnote_cell_type": "code",
    "deepnote_to_be_reexecuted": false,
    "execution_millis": 35,
    "execution_start": 1725355277999,
    "source_hash": null
   },
   "outputs": [
    {
     "name": "stdout",
     "output_type": "stream",
     "text": [
      "Conditions not met\n"
     ]
    }
   ],
   "source": [
    "value = (200, \"OK\")\n",
    "\n",
    "match value:\n",
    "    case (200, status) if status == \"OK\":\n",
    "        print(\"Both conditions are true\")\n",
    "    case _:\n",
    "        print(\"Conditions not met\")\n"
   ]
  },
  {
   "cell_type": "markdown",
   "metadata": {
    "cell_id": "7812b5135a6e4b10b8e7a7282c35bfe3",
    "deepnote_cell_type": "text-cell-h1",
    "formattedRanges": []
   },
   "source": [
    "# To find version of your Python"
   ]
  },
  {
   "cell_type": "code",
   "execution_count": null,
   "metadata": {
    "cell_id": "22dd06d43ae748c2a584b1b171b92e7c",
    "deepnote_cell_type": "code",
    "deepnote_to_be_reexecuted": false,
    "execution_millis": 83,
    "execution_start": 1725354954321,
    "source_hash": null
   },
   "outputs": [
    {
     "name": "stdout",
     "output_type": "stream",
     "text": [
      "3.10.12 (main, Jun 13 2023, 15:57:17) [GCC 8.3.0]\n"
     ]
    }
   ],
   "source": [
    "import sys\n",
    "print(sys.version)"
   ]
  },
  {
   "cell_type": "markdown",
   "metadata": {
    "cell_id": "970ab78a201a4e6fb614099264e02e13",
    "deepnote_cell_type": "text-cell-h1",
    "formattedRanges": []
   },
   "source": [
    "# Variants of 'for' Loop"
   ]
  },
  {
   "cell_type": "code",
   "execution_count": null,
   "metadata": {
    "cell_id": "96e52b8336b945f5b76b5dd0477e3599",
    "deepnote_cell_type": "code",
    "deepnote_to_be_reexecuted": false,
    "execution_millis": 88,
    "execution_start": 1725355536070,
    "source_hash": null
   },
   "outputs": [
    {
     "name": "stdout",
     "output_type": "stream",
     "text": [
      "apple\n",
      "banana\n",
      "cherry\n",
      "---\n",
      "0\n",
      "1\n",
      "2\n",
      "3\n",
      "4\n",
      "---\n",
      "2\n",
      "3\n",
      "4\n",
      "5\n",
      "6\n",
      "---\n",
      "0\n",
      "2\n",
      "4\n",
      "6\n",
      "8\n",
      "---\n",
      "0 apple\n",
      "1 banana\n",
      "2 cherry\n",
      "---\n",
      "name : John\n",
      "age : 30\n",
      "city : New York\n",
      "---\n",
      "H\n",
      "e\n",
      "l\n",
      "l\n",
      "o\n",
      "---\n",
      "1 2 3 \n",
      "4 5 6 \n",
      "7 8 9 \n",
      "---\n",
      "John is 23 years old\n",
      "Jane is 34 years old\n",
      "Doe is 45 years old\n",
      "---\n",
      "[0, 1, 4, 9, 16]\n",
      "---\n",
      "0\n",
      "1\n",
      "2\n",
      "3\n",
      "4\n",
      "Loop finished without break\n",
      "0\n",
      "1\n",
      "2\n",
      "---\n",
      "0\n",
      "1\n",
      "2\n",
      "----\n",
      "0\n",
      "1\n",
      "2\n",
      "4\n"
     ]
    }
   ],
   "source": [
    "# 1. Basic for loop with a list\n",
    "fruits = [\"apple\", \"banana\", \"cherry\"]\n",
    "for fruit in fruits:\n",
    "    print(fruit)\n",
    "print(\"---\")\n",
    "\n",
    "# 2. for loop with range()\n",
    "for i in range(5):\n",
    "    print(i)\n",
    "print(\"---\")\n",
    "\n",
    "# 3. for loop with range(start, stop)\n",
    "for i in range(2, 7):\n",
    "    print(i)\n",
    "print(\"---\")\n",
    "\n",
    "# 4. for loop with range(start, stop, step)\n",
    "for i in range(0, 10, 2):\n",
    "    print(i)\n",
    "print(\"---\")\n",
    "\n",
    "# 5. for loop with enumerate\n",
    "for index, fruit in enumerate(fruits):\n",
    "    print(index, fruit)\n",
    "print(\"---\")\n",
    "\n",
    "# 6. for loop with a dictionary\n",
    "person = {\"name\": \"John\", \"age\": 30, \"city\": \"New York\"}\n",
    "for key, value in person.items():\n",
    "    print(key, \":\", value)\n",
    "print(\"---\")\n",
    "\n",
    "# 7. for loop with a string\n",
    "text = \"Hello\"\n",
    "for char in text:\n",
    "    print(char)\n",
    "print(\"---\")\n",
    "\n",
    "# 8. Nested for loop\n",
    "matrix = [\n",
    "    [1, 2, 3],\n",
    "    [4, 5, 6],\n",
    "    [7, 8, 9]\n",
    "]\n",
    "for row in matrix:\n",
    "    for num in row:\n",
    "        print(num, end=\" \")\n",
    "    print()  # Newline after each row\n",
    "print(\"---\")\n",
    "\n",
    "# 9. for loop with zip()\n",
    "names = [\"John\", \"Jane\", \"Doe\"]\n",
    "ages = [23, 34, 45]\n",
    "for name, age in zip(names, ages):\n",
    "    print(name, \"is\", age, \"years old\")\n",
    "print(\"---\")\n",
    "\n",
    "# 10. for loop with list comprehension\n",
    "squares = [x**2 for x in range(5)]\n",
    "print(squares)\n",
    "print(\"---\")\n",
    "\n",
    "# 11. for loop with else\n",
    "for i in range(5):\n",
    "    print(i)\n",
    "else:\n",
    "    print(\"Loop finished without break\")\n",
    "\n",
    "# Example with break\n",
    "for i in range(5):\n",
    "    if i == 3:\n",
    "        break\n",
    "    print(i)\n",
    "else:\n",
    "    print(\"This will not print because the loop was broken\")\n",
    "print(\"---\")\n",
    "\n",
    "# 12. for loop with break and continue\n",
    "for i in range(5):\n",
    "    if i == 3:\n",
    "        break\n",
    "    print(i)\n",
    "\n",
    "print(\"----\")\n",
    "\n",
    "for i in range(5):\n",
    "    if i == 3:\n",
    "        continue\n",
    "    print(i)\n"
   ]
  },
  {
   "cell_type": "markdown",
   "metadata": {
    "cell_id": "e9bb927ef4b74d3582074a9c845b0f7b",
    "deepnote_cell_type": "text-cell-h2",
    "formattedRanges": []
   },
   "source": [
    "## The 'break' and 'else' in 'for' Loop"
   ]
  },
  {
   "cell_type": "code",
   "execution_count": null,
   "metadata": {
    "cell_id": "b47e99bfda7a490182b0138a1fb76856",
    "deepnote_cell_type": "code",
    "deepnote_to_be_reexecuted": false,
    "execution_millis": 44,
    "execution_start": 1725355919265,
    "source_hash": null
   },
   "outputs": [
    {
     "name": "stdout",
     "output_type": "stream",
     "text": [
      "3 not found in the list\n"
     ]
    }
   ],
   "source": [
    "# break statement and else\n",
    "numbers = [1, 2, 3, 4, 5]\n",
    "\n",
    "for number in numbers:\n",
    "    if number == 3:\n",
    "        print(\"Found 3!\")\n",
    "        break\n",
    "else:\n",
    "    print(\"3 not found in the list\")\n"
   ]
  },
  {
   "cell_type": "code",
   "execution_count": null,
   "metadata": {
    "cell_id": "877ef78417284cdc8caa2036a1bf8eba",
    "deepnote_cell_type": "code",
    "deepnote_to_be_reexecuted": false,
    "execution_millis": 59,
    "execution_start": 1725356164833,
    "source_hash": null
   },
   "outputs": [
    {
     "name": "stdout",
     "output_type": "stream",
     "text": [
      "Outer loop iteration 0\n",
      "  Inner loop iteration 0\n",
      "  Inner loop iteration 1\n",
      "  Inner loop breaking at j = 2\n",
      "Continuing in the outer loop\n",
      "Outer loop iteration 1\n",
      "  Inner loop iteration 0\n",
      "  Inner loop iteration 1\n",
      "  Inner loop breaking at j = 2\n",
      "Continuing in the outer loop\n",
      "Outer loop iteration 2\n",
      "  Inner loop iteration 0\n",
      "  Inner loop iteration 1\n",
      "  Inner loop breaking at j = 2\n",
      "Continuing in the outer loop\n",
      "Done with all loops\n"
     ]
    }
   ],
   "source": [
    "# effect of break in case of nested loop\n",
    "\n",
    "for i in range(3):  # Outer loop\n",
    "    print(f\"Outer loop iteration {i}\")\n",
    "    for j in range(5):  # Inner loop\n",
    "        if j == 2:\n",
    "            print(f\"  Inner loop breaking at j = {j}\")\n",
    "            break  # Breaks only the inner loop\n",
    "        print(f\"  Inner loop iteration {j}\")\n",
    "    print(\"Continuing in the outer loop\")\n",
    "\n",
    "print(\"Done with all loops\")\n"
   ]
  },
  {
   "cell_type": "markdown",
   "metadata": {
    "cell_id": "e27e62c21df8405480478d714bc2117e",
    "deepnote_cell_type": "text-cell-h1",
    "formattedRanges": []
   },
   "source": [
    "# The pass Statement"
   ]
  },
  {
   "cell_type": "code",
   "execution_count": null,
   "metadata": {
    "cell_id": "742498ee9840423f962e36fec851efaa",
    "deepnote_cell_type": "code",
    "deepnote_to_be_reexecuted": false,
    "execution_millis": 93,
    "execution_start": 1725356253493,
    "source_hash": null
   },
   "outputs": [],
   "source": [
    "# pass statement: null operation\n",
    "\n",
    "def future_function():\n",
    "    pass  # TODO: Implement this function later\n"
   ]
  },
  {
   "cell_type": "markdown",
   "metadata": {
    "cell_id": "9f2418c99ab34714ae5434030e2184a4",
    "deepnote_cell_type": "text-cell-h1",
    "formattedRanges": []
   },
   "source": [
    "# The while Loop"
   ]
  },
  {
   "cell_type": "code",
   "execution_count": null,
   "metadata": {
    "cell_id": "6fb14d396d7f4068854ace71505ec07c",
    "deepnote_cell_type": "code",
    "deepnote_to_be_reexecuted": false,
    "execution_millis": 104,
    "execution_start": 1725356579861,
    "source_hash": null
   },
   "outputs": [
    {
     "name": "stdout",
     "output_type": "stream",
     "text": [
      "5\n",
      "4\n",
      "3\n",
      "2\n",
      "1\n",
      "Loop finished without break\n"
     ]
    }
   ],
   "source": [
    "n = 5\n",
    "\n",
    "while n > 0:\n",
    "    print(n)\n",
    "    if n == 20:\n",
    "        break\n",
    "    n -= 1\n",
    "else:\n",
    "    print(\"Loop finished without break\")\n"
   ]
  },
  {
   "cell_type": "code",
   "execution_count": null,
   "metadata": {
    "cell_id": "e38a397419104905bc90433cd36d95a9",
    "deepnote_cell_type": "code",
    "deepnote_to_be_reexecuted": false,
    "execution_millis": 92,
    "execution_start": 1725356980745,
    "source_hash": null
   },
   "outputs": [
    {
     "name": "stdout",
     "output_type": "stream",
     "text": [
      "0#1#1#2#3#5#8#13#21#34#55#89#144#233#377#610#987#"
     ]
    }
   ],
   "source": [
    "\n",
    "def fib(n):\n",
    "    a, b = 0, 1\n",
    "    while a < n:\n",
    "        print(a, end=' ')\n",
    "        a, b = b, a+b\n",
    "        print()\n",
    "fib(1000)"
   ]
  },
  {
   "cell_type": "markdown",
   "metadata": {
    "cell_id": "b98d20ea1229425cb84936562a3ad89c",
    "deepnote_cell_type": "text-cell-h1",
    "formattedRanges": []
   },
   "source": [
    "# Functions"
   ]
  },
  {
   "cell_type": "code",
   "execution_count": null,
   "metadata": {
    "cell_id": "911d16fd9f82438bbc3b4c6c3983a6a7",
    "deepnote_cell_type": "code",
    "deepnote_to_be_reexecuted": false,
    "execution_millis": 80,
    "execution_start": 1725357421233,
    "source_hash": null
   },
   "outputs": [
    {
     "name": "stdout",
     "output_type": "stream",
     "text": [
      "Interest with default rate and time: 50.0\n",
      "Interest with custom rate: 70.0\n",
      "Interest with custom time period: 140.0\n",
      "Interest with custom rate and time: 120.0\n"
     ]
    }
   ],
   "source": [
    "# function with default arguments\n",
    "\n",
    "def calculate_interest(balance, interest_rate=0.05, time_period=1):\n",
    "    \"\"\"\n",
    "    Calculates the interest on a given balance with a specified interest rate and time period.\n",
    "    If the interest rate or time period is not provided, it uses the default values of 5% interest rate\n",
    "    and 1 year time period.\n",
    "    \n",
    "    :param balance: The initial balance on which interest is calculated.\n",
    "    :param interest_rate: The interest rate (default is 5%).\n",
    "    :param time_period: The time period in years (default is 1 year).\n",
    "    :return: The interest accrued.\n",
    "    \"\"\"\n",
    "    interest = balance * interest_rate * time_period\n",
    "    return interest\n",
    "\n",
    "# Example usage\n",
    "interest_rate=0.07\n",
    "time_period=2\n",
    "print(\"Interest with default rate and time:\", calculate_interest(1000))  # Default interest rate and time period\n",
    "print(\"Interest with custom rate:\", calculate_interest(1000, interest_rate))  # Custom interest rate, default time period\n",
    "print(\"Interest with custom time period:\", calculate_interest(1000, interest_rate, time_period))  #\n",
    "print(\"Interest with custom rate and time:\", calculate_interest(1000, interest_rate=0.04, time_period=3))  # \n"
   ]
  },
  {
   "cell_type": "code",
   "execution_count": null,
   "metadata": {
    "cell_id": "a19113cfb0654e1aa77038f211407622",
    "deepnote_cell_type": "code"
   },
   "outputs": [],
   "source": [
    "def calculate_interest(balance, interest_rate=0.05, time_period=1):\n",
    "    \"\"\"\n",
    "    Calculates the interest on a given balance with a specified interest rate and time period.\n",
    "    If the interest rate or time period is not provided, it uses the default values of 5% interest rate\n",
    "    and 1 year time period.\n",
    "    \n",
    "    :param balance: The initial balance on which interest is calculated.\n",
    "    :param interest_rate: The interest rate (default is 5%).\n",
    "    :param time_period: The time period in years (default is 1 year).\n",
    "    :return: The interest accrued.\n",
    "    \"\"\"\n",
    "    interest = balance * interest_rate * time_period\n",
    "    return interest\n",
    "\n",
    "# Example usage\n",
    "print(\"Interest with default rate and time:\", calculate_interest(1000))  # Default interest rate and time period\n",
    "print(\"Interest with custom rate:\", calculate_interest(1000, interest_rate=0.07))  # Custom interest rate, default time period\n",
    "print(\"Interest with custom time period:\", calculate_interest(1000, time_period=2))  # Default interest rate, custom time period\n",
    "print(\"Interest with custom rate and time:\", calculate_interest(1000, interest_rate=0.04, time_period=3))  # Custom interest rate and time period\n"
   ]
  },
  {
   "cell_type": "code",
   "execution_count": null,
   "metadata": {
    "cell_id": "3f3aeb4e02cd47858d8a5085c4eb7af9",
    "deepnote_cell_type": "code",
    "deepnote_to_be_reexecuted": false,
    "execution_millis": 114,
    "execution_start": 1725357582721,
    "source_hash": null
   },
   "outputs": [
    {
     "name": "stdout",
     "output_type": "stream",
     "text": [
      "5\n",
      "5\n",
      "5\n",
      "5\n"
     ]
    }
   ],
   "source": [
    "i = 5\n",
    "def f(arg=i):\n",
    "    print(arg)\n",
    "    i = 6\n",
    "f()\n",
    "f(i)\n",
    "f()\n",
    "f()\n"
   ]
  },
  {
   "cell_type": "code",
   "execution_count": null,
   "metadata": {
    "cell_id": "e9f8602a052140e1aa2403b3b624181d",
    "deepnote_cell_type": "code",
    "deepnote_to_be_reexecuted": false,
    "execution_millis": 72,
    "execution_start": 1725358238981,
    "source_hash": null
   },
   "outputs": [],
   "source": [
    "def calculate_monthly_payment(principal, annual_interest_rate, years):\n",
    "    \"\"\"\n",
    "    Calculate the monthly payment on a loan.\n",
    "\n",
    "    :param principal: The loan amount.\n",
    "    :param annual_interest_rate: The annual interest rate (in percentage).\n",
    "    :param years: The term of the loan in years.\n",
    "    :return: The monthly payment amount.\n",
    "    \"\"\"\n",
    "    monthly_interest_rate = annual_interest_rate / 100 / 12\n",
    "    number_of_payments = years * 12\n",
    "    monthly_payment = (principal * monthly_interest_rate) / (1 - (1 + monthly_interest_rate) ** -number_of_payments)\n",
    "    return monthly_payment\n"
   ]
  },
  {
   "cell_type": "code",
   "execution_count": null,
   "metadata": {
    "cell_id": "5cbe3b5604484bc380c21e1cd34b5ed5",
    "deepnote_cell_type": "code",
    "deepnote_to_be_reexecuted": false,
    "execution_millis": 80,
    "execution_start": 1725358250676,
    "source_hash": null
   },
   "outputs": [
    {
     "name": "stdout",
     "output_type": "stream",
     "text": [
      "Monthly Payment (Positional): $536.82\n"
     ]
    }
   ],
   "source": [
    "# Using positional arguments\n",
    "principal = 100000  # $100,000 loan\n",
    "annual_interest_rate = 5  # 5% annual interest rate\n",
    "years = 30  # 30-year loan\n",
    "\n",
    "monthly_payment = calculate_monthly_payment(principal, annual_interest_rate, years)\n",
    "print(f\"Monthly Payment (Positional): ${monthly_payment:.2f}\")\n"
   ]
  },
  {
   "cell_type": "code",
   "execution_count": null,
   "metadata": {
    "cell_id": "6f2c8dbfc0614c5199d4c11d4a5f8002",
    "deepnote_cell_type": "code",
    "deepnote_to_be_reexecuted": false,
    "execution_millis": 46,
    "execution_start": 1725358262733,
    "source_hash": null
   },
   "outputs": [
    {
     "name": "stdout",
     "output_type": "stream",
     "text": [
      "Monthly Payment (Keyword): $536.82\n"
     ]
    }
   ],
   "source": [
    "# Using keyword arguments\n",
    "monthly_payment = calculate_monthly_payment(principal=100000, annual_interest_rate=5, years=30)\n",
    "print(f\"Monthly Payment (Keyword): ${monthly_payment:.2f}\")\n"
   ]
  },
  {
   "cell_type": "code",
   "execution_count": null,
   "metadata": {
    "cell_id": "8a126b70806a42f49efffbe89c65f3b4",
    "deepnote_cell_type": "code",
    "deepnote_to_be_reexecuted": false,
    "execution_millis": 31,
    "execution_start": 1725358304575,
    "source_hash": null
   },
   "outputs": [
    {
     "name": "stdout",
     "output_type": "stream",
     "text": [
      "Monthly Payment (Mixed): $536.82\n"
     ]
    }
   ],
   "source": [
    "# Mixing positional and keyword arguments\n",
    "monthly_payment = calculate_monthly_payment(100000, annual_interest_rate=5, years=30)\n",
    "print(f\"Monthly Payment (Mixed): ${monthly_payment:.2f}\")"
   ]
  },
  {
   "cell_type": "code",
   "execution_count": null,
   "metadata": {
    "cell_id": "a02adf9303b44b1bba8bb309201a0535",
    "deepnote_cell_type": "code",
    "deepnote_to_be_reexecuted": false,
    "execution_millis": 64,
    "execution_start": 1725358742085,
    "source_hash": null
   },
   "outputs": [
    {
     "name": "stdout",
     "output_type": "stream",
     "text": [
      "Interest (default values): $304.16\n",
      "Interest (custom interest rate): $511.62\n",
      "Interest (custom years): $1616.17\n",
      "Interest (custom compounding frequency): $303.39\n",
      "Interest (all custom values): $1261.62\n"
     ]
    }
   ],
   "source": [
    "def calculate_interest(balance, annual_interest_rate=3, years=1, compounding_frequency=12):\n",
    "    \"\"\"\n",
    "    Calculate the interest earned on a savings account balance over a specified period.\n",
    "\n",
    "    :param balance: The initial amount in the savings account.\n",
    "    :param annual_interest_rate: The annual interest rate (default is 3%).\n",
    "    :param years: The number of years the money is invested (default is 1 year).\n",
    "    :param compounding_frequency: The number of times interest is compounded per year (default is 12 for monthly compounding).\n",
    "    :return: The total interest earned.\n",
    "    \"\"\"\n",
    "    # Convert the annual interest rate from a percentage to a decimal\n",
    "    rate = annual_interest_rate / 100\n",
    "\n",
    "    # Calculate the compound interest\n",
    "    total_amount = balance * (1 + rate / compounding_frequency) ** (compounding_frequency * years)\n",
    "\n",
    "    # The interest earned is the total amount minus the initial balance\n",
    "    interest_earned = total_amount - balance\n",
    "\n",
    "    return interest_earned\n",
    "\n",
    "# Example usage\n",
    "print(f\"Interest (default values): ${calculate_interest(10000):.2f}\")\n",
    "print(f\"Interest (custom interest rate): ${calculate_interest(10000, annual_interest_rate=5):.2f}\")\n",
    "print(f\"Interest (custom years): ${calculate_interest(10000, years=5):.2f}\")\n",
    "print(f\"Interest (custom compounding frequency): ${calculate_interest(10000, compounding_frequency=4):.2f}\")\n",
    "print(f\"Interest (all custom values): ${calculate_interest(10000, annual_interest_rate=4, years=3, compounding_frequency=2):.2f}\")\n"
   ]
  },
  {
   "cell_type": "code",
   "execution_count": null,
   "metadata": {
    "cell_id": "024c9feb04f44863846addf0eb27c9e1",
    "deepnote_cell_type": "code",
    "deepnote_to_be_reexecuted": false,
    "execution_millis": 88,
    "execution_start": 1725364865537,
    "source_hash": null
   },
   "outputs": [],
   "source": [
    "def calculate(param1, param2=10, param3=100, param4=1000):\n",
    "    print(param1, end=\" \")\n",
    "    print(param2, end=\" \")\n",
    "    print(param3, end=\" \")\n",
    "    print(param4, end=\" \")\n",
    "    print()\n",
    "\n",
    "calculate(1) # 1 positional argument\n",
    "calculate(param1=2) # 1 keyword argument\n",
    "calculate(param1=2, param3=200) # 2 keyword arguments\n",
    "calculate(param3=200, param1=2) # 2 keyword arguments\n",
    "calculate(3, 30, 300) # 3 positional arguments\n",
    "calculate(4, param2=40) # 1 positional and 1 keyword argument\n"
   ]
  },
  {
   "cell_type": "code",
   "execution_count": null,
   "metadata": {
    "cell_id": "0fa6cb97c1b942a7bec4a57fe74c02a9",
    "deepnote_cell_type": "code",
    "deepnote_to_be_reexecuted": false,
    "execution_millis": 106,
    "execution_start": 1725364810481,
    "source_hash": null
   },
   "outputs": [],
   "source": [
    "calculate() # required argument missing\n",
    "calculate(param1=5, 50) # positional argument follows keyword argument\n",
    "calculate(6, param1=60) # duplicate value for the same argument\n",
    "calculate(param10=1000) # invalid argument name"
   ]
  },
  {
   "cell_type": "code",
   "execution_count": null,
   "metadata": {
    "cell_id": "155dd100544b472e93d5a28e979c4e6b",
    "deepnote_cell_type": "code",
    "deepnote_to_be_reexecuted": false,
    "execution_millis": 93,
    "execution_start": 1725365099200,
    "source_hash": null
   },
   "outputs": [
    {
     "name": "stdout",
     "output_type": "stream",
     "text": [
      "Inside function: 10\n"
     ]
    },
    {
     "ename": "NameError",
     "evalue": "name 'x' is not defined",
     "output_type": "error",
     "traceback": [
      "\u001b[0;31m---------------------------------------------------------------------------\u001b[0m",
      "\u001b[0;31mNameError\u001b[0m                                 Traceback (most recent call last)",
      "Cell \u001b[0;32mIn [10], line 8\u001b[0m\n\u001b[1;32m      5\u001b[0m     \u001b[38;5;28mprint\u001b[39m(\u001b[38;5;124m\"\u001b[39m\u001b[38;5;124mInside function:\u001b[39m\u001b[38;5;124m\"\u001b[39m, x)\n\u001b[1;32m      7\u001b[0m my_function()\n\u001b[0;32m----> 8\u001b[0m \u001b[38;5;28mprint\u001b[39m(\u001b[38;5;124m\"\u001b[39m\u001b[38;5;124mOutside function:\u001b[39m\u001b[38;5;124m\"\u001b[39m, \u001b[43mx\u001b[49m)\n",
      "\u001b[0;31mNameError\u001b[0m: name 'x' is not defined"
     ]
    }
   ],
   "source": [
    "# local variables\n",
    "\n",
    "def my_function():\n",
    "    x = 10  # Local variable\n",
    "    print(\"Inside function:\", x)\n",
    "\n",
    "my_function()\n",
    "print(\"Outside function:\", x)  # Raises an error\n",
    "\n"
   ]
  },
  {
   "cell_type": "code",
   "execution_count": null,
   "metadata": {
    "cell_id": "8a5b7a2bac2943d2bbd7858c3c3a8fc6",
    "deepnote_cell_type": "code",
    "deepnote_to_be_reexecuted": false,
    "execution_millis": 80,
    "execution_start": 1725365142677,
    "source_hash": null
   },
   "outputs": [
    {
     "name": "stdout",
     "output_type": "stream",
     "text": [
      "Inside function: 20\n",
      "Outside function: 20\n"
     ]
    }
   ],
   "source": [
    "y = 20  # Global variable\n",
    "\n",
    "def another_function():\n",
    "    print(\"Inside function:\", y)\n",
    "\n",
    "another_function()\n",
    "print(\"Outside function:\", y)\n"
   ]
  },
  {
   "cell_type": "code",
   "execution_count": null,
   "metadata": {
    "cell_id": "1b4a7b23cc5b422999a84a60069bf8bb",
    "deepnote_cell_type": "code",
    "deepnote_to_be_reexecuted": false,
    "execution_millis": 62,
    "execution_start": 1725365245799,
    "source_hash": null
   },
   "outputs": [
    {
     "name": "stdout",
     "output_type": "stream",
     "text": [
      "Inside function: 5\n",
      "Outside function: 30\n"
     ]
    }
   ],
   "source": [
    "#\n",
    "z = 30  # Global variable\n",
    "\n",
    "def display():\n",
    "    z = 5  # Local variable\n",
    "    print(\"Inside function:\", z)\n",
    "\n",
    "display()\n",
    "print(\"Outside function:\", z)\n",
    "\n"
   ]
  },
  {
   "cell_type": "code",
   "execution_count": null,
   "metadata": {
    "cell_id": "3ffac430b4fc4db2a884e042d90b35fb",
    "deepnote_cell_type": "code",
    "deepnote_to_be_reexecuted": false,
    "execution_millis": 61,
    "execution_start": 1725365674363,
    "source_hash": null
   },
   "outputs": [
    {
     "name": "stdout",
     "output_type": "stream",
     "text": [
      "Outside function: 30\n",
      "Inside function: 5\n",
      "Outside function: 5\n"
     ]
    }
   ],
   "source": [
    "# \n",
    "z = 30  # Global variable\n",
    "\n",
    "def display():\n",
    "    global z  # Correctly reference the global variable\n",
    "    z = 5\n",
    "    print(\"Inside function:\", z)\n",
    "\n",
    "print(\"Outside function:\", z)\n",
    "display()\n",
    "print(\"Outside function:\", z)\n"
   ]
  },
  {
   "cell_type": "code",
   "execution_count": 1,
   "metadata": {
    "cell_id": "51b269cecefe4bc183dac527961ebd03",
    "deepnote_cell_type": "code",
    "deepnote_to_be_reexecuted": false,
    "execution_millis": 56,
    "execution_start": 1725366228097,
    "source_hash": null
   },
   "outputs": [
    {
     "name": "stdout",
     "output_type": "stream",
     "text": [
      "Outside inner function: 20\n"
     ]
    }
   ],
   "source": [
    "# how to modify a nonlocal variable inside a function\n",
    "x = 100\n",
    "def outer_function():\n",
    "    x = 10  # Local variable of the outer function\n",
    "    def inner_function():\n",
    "        nonlocal x\n",
    "        x = 20  # Modify the outer function's variable\n",
    "    inner_function()\n",
    "    print(\"Outside inner function:\", x)\n",
    "\n",
    "outer_function()\n"
   ]
  },
  {
   "cell_type": "code",
   "execution_count": null,
   "metadata": {
    "cell_id": "0427dd6efc12489395b32fd662011b0f",
    "deepnote_cell_type": "code",
    "deepnote_to_be_reexecuted": false,
    "execution_millis": 70,
    "execution_start": 1725365367241,
    "source_hash": null
   },
   "outputs": [
    {
     "ename": "NameError",
     "evalue": "name 'b' is not defined",
     "output_type": "error",
     "traceback": [
      "\u001b[0;31m---------------------------------------------------------------------------\u001b[0m",
      "\u001b[0;31mNameError\u001b[0m                                 Traceback (most recent call last)",
      "Cell \u001b[0;32mIn [13], line 11\u001b[0m\n\u001b[1;32m      9\u001b[0m         \u001b[38;5;28mprint\u001b[39m(\u001b[38;5;124m\"\u001b[39m\u001b[38;5;124mInside inner function:\u001b[39m\u001b[38;5;124m\"\u001b[39m, a, b, c)\n\u001b[1;32m     10\u001b[0m     inner_function()\n\u001b[0;32m---> 11\u001b[0m \u001b[38;5;28mprint\u001b[39m(\u001b[38;5;124m\"\u001b[39m\u001b[38;5;124mOutside functions:\u001b[39m\u001b[38;5;124m\"\u001b[39m, a, \u001b[43mb\u001b[49m)\n",
      "\u001b[0;31mNameError\u001b[0m: name 'b' is not defined"
     ]
    }
   ],
   "source": [
    "# how to modify a global variable inside a function\n",
    "\n",
    "a = 50  # Global variable\n",
    "\n",
    "def outer_function():\n",
    "    b = 25  # Outer function's local variable\n",
    "    def inner_function():\n",
    "        c = 15  # Inner function's local variable\n",
    "        print(\"Inside inner function:\", a, b, c)\n",
    "    inner_function()\n",
    "print(\"Outside functions:\", a, b)  # Raises an error for 'b'\n"
   ]
  },
  {
   "cell_type": "markdown",
   "metadata": {},
   "source": [
    "### Incearca sa ghicesti ce outputuri dau inainte sa le rulezi"
   ]
  },
  {
   "cell_type": "code",
   "execution_count": null,
   "metadata": {},
   "outputs": [],
   "source": [
    "#range(start,end,step)\n",
    "#returns the specified range without including end\n",
    "\n",
    "for i in range(5):\n",
    "    print(i)\n",
    "\n",
    "print(list(range(5,10)))\n",
    "print(list(range(0,10,3)))\n",
    "print(list(range(-10,-100,-30)))\n",
    "print(5,2,-3)\n"
   ]
  },
  {
   "cell_type": "markdown",
   "metadata": {},
   "source": [
    "### `continue`"
   ]
  },
  {
   "cell_type": "code",
   "execution_count": 6,
   "metadata": {},
   "outputs": [
    {
     "name": "stdout",
     "output_type": "stream",
     "text": [
      "1 3 5 7 9 "
     ]
    }
   ],
   "source": [
    "for i in range(10):\n",
    "    if i % 2 == 0:\n",
    "        continue\n",
    "    print(i, end=\" \")"
   ]
  },
  {
   "cell_type": "markdown",
   "metadata": {
    "created_in_deepnote_cell": true,
    "deepnote_cell_type": "markdown"
   },
   "source": [
    "<a style='text-decoration:none;line-height:16px;display:flex;color:#5B5B62;padding:10px;justify-content:end;' href='https://deepnote.com?utm_source=created-in-deepnote-cell&projectId=5a8ae697-bb97-4705-a855-0921a1d17899' target=\"_blank\">\n",
    "<img alt='Created in deepnote.com' style='display:inline;max-height:16px;margin:0px;margin-right:7.5px;' src='data:image/svg+xml;base64,PD94bWwgdmVyc2lvbj0iMS4wIiBlbmNvZGluZz0iVVRGLTgiPz4KPHN2ZyB3aWR0aD0iODBweCIgaGVpZ2h0PSI4MHB4IiB2aWV3Qm94PSIwIDAgODAgODAiIHZlcnNpb249IjEuMSIgeG1sbnM9Imh0dHA6Ly93d3cudzMub3JnLzIwMDAvc3ZnIiB4bWxuczp4bGluaz0iaHR0cDovL3d3dy53My5vcmcvMTk5OS94bGluayI+CiAgICA8IS0tIEdlbmVyYXRvcjogU2tldGNoIDU0LjEgKDc2NDkwKSAtIGh0dHBzOi8vc2tldGNoYXBwLmNvbSAtLT4KICAgIDx0aXRsZT5Hcm91cCAzPC90aXRsZT4KICAgIDxkZXNjPkNyZWF0ZWQgd2l0aCBTa2V0Y2guPC9kZXNjPgogICAgPGcgaWQ9IkxhbmRpbmciIHN0cm9rZT0ibm9uZSIgc3Ryb2tlLXdpZHRoPSIxIiBmaWxsPSJub25lIiBmaWxsLXJ1bGU9ImV2ZW5vZGQiPgogICAgICAgIDxnIGlkPSJBcnRib2FyZCIgdHJhbnNmb3JtPSJ0cmFuc2xhdGUoLTEyMzUuMDAwMDAwLCAtNzkuMDAwMDAwKSI+CiAgICAgICAgICAgIDxnIGlkPSJHcm91cC0zIiB0cmFuc2Zvcm09InRyYW5zbGF0ZSgxMjM1LjAwMDAwMCwgNzkuMDAwMDAwKSI+CiAgICAgICAgICAgICAgICA8cG9seWdvbiBpZD0iUGF0aC0yMCIgZmlsbD0iIzAyNjVCNCIgcG9pbnRzPSIyLjM3NjIzNzYyIDgwIDM4LjA0NzY2NjcgODAgNTcuODIxNzgyMiA3My44MDU3NTkyIDU3LjgyMTc4MjIgMzIuNzU5MjczOSAzOS4xNDAyMjc4IDMxLjY4MzE2ODMiPjwvcG9seWdvbj4KICAgICAgICAgICAgICAgIDxwYXRoIGQ9Ik0zNS4wMDc3MTgsODAgQzQyLjkwNjIwMDcsNzYuNDU0OTM1OCA0Ny41NjQ5MTY3LDcxLjU0MjI2NzEgNDguOTgzODY2LDY1LjI2MTk5MzkgQzUxLjExMjI4OTksNTUuODQxNTg0MiA0MS42NzcxNzk1LDQ5LjIxMjIyODQgMjUuNjIzOTg0Niw0OS4yMTIyMjg0IEMyNS40ODQ5Mjg5LDQ5LjEyNjg0NDggMjkuODI2MTI5Niw0My4yODM4MjQ4IDM4LjY0NzU4NjksMzEuNjgzMTY4MyBMNzIuODcxMjg3MSwzMi41NTQ0MjUgTDY1LjI4MDk3Myw2Ny42NzYzNDIxIEw1MS4xMTIyODk5LDc3LjM3NjE0NCBMMzUuMDA3NzE4LDgwIFoiIGlkPSJQYXRoLTIyIiBmaWxsPSIjMDAyODY4Ij48L3BhdGg+CiAgICAgICAgICAgICAgICA8cGF0aCBkPSJNMCwzNy43MzA0NDA1IEwyNy4xMTQ1MzcsMC4yNTcxMTE0MzYgQzYyLjM3MTUxMjMsLTEuOTkwNzE3MDEgODAsMTAuNTAwMzkyNyA4MCwzNy43MzA0NDA1IEM4MCw2NC45NjA0ODgyIDY0Ljc3NjUwMzgsNzkuMDUwMzQxNCAzNC4zMjk1MTEzLDgwIEM0Ny4wNTUzNDg5LDc3LjU2NzA4MDggNTMuNDE4MjY3Nyw3MC4zMTM2MTAzIDUzLjQxODI2NzcsNTguMjM5NTg4NSBDNTMuNDE4MjY3Nyw0MC4xMjg1NTU3IDM2LjMwMzk1NDQsMzcuNzMwNDQwNSAyNS4yMjc0MTcsMzcuNzMwNDQwNSBDMTcuODQzMDU4NiwzNy43MzA0NDA1IDkuNDMzOTE5NjYsMzcuNzMwNDQwNSAwLDM3LjczMDQ0MDUgWiIgaWQ9IlBhdGgtMTkiIGZpbGw9IiMzNzkzRUYiPjwvcGF0aD4KICAgICAgICAgICAgPC9nPgogICAgICAgIDwvZz4KICAgIDwvZz4KPC9zdmc+' > </img>\n",
    "Created in <span style='font-weight:600;margin-left:4px;'>Deepnote</span></a>"
   ]
  }
 ],
 "metadata": {
  "deepnote_execution_queue": [],
  "deepnote_notebook_id": "c7b04b0ecc3c4cc7b9b0bd56fb3b9e73",
  "kernelspec": {
   "display_name": "base",
   "language": "python",
   "name": "python3"
  },
  "language_info": {
   "codemirror_mode": {
    "name": "ipython",
    "version": 3
   },
   "file_extension": ".py",
   "mimetype": "text/x-python",
   "name": "python",
   "nbconvert_exporter": "python",
   "pygments_lexer": "ipython3",
   "version": "3.12.7"
  }
 },
 "nbformat": 4,
 "nbformat_minor": 0
}
