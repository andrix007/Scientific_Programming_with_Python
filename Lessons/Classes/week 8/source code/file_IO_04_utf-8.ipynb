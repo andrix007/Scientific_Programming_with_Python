{
 "cells": [
  {
   "cell_type": "markdown",
   "id": "3229b8f9-e95c-4b6b-b9d1-0e4bc6fdcb9f",
   "metadata": {},
   "source": [
    "There is a difference between the **number of characters** and the **number of bytes** when dealing with Unicode characters and their encoding in UTF-8.\n",
    "\n",
    "Let's break down what's happening in our code:\n"
   ]
  },
  {
   "cell_type": "code",
   "execution_count": 1,
   "id": "34f30ff3-34ee-44e1-ac9c-59f67451beff",
   "metadata": {},
   "outputs": [
    {
     "name": "stdout",
     "output_type": "stream",
     "text": [
      "2\n"
     ]
    }
   ],
   "source": [
    "# write two unicode characters to file\n",
    "with open('unicode_test_write.txt', 'w', encoding=\"utf-8\") as f:\n",
    "    # code point < 128 and code point > 128\n",
    "    num_char = f.write(\"\\u0041\\u0394\")\n",
    "    #\n",
    "    print(num_char)"
   ]
  },
  {
   "cell_type": "markdown",
   "id": "7349fa80-0b62-4080-b976-00f8f26529d2",
   "metadata": {},
   "source": [
    "- **`\\u0041`** corresponds to **'A'**, which is a character with a Unicode code point less than 128.\n",
    "- **`\\u0394`** corresponds to **'Δ'** (Greek capital letter Delta), which has a Unicode code point greater than 128.\n",
    "\n",
    "When you call `f.write(\"\\u0041\\u0394\")`, you're writing **two characters** to the file:\n",
    "\n",
    "1. `'A'` (Unicode code point U+0041)\n",
    "2. `'Δ'` (Unicode code point U+0394)\n",
    "\n",
    "The `write()` method returns the number of **characters** written, which in this case is `2`. So `num_char` is `2`, and `print(num_char)` outputs:\n",
    "\n",
    "```\n",
    "2\n",
    "```\n",
    "\n",
    "Now, let's examine how these characters are encoded in UTF-8 and why the total number of **bytes** is `3`.\n",
    "\n",
    "### UTF-8 Encoding\n",
    "\n",
    "- **UTF-8** is a variable-length character encoding for Unicode.\n",
    "- Characters are encoded using 1 to 4 bytes, depending on their code points.\n",
    "\n",
    "#### Encoding 'A' (U+0041)\n",
    "\n",
    "- Code point: U+0041 (65 in decimal)\n",
    "- Since it's less than 128, it's encoded in **1 byte**.\n",
    "- Binary representation: `01000001`\n",
    "- Hexadecimal representation: `0x41`\n",
    "\n",
    "#### Encoding 'Δ' (U+0394)\n",
    "\n",
    "- Code point: U+0394 (916 in decimal)\n",
    "- Since it's between 128 and 2047, it's encoded in **2 bytes**.\n",
    "- Binary representation of code point: `0000 0011 1001 0100`\n",
    "\n",
    "**UTF-8 Encoding Steps for 'Δ':**\n",
    "\n",
    "1. **Convert the code point to binary:**\n",
    "\n",
    "   ```\n",
    "   U+0394 => 916 decimal => 1110010100 binary\n",
    "   ```\n",
    "\n",
    "   This gives us 10 bits: `1110010100`\n",
    "\n",
    "2. **Pad to 11 bits if necessary:**\n",
    "\n",
    "   ```\n",
    "   Bits: 0 1110010100 (now we have 11 bits)\n",
    "   ```\n",
    "\n",
    "3. **Split the bits into two parts:**\n",
    "\n",
    "   - First byte: Bits 1-5 (from the left)\n",
    "   - Second byte: Bits 6-11\n",
    "\n",
    "4. **Apply UTF-8 encoding format for 2-byte characters:**\n",
    "\n",
    "   - **First byte format:** `110xxxxx`\n",
    "   - **Second byte format:** `10xxxxxx`\n",
    "\n",
    "5. **Fill in the bits:**\n",
    "\n",
    "   - **First byte:**\n",
    "\n",
    "     ```\n",
    "     110xxxxx\n",
    "     xxxxx = bits 1-5 = 0 1110\n",
    "     First byte: 11001110\n",
    "     ```\n",
    "\n",
    "   - **Second byte:**\n",
    "\n",
    "     ```\n",
    "     10xxxxxx\n",
    "     xxxxxx = bits 6-11 = 010100\n",
    "     Second byte: 10010100\n",
    "     ```\n",
    "\n",
    "6. **Convert bytes to hexadecimal:**\n",
    "\n",
    "   - **First byte:** `11001110` => `0xCE`\n",
    "   - **Second byte:** `10010100` => `0x94`\n",
    "\n",
    "So, the UTF-8 encoding of `'Δ'` is the byte sequence `0xCE 0x94`.\n",
    "\n",
    "### Total Bytes Written\n",
    "\n",
    "- **'A'** is encoded as `0x41` (1 byte).\n",
    "- **'Δ'** is encoded as `0xCE 0x94` (2 bytes).\n",
    "- **Total bytes:** `1 + 2 = 3 bytes`\n",
    "\n",
    "### Reading the File in Binary Mode\n"
   ]
  },
  {
   "cell_type": "code",
   "execution_count": 2,
   "id": "be1100e3-0546-426a-a365-7ecc1224d29a",
   "metadata": {},
   "outputs": [
    {
     "name": "stdout",
     "output_type": "stream",
     "text": [
      "[b'A\\xce\\x94']\n",
      "AΔ\n",
      "b'A'\n",
      "b'\\xce'\n",
      "b'\\x94'\n",
      "b''\n",
      "Length of two unicode characters is: 3, WHY???\n"
     ]
    }
   ],
   "source": [
    "with open('unicode_test_write.txt', 'br') as f:\n",
    "    print(list(f))\n",
    "    f.seek(0)\n",
    "    print(f.read().decode())\n",
    "    f.seek(0)\n",
    "    print(f.read(1))\n",
    "    print(f.read(1))\n",
    "    print(f.read(1))\n",
    "    print(f.read(1))\n",
    "    print(f\"Length of two unicode characters is: {len(str.encode('AΔ'))}, WHY???\")\n"
   ]
  },
  {
   "cell_type": "markdown",
   "id": "4556f79c-05b1-438f-9499-9959476c88e8",
   "metadata": {},
   "source": [
    "- **`list(f)`**: Reads the file line by line in binary mode, resulting in:\n",
    "\n",
    "  ```\n",
    "  [b'A\\xce\\x94']\n",
    "  ```\n",
    "\n",
    "  This shows that the file contains the bytes `0x41`, `0xCE`, `0x94`.\n",
    "\n",
    "- **`f.read().decode()`**: Reads all bytes and decodes them using UTF-8, resulting in:\n",
    "\n",
    "  ```\n",
    "  AΔ\n",
    "  ```\n",
    "\n",
    "- **Reading byte by byte:**\n"
   ]
  },
  {
   "cell_type": "code",
   "execution_count": 3,
   "id": "e85ab315-ccfa-44b3-afaf-1927fef9d845",
   "metadata": {},
   "outputs": [
    {
     "name": "stdout",
     "output_type": "stream",
     "text": [
      "b'A'\n",
      "b'\\xce'\n",
      "b'\\x94'\n",
      "b''\n"
     ]
    }
   ],
   "source": [
    "with open('unicode_test_write.txt', 'br') as f:\n",
    "    f.seek(0)\n",
    "    print(f.read(1))  # Outputs: b'A' (0x41)\n",
    "    print(f.read(1))  # Outputs: b'\\xce' (0xCE)\n",
    "    print(f.read(1))  # Outputs: b'\\x94' (0x94)\n",
    "    print(f.read(1))  # Outputs: b'' (End of file)\n",
    "\n"
   ]
  },
  {
   "cell_type": "markdown",
   "id": "8ace5103-486d-42e2-945c-3ec1a310a642",
   "metadata": {},
   "source": [
    "\n",
    "### Length of Encoded String\n",
    "\n"
   ]
  },
  {
   "cell_type": "code",
   "execution_count": 6,
   "id": "5353d022-674b-4b78-93ce-d9b8f165882e",
   "metadata": {},
   "outputs": [
    {
     "name": "stdout",
     "output_type": "stream",
     "text": [
      "Length of two unicode characters is: 3, WHY???\n"
     ]
    }
   ],
   "source": [
    "print(f\"Length of two unicode characters is: {len(str.encode('AΔ'))}, WHY???\")\n"
   ]
  },
  {
   "cell_type": "markdown",
   "id": "0726e0ff-3c63-4da9-be60-9e3c004bf9d0",
   "metadata": {},
   "source": [
    "- **`str.encode('AΔ')`** encodes the string `'AΔ'` into bytes using UTF-8.\n",
    "- The resulting byte sequence is `b'A\\xce\\x94'`.\n",
    "- **`len(b'A\\xce\\x94')`** returns `3`, which is the number of bytes.\n",
    "\n",
    "### Observation\n",
    "\n",
    "The length of the two Unicode characters is **2 characters**, but when encoded in UTF-8, the total number of bytes is **3 bytes** because:\n",
    "\n",
    "- **'A'** is encoded in **1 byte**.\n",
    "- **'Δ'** is encoded in **2 bytes**.\n",
    "\n",
    "Therefore, `len(str.encode('AΔ'))` returns `3` because it counts the total number of **bytes** in the encoded string, not the number of characters.\n",
    "\n",
    "### Summary\n",
    "\n",
    "- **Number of characters:** `2` (as returned by `f.write()`)\n",
    "- **Number of bytes after UTF-8 encoding:** `3` (as shown by `len(str.encode('AΔ'))`)\n",
    "- **Reason:** Unicode characters may be encoded using multiple bytes in UTF-8, depending on their code points.\n",
    "\n",
    "### Visual Representation\n",
    "\n",
    "| Character | Unicode Code Point | UTF-8 Encoding | Bytes |\n",
    "|-----------|--------------------|----------------|-------|\n",
    "| `'A'`     | U+0041             | `0x41`         | 1     |\n",
    "| `'Δ'`     | U+0394             | `0xCE 0x94`    | 2     |\n",
    "| **Total** |                    |                | **3** |\n",
    "\n",
    "### Conclusion\n",
    "\n",
    "The length difference arises because UTF-8 is a variable-length encoding system. Characters with code points above 127 require more than one byte to represent. In your example:\n",
    "\n",
    "- **'A'** (`U+0041`): Encoded in 1 byte.\n",
    "- **'Δ'** (`U+0394`): Encoded in 2 bytes.\n",
    "\n",
    "Therefore, when you encode `'AΔ'` in UTF-8, you get a byte sequence of length **3 bytes**, which explains why `len(str.encode('AΔ'))` returns `3`.\n",
    "\n",
    "---\n",
    "\n",
    "**Additional Note:**\n",
    "\n",
    "If you were to use an encoding where each character is represented by the same number of bytes (like UTF-32, which uses 4 bytes per character), you would see different results:\n",
    "\n",
    "```python\n",
    "print(len('AΔ'.encode('utf-32')))  # Output: 8\n",
    "```\n",
    "\n",
    "Here, each character is encoded in 4 bytes, so the total length is `2 * 4 = 8 bytes`.\n",
    "\n",
    "---\n",
    "\n",
    "**Understanding Encoding Lengths**\n",
    "\n",
    "- **ASCII Characters (U+0000 to U+007F):** 1 byte in UTF-8.\n",
    "- **Latin-1 Supplement and similar (U+0080 to U+07FF):** 2 bytes in UTF-8.\n",
    "- **Higher code points:** May require 3 or 4 bytes in UTF-8.\n",
    "\n",
    "---\n",
    "\n",
    "**Your Original Output Explained**\n",
    "\n",
    "```python\n",
    "2  # Number of characters written\n",
    "\n",
    "[b'A\\xce\\x94']  # Contents of the file in bytes\n",
    "\n",
    "AΔ  # Decoded content from bytes\n",
    "\n",
    "b'A'  # First byte read (0x41)\n",
    "b'\\xce'  # Second byte read (0xCE)\n",
    "b'\\x94'  # Third byte read (0x94)\n",
    "b''  # End of file\n",
    "\n",
    "Length of two unicode characters is: 3, WHY???  # Length of encoded bytes\n",
    "```\n",
    "\n",
    "---\n",
    "\n",
    "**Why Is This Important?**\n",
    "\n",
    "Understanding the difference between character count and byte length is crucial when:\n",
    "\n",
    "- **Reading/Writing Files:** To avoid data corruption, especially with non-ASCII characters.\n",
    "- **Networking Applications:** Where data size affects transmission.\n",
    "- **Databases:** Where storage size and encoding impact performance."
   ]
  },
  {
   "cell_type": "code",
   "execution_count": null,
   "id": "95d2ae24-30a2-4f1a-9aab-1ede4a8883c2",
   "metadata": {},
   "outputs": [],
   "source": []
  }
 ],
 "metadata": {
  "kernelspec": {
   "display_name": "Python 3 (ipykernel)",
   "language": "python",
   "name": "python3"
  },
  "language_info": {
   "codemirror_mode": {
    "name": "ipython",
    "version": 3
   },
   "file_extension": ".py",
   "mimetype": "text/x-python",
   "name": "python",
   "nbconvert_exporter": "python",
   "pygments_lexer": "ipython3",
   "version": "3.12.4"
  }
 },
 "nbformat": 4,
 "nbformat_minor": 5
}
