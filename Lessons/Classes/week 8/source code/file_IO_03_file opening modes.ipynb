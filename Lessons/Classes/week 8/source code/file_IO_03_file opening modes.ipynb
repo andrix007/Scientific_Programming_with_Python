{
 "cells": [
  {
   "cell_type": "code",
   "execution_count": 15,
   "id": "6c030d9f-08b1-4cc9-a943-5391809ea74a",
   "metadata": {},
   "outputs": [
    {
     "name": "stdout",
     "output_type": "stream",
     "text": [
      "This is a new line of text.\n",
      "\n"
     ]
    }
   ],
   "source": [
    "with open('test.txt', 'r', encoding='utf-8') as f:\n",
    "    read_data = f.read()\n",
    "    print(read_data)\n",
    "\n",
    "    #f.write('This is a new line of text.\\n')\n",
    "    #print('Data has been written to test.txt')"
   ]
  },
  {
   "cell_type": "code",
   "execution_count": 13,
   "id": "72f8eee5-abd2-488b-9e4c-a9d2db692f41",
   "metadata": {},
   "outputs": [
    {
     "name": "stdout",
     "output_type": "stream",
     "text": [
      "Data has been written to test.txt\n"
     ]
    },
    {
     "ename": "UnsupportedOperation",
     "evalue": "not readable",
     "output_type": "error",
     "traceback": [
      "\u001b[1;31m---------------------------------------------------------------------------\u001b[0m",
      "\u001b[1;31mUnsupportedOperation\u001b[0m                      Traceback (most recent call last)",
      "Cell \u001b[1;32mIn[13], line 5\u001b[0m\n\u001b[0;32m      2\u001b[0m f\u001b[38;5;241m.\u001b[39mwrite(\u001b[38;5;124m'\u001b[39m\u001b[38;5;124mThis is a new line of text.\u001b[39m\u001b[38;5;130;01m\\n\u001b[39;00m\u001b[38;5;124m'\u001b[39m)\n\u001b[0;32m      3\u001b[0m \u001b[38;5;28mprint\u001b[39m(\u001b[38;5;124m'\u001b[39m\u001b[38;5;124mData has been written to test.txt\u001b[39m\u001b[38;5;124m'\u001b[39m)\n\u001b[1;32m----> 5\u001b[0m read_data \u001b[38;5;241m=\u001b[39m \u001b[43mf\u001b[49m\u001b[38;5;241;43m.\u001b[39;49m\u001b[43mread\u001b[49m\u001b[43m(\u001b[49m\u001b[43m)\u001b[49m\n\u001b[0;32m      6\u001b[0m \u001b[38;5;28mprint\u001b[39m(read_data)\n",
      "\u001b[1;31mUnsupportedOperation\u001b[0m: not readable"
     ]
    }
   ],
   "source": [
    "with open('test.txt', 'w', encoding='utf-8') as f:\n",
    "    f.write('This is a new line of text.\\n')\n",
    "    print('Data has been written to test.txt')\n",
    "\n",
    "    #read_data = f.read()\n",
    "    #print(read_data)"
   ]
  },
  {
   "cell_type": "code",
   "execution_count": 20,
   "id": "0ead8e6f-8c08-40db-b500-262de02af103",
   "metadata": {},
   "outputs": [
    {
     "ename": "SyntaxError",
     "evalue": "invalid syntax (1302167959.py, line 10)",
     "output_type": "error",
     "traceback": [
      "\u001b[1;36m  Cell \u001b[1;32mIn[20], line 10\u001b[1;36m\u001b[0m\n\u001b[1;33m    except FileExistsError:\u001b[0m\n\u001b[1;37m    ^\u001b[0m\n\u001b[1;31mSyntaxError\u001b[0m\u001b[1;31m:\u001b[0m invalid syntax\n"
     ]
    }
   ],
   "source": [
    "# exclusive open. Only for write.\n",
    "#try:\n",
    "with open('test2.txt', 'x', encoding='utf-8') as f:\n",
    "    f.write('This file has been created exclusively.\\n')\n",
    "    print('test2.txt has been created and data has been written.')\n",
    "    \n",
    "        #read_data = f.read()\n",
    "        #print(read_data)\n",
    "\n",
    "except FileExistsError:\n",
    "    print('test.txt already exists. Exclusive creation failed.')\n"
   ]
  },
  {
   "cell_type": "code",
   "execution_count": 21,
   "id": "81d0f6f8-df8f-470e-90c8-7b82086920a0",
   "metadata": {},
   "outputs": [
    {
     "name": "stdout",
     "output_type": "stream",
     "text": [
      "Data has been appended to test.txt\n"
     ]
    },
    {
     "ename": "UnsupportedOperation",
     "evalue": "not readable",
     "output_type": "error",
     "traceback": [
      "\u001b[1;31m---------------------------------------------------------------------------\u001b[0m",
      "\u001b[1;31mUnsupportedOperation\u001b[0m                      Traceback (most recent call last)",
      "Cell \u001b[1;32mIn[21], line 5\u001b[0m\n\u001b[0;32m      2\u001b[0m f\u001b[38;5;241m.\u001b[39mwrite(\u001b[38;5;124m'\u001b[39m\u001b[38;5;124mThis line will be appended.\u001b[39m\u001b[38;5;130;01m\\n\u001b[39;00m\u001b[38;5;124m'\u001b[39m)\n\u001b[0;32m      3\u001b[0m \u001b[38;5;28mprint\u001b[39m(\u001b[38;5;124m'\u001b[39m\u001b[38;5;124mData has been appended to test.txt\u001b[39m\u001b[38;5;124m'\u001b[39m)\n\u001b[1;32m----> 5\u001b[0m read_data \u001b[38;5;241m=\u001b[39m \u001b[43mf\u001b[49m\u001b[38;5;241;43m.\u001b[39;49m\u001b[43mread\u001b[49m\u001b[43m(\u001b[49m\u001b[43m)\u001b[49m\n\u001b[0;32m      6\u001b[0m \u001b[38;5;28mprint\u001b[39m(read_data)\n",
      "\u001b[1;31mUnsupportedOperation\u001b[0m: not readable"
     ]
    }
   ],
   "source": [
    "with open('test.txt', 'a', encoding='utf-8') as f:\n",
    "    f.write('This line will be appended.\\n')\n",
    "    print('Data has been appended to test.txt')\n",
    "\n",
    "    read_data = f.read()\n",
    "    print(read_data)"
   ]
  },
  {
   "cell_type": "code",
   "execution_count": 7,
   "id": "308f35d8-c8b4-4339-b7e9-987b8f8e9ebe",
   "metadata": {},
   "outputs": [
    {
     "name": "stdout",
     "output_type": "stream",
     "text": [
      "b'This is a new line of text.\\r\\nThis line will be appended.\\r\\n'\n"
     ]
    }
   ],
   "source": [
    "with open('test.txt', 'rb') as f:\n",
    "    binary_data = f.read()\n",
    "    print(binary_data)\n"
   ]
  },
  {
   "cell_type": "code",
   "execution_count": 8,
   "id": "64d5efb1-26d1-4b5c-b2d1-6ee0adb1c188",
   "metadata": {},
   "outputs": [
    {
     "name": "stdout",
     "output_type": "stream",
     "text": [
      "Binary data has been written to binary_file.bin\n"
     ]
    }
   ],
   "source": [
    "binary_content = b'\\x00\\xFF\\x00\\xFF'\n",
    "with open('binary_file.bin', 'wb') as f:\n",
    "    f.write(binary_content)\n",
    "    print('Binary data has been written to binary_file.bin')\n"
   ]
  },
  {
   "cell_type": "code",
   "execution_count": 9,
   "id": "994bc03b-1676-468a-8bc7-c36e0f01abcb",
   "metadata": {},
   "outputs": [
    {
     "name": "stdout",
     "output_type": "stream",
     "text": [
      "This is a new line of text.\n",
      "This line will be appended.\n",
      "\n"
     ]
    }
   ],
   "source": [
    "with open('test.txt', 'rt', encoding='utf-8') as f:\n",
    "    read_data = f.read()\n",
    "    print(read_data)\n"
   ]
  },
  {
   "cell_type": "code",
   "execution_count": 10,
   "id": "cad7e193-7a93-4c63-8cb3-93b8deef95e3",
   "metadata": {},
   "outputs": [
    {
     "name": "stdout",
     "output_type": "stream",
     "text": [
      "Before writing:\n",
      "This is a new line of text.\n",
      "This line will be appended.\n",
      "\n",
      "Data has been appended to test.txt\n"
     ]
    }
   ],
   "source": [
    "# Explanation: This code opens test.txt for reading and writing. \n",
    "# It reads and prints the current content, then writes new data at the end.\n",
    "with open('test.txt', 'r+', encoding='utf-8') as f:\n",
    "    read_data = f.read()\n",
    "    print('Before writing:')\n",
    "    print(read_data)\n",
    "    f.write('Adding a new line at the end.\\n')\n",
    "    print('Data has been appended to test.txt')\n"
   ]
  },
  {
   "cell_type": "code",
   "execution_count": 11,
   "id": "1332cf50-1559-452e-899c-2f512aab90b6",
   "metadata": {},
   "outputs": [
    {
     "name": "stdout",
     "output_type": "stream",
     "text": [
      "After writing:\n",
      "This will overwrite existing data.\n",
      "\n"
     ]
    }
   ],
   "source": [
    "# Explanation: This code opens test.txt in write and read mode. \n",
    "# It overwrites existing data, then reads and prints the new content.\n",
    "with open('test.txt', 'w+', encoding='utf-8') as f:\n",
    "    f.write('This will overwrite existing data.\\n')\n",
    "    f.seek(0)\n",
    "    read_data = f.read()\n",
    "    print('After writing:')\n",
    "    print(read_data)\n"
   ]
  },
  {
   "cell_type": "code",
   "execution_count": 12,
   "id": "05d13da0-b67d-4eb4-8a48-e154816d82a7",
   "metadata": {},
   "outputs": [
    {
     "name": "stdout",
     "output_type": "stream",
     "text": [
      "Current content of test.txt:\n",
      "This will overwrite existing data.\n",
      "Appending with a+ mode.\n",
      "\n"
     ]
    }
   ],
   "source": [
    "# Explanation: This code appends data to test.txt and then reads and prints the entire content.\n",
    "\n",
    "with open('test.txt', 'a+', encoding='utf-8') as f:\n",
    "    f.write('Appending with a+ mode.\\n')\n",
    "    f.seek(0)\n",
    "    read_data = f.read()\n",
    "    print('Current content of test.txt:')\n",
    "    print(read_data)\n"
   ]
  },
  {
   "cell_type": "code",
   "execution_count": 28,
   "id": "98c6ae64-dd76-4a8f-9c2f-d315a2212be3",
   "metadata": {},
   "outputs": [
    {
     "name": "stdout",
     "output_type": "stream",
     "text": [
      "Binary data has been written to binary_file.bin\n"
     ]
    }
   ],
   "source": [
    "binary_content = b'\\xDE\\xAD\\xBE\\xEF'\n",
    "with open('binary_file.bin', 'wb') as f:\n",
    "    f.write(binary_content)\n",
    "    print('Binary data has been written to binary_file.bin')\n"
   ]
  },
  {
   "cell_type": "code",
   "execution_count": 29,
   "id": "7589a5ff-140c-45ab-b7cf-59eec2ce869c",
   "metadata": {},
   "outputs": [
    {
     "name": "stdout",
     "output_type": "stream",
     "text": [
      "Binary data read from binary_file.bin:\n",
      "b'\\xde\\xad\\xbe\\xef'\n"
     ]
    }
   ],
   "source": [
    "with open('binary_file.bin', 'rb') as f:\n",
    "    binary_data = f.read()\n",
    "    print('Binary data read from binary_file.bin:')\n",
    "    print(binary_data)\n"
   ]
  },
  {
   "cell_type": "code",
   "execution_count": 30,
   "id": "e7d0c5d9-08a6-4310-8755-0ab4a05d3d77",
   "metadata": {},
   "outputs": [
    {
     "name": "stdout",
     "output_type": "stream",
     "text": [
      "Before updating:\n",
      "b'\\xde\\xad\\xbe\\xef'\n",
      "After updating:\n",
      "b'\\xba\\xad\\xf0\\r'\n"
     ]
    }
   ],
   "source": [
    "with open('binary_file.bin', 'rb+') as f:\n",
    "    binary_data = f.read()\n",
    "    print('Before updating:')\n",
    "    print(binary_data)\n",
    "    f.seek(0)\n",
    "    f.write(b'\\xBA\\xAD\\xF0\\x0D')\n",
    "    f.seek(0)\n",
    "    updated_data = f.read()\n",
    "    print('After updating:')\n",
    "    print(updated_data)\n"
   ]
  },
  {
   "cell_type": "code",
   "execution_count": null,
   "id": "9a20cd4f-5d43-4fe5-8d49-5fbf48dd44f7",
   "metadata": {},
   "outputs": [],
   "source": []
  }
 ],
 "metadata": {
  "kernelspec": {
   "display_name": "Python 3 (ipykernel)",
   "language": "python",
   "name": "python3"
  },
  "language_info": {
   "codemirror_mode": {
    "name": "ipython",
    "version": 3
   },
   "file_extension": ".py",
   "mimetype": "text/x-python",
   "name": "python",
   "nbconvert_exporter": "python",
   "pygments_lexer": "ipython3",
   "version": "3.12.4"
  }
 },
 "nbformat": 4,
 "nbformat_minor": 5
}
