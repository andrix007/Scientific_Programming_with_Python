{
 "cells": [
  {
   "cell_type": "code",
   "execution_count": 10,
   "id": "89cfa7aa-3659-4011-9d79-d193d49ecb5d",
   "metadata": {},
   "outputs": [
    {
     "name": "stdout",
     "output_type": "stream",
     "text": [
      "Hello World! from a basic text file.\n",
      "\n",
      "Record1\n",
      "Record2\n",
      "Record3\n",
      "Record4\n",
      "File close check: False\n",
      "File close check: True\n"
     ]
    }
   ],
   "source": [
    "with open('workfile.txt', 'r', encoding=\"utf-8\") as f:\n",
    "    read_data = f.read()\n",
    "    print(read_data)\n",
    "    print(\"File close check: True\") if f.closed else print(\"File close check: False\")\n",
    "\n",
    "# We can check that the file has been automatically closed.\n",
    "print(\"File close check: True\") if f.closed else print(\"File close check: False\")\n"
   ]
  },
  {
   "cell_type": "code",
   "execution_count": 11,
   "id": "608d4ed3-dccc-4e99-b7f6-1d36de70cb9e",
   "metadata": {},
   "outputs": [
    {
     "name": "stdout",
     "output_type": "stream",
     "text": [
      "A\n",
      "♞\n"
     ]
    }
   ],
   "source": [
    "print('\\u0041')\n",
    "print('\\u265e') # b'\\xe2\\x99\\x9e', three code units"
   ]
  },
  {
   "cell_type": "code",
   "execution_count": 12,
   "id": "3a62ca4e-50de-4e3c-8210-345d98727e2c",
   "metadata": {},
   "outputs": [
    {
     "name": "stdout",
     "output_type": "stream",
     "text": [
      "This is a new line of text.\n",
      "This line will be appended.\n",
      "\n"
     ]
    }
   ],
   "source": [
    "with open('test.txt', 'r', encoding=\"utf-8\") as f:\n",
    "    read_data = f.read()\n",
    "    print(read_data)\n",
    "    #print(\"File close check: True\") if f.closed else print(\"File close check: False\")\n",
    "\n"
   ]
  },
  {
   "cell_type": "code",
   "execution_count": 3,
   "id": "e7a0605d-7b56-4705-a1b7-2e16460e8eda",
   "metadata": {},
   "outputs": [
    {
     "name": "stdout",
     "output_type": "stream",
     "text": [
      "['123456789abcdef\\n', '123456789abcdefg\\n', '123456789abcdefgh\\n']\n"
     ]
    }
   ],
   "source": [
    "with open('readline_test.txt', encoding=\"utf-8\") as f:\n",
    "    print(list(f))"
   ]
  },
  {
   "cell_type": "code",
   "execution_count": 4,
   "id": "435fa591-a550-4fef-a3a5-2f6512c65dc9",
   "metadata": {},
   "outputs": [
    {
     "name": "stdout",
     "output_type": "stream",
     "text": [
      "123456789abcdef\n",
      "\n",
      "123456789abcdefg\n",
      "\n",
      "123456789abcdefgh\n",
      "\n",
      "\n"
     ]
    }
   ],
   "source": [
    "with open('readline_test.txt', encoding=\"utf-8\") as f:\n",
    "    read_data = f.readline()\n",
    "    print(read_data)\n",
    "    read_data = f.readline()\n",
    "    print(read_data)\n",
    "    #\n",
    "    read_data = f.readline()\n",
    "    print(read_data)\n",
    "\n",
    "    #\n",
    "    read_data = f.readline()\n",
    "    print(read_data)\n"
   ]
  },
  {
   "cell_type": "code",
   "execution_count": 14,
   "id": "6f3adac3-d4f6-4653-843e-88b833103ce7",
   "metadata": {},
   "outputs": [
    {
     "name": "stdout",
     "output_type": "stream",
     "text": [
      "123456789abcdef\n",
      "\n",
      "123456789abcdefg\n",
      "\n",
      "123456789abcdefgh\n",
      "\n"
     ]
    }
   ],
   "source": [
    "# looping over the file object\n",
    "\n",
    "with open('readline_test.txt', encoding=\"utf-8\") as f:\n",
    "    for line in f:\n",
    "        #print(line, end='***')\n",
    "        #print(line, end='\\n')\n",
    "        print(line)\n"
   ]
  },
  {
   "cell_type": "code",
   "execution_count": 5,
   "id": "1b0cf5d2-8986-448e-abd8-e27646ee5fd6",
   "metadata": {},
   "outputs": [
    {
     "name": "stdout",
     "output_type": "stream",
     "text": [
      "['123456789abcdef\\n', '123456789abcdefg\\n', '123456789abcdefgh\\n']\n",
      "[]\n"
     ]
    }
   ],
   "source": [
    "with open('readline_test.txt', encoding=\"utf-8\") as f:\n",
    "    #\n",
    "    print(list(f))\n",
    "    #\n",
    "    print(f.readlines())\n"
   ]
  },
  {
   "cell_type": "code",
   "execution_count": 16,
   "id": "b26c2fcf-bc07-434d-81e9-efe6daa59caa",
   "metadata": {},
   "outputs": [
    {
     "name": "stdout",
     "output_type": "stream",
     "text": [
      "['123456789abcdef\\n', '123456789abcdefg\\n', '123456789abcdefgh\\n']\n",
      "['123456789abcdef\\n', '123456789abcdefg\\n', '123456789abcdefgh\\n']\n"
     ]
    }
   ],
   "source": [
    "#\n",
    "with open('readline_test.txt', encoding=\"utf-8\") as f:\n",
    "    #\n",
    "    print(list(f))\n",
    "    #\n",
    "    f.seek(0)  # start of the file\n",
    "    print(f.readlines())\n"
   ]
  },
  {
   "cell_type": "code",
   "execution_count": 13,
   "id": "0e061f1b-b7fd-4810-9bf1-351f5b3a843a",
   "metadata": {},
   "outputs": [
    {
     "name": "stdout",
     "output_type": "stream",
     "text": [
      "129\n",
      "['Welcome to Scientific Programming with Python\\n', 'Lecture: Reading and Writing Files\\n', 'There are 86 registered students in this course.']\n"
     ]
    }
   ],
   "source": [
    "# Text files: text and numeric data\n",
    "\n",
    "with open('test_write.txt', 'w', encoding=\"utf-8\") as f:\n",
    "    num_char = f.write(\"Welcome to Scientific Programming with Python\\n\")\n",
    "    num_char += f.write(\"Lecture: Reading and Writing Files\\n\")\n",
    "    num_students = 86\n",
    "    str_students_record = f\"There are {num_students} registered students in this course.\"\n",
    "    num_char += f.write(str_students_record)\n",
    "\n",
    "    #\n",
    "    print(num_char)\n",
    "with open('test_write.txt', 'r', encoding=\"utf-8\") as f:\n",
    "    #f.seek(0)\n",
    "    print(list(f))\n"
   ]
  },
  {
   "cell_type": "code",
   "execution_count": 22,
   "id": "e6d231ab-9394-427d-9f2a-5ff8fc503ba1",
   "metadata": {},
   "outputs": [
    {
     "name": "stdout",
     "output_type": "stream",
     "text": [
      "b'6'\n",
      "b'd'\n",
      "Current position of file: 13\n"
     ]
    }
   ],
   "source": [
    "#\n",
    "\n",
    "with open('data.bin', 'bw') as f:\n",
    "    f.write(b'123456789abcdef')\n",
    "\n",
    "with open('data.bin', 'br') as f:\n",
    "    f.seek(5)      # pass 5 and go to the 6th byte in the file\n",
    "    print(f.read(1))\n",
    "\n",
    "    f.seek(-3, 2)  # Go to the 3rd byte before the end\n",
    "    print(f.read(1))\n",
    "    \n",
    "    curr_pos = f.tell()\n",
    "    print(\"Current position of file: {}\".format(curr_pos))\n"
   ]
  },
  {
   "cell_type": "code",
   "execution_count": 27,
   "id": "e99b4cd6-bbc4-49b2-bfb2-20bae8cb1112",
   "metadata": {},
   "outputs": [
    {
     "name": "stdout",
     "output_type": "stream",
     "text": [
      "6\n",
      "Current file position: 9\n",
      "Output of seek(-3,2): 7\n"
     ]
    }
   ],
   "source": [
    "# How to work around seek(negative_offset, 2)\n",
    "\n",
    "with open('data.txt', 'r', encoding=\"utf-8\") as f:\n",
    "    # pass 5 bytes and focus on the next byte\n",
    "    f.seek(5)  \n",
    "    print(f.read(1))\n",
    "\n",
    "#with open('data.txt', 'r', encoding=\"utf-8\") as f:\n",
    "    #f.seek(-3, 2)  #\n",
    "    #print(f.read(1))\n",
    "\n",
    "with open('data.txt', 'w', encoding=\"utf-8\") as f:\n",
    "    f.write(f'123456789')\n",
    "\n",
    "with open('data.txt', 'r', encoding=\"utf-8\") as f:\n",
    "    f.seek(0, 2)  # seek to end of file; f.seek(0, 2) is legal\n",
    "    print('Current file position: {}'.format(f.tell()))\n",
    "    # go forward 6 bytes, which is equivalent to\n",
    "    # go backwards 3 bytes\n",
    "    f.seek(f.tell() - 3, 0)\n",
    "    print('Output of seek(-3,2): {}'.format(f.read(1)))\n"
   ]
  },
  {
   "cell_type": "code",
   "execution_count": 28,
   "id": "c4dde58f-0e35-4bbf-889e-3b1bd12f3963",
   "metadata": {},
   "outputs": [
    {
     "name": "stdout",
     "output_type": "stream",
     "text": [
      "2\n",
      "[b'A\\xce\\x94']\n",
      "AΔ\n",
      "b'A'\n",
      "b'\\xce'\n",
      "b'\\x94'\n",
      "b''\n",
      "Length of two unicode characters is: 3, WHY???\n"
     ]
    }
   ],
   "source": [
    "# write two unicode characters to file\n",
    "with open('unicode_test_write.txt', 'w', encoding=\"utf-8\") as f:\n",
    "    # code point < 128 and code point > 128\n",
    "    num_char = f.write(\"\\u0041\\u0394\")\n",
    "    #\n",
    "    print(num_char)\n",
    "\n",
    "with open('unicode_test_write.txt', 'br') as f:\n",
    "    print(list(f))\n",
    "    f.seek(0)\n",
    "    print(f.read().decode())\n",
    "    f.seek(0)\n",
    "    print(f.read(1))\n",
    "    print(f.read(1))\n",
    "    print(f.read(1))\n",
    "    print(f.read(1))\n",
    "    print(f\"Length of two unicode characters is: {len(str.encode('AΔ'))}, WHY???\")\n"
   ]
  },
  {
   "cell_type": "code",
   "execution_count": null,
   "id": "a03e4916-3e4f-4136-b113-76ac869d36dc",
   "metadata": {},
   "outputs": [],
   "source": []
  }
 ],
 "metadata": {
  "kernelspec": {
   "display_name": "Python 3 (ipykernel)",
   "language": "python",
   "name": "python3"
  },
  "language_info": {
   "codemirror_mode": {
    "name": "ipython",
    "version": 3
   },
   "file_extension": ".py",
   "mimetype": "text/x-python",
   "name": "python",
   "nbconvert_exporter": "python",
   "pygments_lexer": "ipython3",
   "version": "3.12.4"
  }
 },
 "nbformat": 4,
 "nbformat_minor": 5
}
