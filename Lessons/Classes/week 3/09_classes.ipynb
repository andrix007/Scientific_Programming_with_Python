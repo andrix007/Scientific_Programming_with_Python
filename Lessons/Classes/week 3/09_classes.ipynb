{
 "cells": [
  {
   "cell_type": "code",
   "execution_count": 7,
   "id": "13290fa6-f8fd-4a1c-a874-74a132c21733",
   "metadata": {},
   "outputs": [
    {
     "name": "stdout",
     "output_type": "stream",
     "text": [
      "storage west\n",
      "storage east\n",
      "storage west\n",
      "No purpose Space\n",
      "No purpose north\n"
     ]
    }
   ],
   "source": [
    "class Warehouse:\n",
    "    purpose = 'storage'\n",
    "    region = 'west'\n",
    "    def __init__(self):\n",
    "        pass\n",
    "w1 = Warehouse()\n",
    "print(w1.purpose, w1.region)\n",
    "\n",
    "w2 = Warehouse()\n",
    "w2.region = 'east'\n",
    "print(w2.purpose, w2.region)\n",
    "\n",
    "print(Warehouse.purpose, Warehouse.region)\n",
    "\n",
    "Warehouse.purpose = \"No purpose\"\n",
    "Warehouse.region = \"Space\"\n",
    "print(Warehouse.purpose, Warehouse.region)\n",
    "\n",
    "w1.region = \"north\"\n",
    "print(w1.purpose, w1.region)\n"
   ]
  },
  {
   "cell_type": "code",
   "execution_count": 9,
   "id": "0d3cd8d2-3854-4de4-9f15-702cedadac34",
   "metadata": {},
   "outputs": [
    {
     "name": "stdout",
     "output_type": "stream",
     "text": [
      "20\n",
      "30\n"
     ]
    }
   ],
   "source": [
    "\n",
    "\n",
    "class C:\n",
    "    def g(self, first, second):\n",
    "        return larger(first, second)\n",
    "\n",
    "c = C()\n",
    "print(c.g(10, 20))\n",
    "print(larger(20, 30))\n",
    "\n",
    "\n",
    "def larger(x, y):\n",
    "    return x if x > y else y"
   ]
  },
  {
   "cell_type": "code",
   "execution_count": 10,
   "id": "a1f49bc2-889c-4b42-ab31-f5d3cd517c45",
   "metadata": {},
   "outputs": [
    {
     "name": "stdout",
     "output_type": "stream",
     "text": [
      "{'x': 10}\n",
      "{'x': 10, 'y': 20}\n"
     ]
    }
   ],
   "source": [
    "class MyClass:\n",
    "    def __init__(self, x):\n",
    "        self.x = x\n",
    "\n",
    "obj = MyClass(10)\n",
    "print(obj.__dict__)  # Output: {'x': 10}\n",
    "\n",
    "obj.y = 20  # Adding a new attribute\n",
    "print(obj.__dict__)  # Output: {'x': 10, 'y': 20}\n"
   ]
  },
  {
   "cell_type": "code",
   "execution_count": null,
   "id": "23024387-0a28-45a7-95bf-c5ac3a50d05d",
   "metadata": {},
   "outputs": [],
   "source": []
  }
 ],
 "metadata": {
  "kernelspec": {
   "display_name": "Python 3 (ipykernel)",
   "language": "python",
   "name": "python3"
  },
  "language_info": {
   "codemirror_mode": {
    "name": "ipython",
    "version": 3
   },
   "file_extension": ".py",
   "mimetype": "text/x-python",
   "name": "python",
   "nbconvert_exporter": "python",
   "pygments_lexer": "ipython3",
   "version": "3.12.4"
  }
 },
 "nbformat": 4,
 "nbformat_minor": 5
}
