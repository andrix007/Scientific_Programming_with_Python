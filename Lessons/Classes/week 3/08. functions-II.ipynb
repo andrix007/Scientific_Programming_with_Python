{
 "cells": [
  {
   "cell_type": "markdown",
   "id": "f69093c7-daae-45ec-a863-9cf0926a1e57",
   "metadata": {},
   "source": [
    "## Arbitrary Argument List\n",
    "\n",
    "In Python, an **arbitrary argument list** allows a function to accept any number of arguments. This can be done using `*args` for non-keyword arguments and `**kwargs` for keyword arguments.\n",
    "\n",
    "### Using `*args`\n",
    "When you prefix a function parameter with an asterisk (`*`), it collects all the positional arguments passed to the function into a tuple. This allows you to pass a variable number of non-keyword arguments to the function.\n",
    "\n",
    "#### Example\n",
    "```python\n",
    "def my_function(*args):\n",
    "    for arg in args:\n",
    "        print(arg)\n",
    "\n",
    "# Calling the function with a varying number of arguments\n",
    "my_function(1, 2, 3)\n",
    "my_function('apple', 'banana', 'cherry')\n",
    "```\n",
    "\n",
    "**Output:**\n",
    "```\n",
    "1\n",
    "2\n",
    "3\n",
    "apple\n",
    "banana\n",
    "cherry\n",
    "```\n",
    "\n",
    "### Using `**kwargs`\n",
    "When you prefix a function parameter with two asterisks (`**`), it collects all the keyword arguments passed to the function into a dictionary. This allows you to pass a variable number of keyword arguments to the function.\n",
    "\n",
    "#### Example\n",
    "```python\n",
    "def my_function(**kwargs):\n",
    "    for key, value in kwargs.items():\n",
    "        print(f\"{key}: {value}\")\n",
    "\n",
    "# Calling the function with a varying number of keyword arguments\n",
    "my_function(name=\"John\", age=25, country=\"USA\")\n",
    "my_function(fruit=\"apple\", color=\"red\")\n",
    "```\n",
    "\n",
    "**Output:**\n",
    "```\n",
    "name: John\n",
    "age: 25\n",
    "country: USA\n",
    "fruit: apple\n",
    "color: red\n",
    "```\n",
    "\n",
    "### Combining `*args` and `**kwargs`\n",
    "You can use both `*args` and `**kwargs` in the same function to accept both positional and keyword arguments.\n",
    "\n",
    "#### Example\n",
    "```python\n",
    "def my_function(*args, **kwargs):\n",
    "    print(\"Positional arguments:\", args)\n",
    "    print(\"Keyword arguments:\", kwargs)\n",
    "\n",
    "# Calling the function with both positional and keyword arguments\n",
    "my_function(1, 2, 3, name=\"John\", age=25)\n",
    "```\n",
    "\n",
    "**Output:**\n",
    "```\n",
    "Positional arguments: (1, 2, 3)\n",
    "Keyword arguments: {'name': 'John', 'age': 25}\n",
    "```\n",
    "\n",
    "### Summary\n",
    "- `*args`: Collects all the positional arguments passed to the function into a tuple.\n",
    "- `**kwargs`: Collects all the keyword arguments passed to the function into a dictionary.\n",
    "- You can use both `*args` and `**kwargs` in a function to accept a combination of positional and keyword arguments. This makes your functions flexible and capable of handling a varying number of inputs."
   ]
  },
  {
   "cell_type": "code",
   "execution_count": 13,
   "id": "49d48ff8-2055-4fd2-a506-f6584b29b898",
   "metadata": {},
   "outputs": [
    {
     "name": "stdout",
     "output_type": "stream",
     "text": [
      "10\n",
      "20\n",
      "30\n",
      "40\n",
      "50\n"
     ]
    }
   ],
   "source": [
    "# passing arbitrary list\n",
    "def display(*data):\n",
    "    for item in data:\n",
    "        print(item)\n",
    "\n",
    "display(10, 20, 30, 40, 50)"
   ]
  },
  {
   "cell_type": "code",
   "execution_count": 20,
   "id": "8ecc3793-02ed-4c2f-ae54-4bfc1941f84f",
   "metadata": {},
   "outputs": [
    {
     "name": "stdout",
     "output_type": "stream",
     "text": [
      "10\n",
      "20\n",
      "30\n",
      "40\n",
      "50\n",
      "60\n"
     ]
    }
   ],
   "source": [
    "# passing a dictionary of arbitrary number of keyword arguments\n",
    "def display(**data):\n",
    "    for k,v in data.items():\n",
    "        print(v)\n",
    "\n",
    "values = dict(v1='10', v2='20', v3='30', v4='40', v5='50', v6='60')\n",
    "display(**values)"
   ]
  },
  {
   "cell_type": "code",
   "execution_count": 35,
   "id": "7283b4c6-b76e-4596-be39-1cefc1cc95ef",
   "metadata": {},
   "outputs": [
    {
     "name": "stdout",
     "output_type": "stream",
     "text": [
      "10,20,30,40,50,100\n"
     ]
    }
   ],
   "source": [
    "# passing list to individual positional argument\n",
    "def display(a,b,c,d,e,f):\n",
    "    print(f\"{a},{b},{c},{d},{e},{f}\")\n",
    "\n",
    "args = [10,20,30,40,50]\n",
    "#display(*args)\n",
    "display(*args, f=100)\n"
   ]
  },
  {
   "cell_type": "code",
   "execution_count": null,
   "id": "a86bbe9e-623b-448b-86c3-c5a8dafd3a0a",
   "metadata": {},
   "outputs": [],
   "source": [
    "# receiving all keyword arguments as dictionary: keywords\n",
    "def cheeseshop(kind, *arguments, **keywords):\n",
    "    pass\n",
    "\n",
    "cheeseshop(\n",
    "    \"Limburger\", \n",
    "    \"It's very runny.\", \"yellow\", \"large\", \"goat\",\n",
    "    shopkeeper=\"Michael Palin\",\n",
    "    client=\"John Cleese\",\n",
    "    sketch=\"Cheese Shop Sketch“\n",
    ")\n"
   ]
  },
  {
   "cell_type": "code",
   "execution_count": 15,
   "id": "f9f38852-604c-4c27-b684-740f1d028c4c",
   "metadata": {},
   "outputs": [
    {
     "name": "stdout",
     "output_type": "stream",
     "text": [
      "10\n",
      "20\n",
      "30\n",
      "40\n",
      "50\n",
      "60\n"
     ]
    }
   ],
   "source": []
  },
  {
   "cell_type": "code",
   "execution_count": null,
   "id": "88fc47b1-1779-49df-a00f-07cec03ff23c",
   "metadata": {},
   "outputs": [],
   "source": []
  },
  {
   "cell_type": "markdown",
   "id": "c280aadf-4370-4442-aa46-e0d5886b81b1",
   "metadata": {},
   "source": []
  },
  {
   "cell_type": "code",
   "execution_count": null,
   "id": "cf2fcfc4-90f6-4186-a8d2-31e4ab5a3af9",
   "metadata": {},
   "outputs": [],
   "source": []
  },
  {
   "cell_type": "code",
   "execution_count": null,
   "id": "554b12b7-7370-4680-868d-96c04e6a4d22",
   "metadata": {},
   "outputs": [],
   "source": []
  }
 ],
 "metadata": {
  "kernelspec": {
   "display_name": "Python 3 (ipykernel)",
   "language": "python",
   "name": "python3"
  },
  "language_info": {
   "codemirror_mode": {
    "name": "ipython",
    "version": 3
   },
   "file_extension": ".py",
   "mimetype": "text/x-python",
   "name": "python",
   "nbconvert_exporter": "python",
   "pygments_lexer": "ipython3",
   "version": "3.12.4"
  }
 },
 "nbformat": 4,
 "nbformat_minor": 5
}
