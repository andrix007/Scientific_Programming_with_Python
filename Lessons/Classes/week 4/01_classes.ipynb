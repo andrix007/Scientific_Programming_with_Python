{
 "cells": [
  {
   "cell_type": "markdown",
   "id": "0f4a334f-4260-4c50-a8ea-1654c187c82e",
   "metadata": {},
   "source": [
    "## General Structure of a Python Class\n",
    "Python class includes common elements like attributes, the `__init__` method (constructor), class methods, instance methods, and class variables. \n",
    "\n",
    "```python\n",
    "# Define the class\n",
    "class MyClass:\n",
    "    # Class variable (shared by all instances of the class)\n",
    "    class_variable = \"I am a class variable\"\n",
    "    \n",
    "    # Constructor (Initializer method)\n",
    "    def __init__(self, instance_variable):\n",
    "        # Instance variable (unique to each instance)\n",
    "        self.instance_variable = instance_variable\n",
    "        print(f\"Object created with instance variable: {self.instance_variable}\")\n",
    "\n",
    "    # Instance method (works with instance-specific data)\n",
    "    def instance_method(self):\n",
    "        print(f\"This is an instance method and the instance variable is: {self.instance_variable}\")\n",
    "    \n",
    "    # Class method (works with the class variable)\n",
    "    @classmethod\n",
    "    def class_method(cls):\n",
    "        print(f\"This is a class method and the class variable is: {cls.class_variable}\")\n",
    "\n",
    "    # Static method (works independently of class and instance variables)\n",
    "    @staticmethod\n",
    "    def static_method():\n",
    "        print(\"This is a static method and does not access class or instance variables.\")\n",
    "\n",
    "# Example of how to create an instance of MyClass and use its methods\n",
    "obj = MyClass(\"Sample Value\")  # Calls the __init__ method\n",
    "obj.instance_method()          # Calls an instance method\n",
    "MyClass.class_method()         # Calls the class method\n",
    "MyClass.static_method()        # Calls the static method\n",
    "```\n",
    "\n",
    "### Explanation:\n",
    "\n",
    "1. **Class Variable**: \n",
    "   - `class_variable` is a variable shared by all instances of the class. Any changes made to this variable will affect all instances.\n",
    "\n",
    "2. **Constructor (`__init__`)**:\n",
    "   - The `__init__` method is called when an instance of the class is created. It's used to initialize instance variables.\n",
    "\n",
    "3. **Instance Variable**:\n",
    "   - An instance variable (`self.instance_variable`) is unique to each object. It’s defined in the constructor using `self`.\n",
    "\n",
    "4. **Instance Method**:\n",
    "   - `instance_method()` is a method that operates on the instance of the class. It has access to instance-specific data via `self`.\n",
    "\n",
    "5. **Class Method**:\n",
    "   - `class_method()` is marked with `@classmethod`. It operates on the class itself rather than on an instance. It has access to class-level variables via `cls`.\n",
    "\n",
    "6. **Static Method**:\n",
    "   - `static_method()` is marked with `@staticmethod`. It does not take `self` or `cls` as arguments and does not access any class or instance data. It behaves like a regular function but belongs to the class's namespace.\n",
    "\n",
    "### Example Usage:\n",
    "\n",
    "```python\n",
    "# Create an instance of MyClass\n",
    "obj1 = MyClass(\"Instance 1\")\n",
    "\n",
    "# Call instance method\n",
    "obj1.instance_method()\n",
    "\n",
    "# Call class method\n",
    "MyClass.class_method()\n",
    "\n",
    "# Call static method\n",
    "MyClass.static_method()\n",
    "```"
   ]
  },
  {
   "cell_type": "code",
   "execution_count": 64,
   "id": "6117f1f2-7052-46db-a6c8-6c9ed97d3875",
   "metadata": {},
   "outputs": [
    {
     "name": "stdout",
     "output_type": "stream",
     "text": [
      "Volume of box:1000\n"
     ]
    }
   ],
   "source": [
    "# Class definition, constructor, member function, member variables, object creation\n",
    "class Box:\n",
    "\n",
    "    # define constructor\n",
    "    def __init__(self):\n",
    "        self.length = 10 # define a member variable\n",
    "        self.width = 10  # define a member variable\n",
    "        self.height = 10 # define a member variable\n",
    "        self.name = \"Travel\"   # define a member variable\n",
    "\n",
    "    \n",
    "    def volume(self):\n",
    "        return self.length * self.width * self.height\n",
    "\n",
    "\n",
    "# create an object of the class box\n",
    "box = Box()\n",
    "print(f'Volume of box:{box.volume()}')"
   ]
  },
  {
   "cell_type": "code",
   "execution_count": 56,
   "id": "964f446d-80db-40b7-a846-6d9bbe11e80f",
   "metadata": {},
   "outputs": [
    {
     "name": "stdout",
     "output_type": "stream",
     "text": [
      "Volume of box:1000\n"
     ]
    }
   ],
   "source": [
    "# Class definition, constructor, member function, member variables, object creation\n",
    "class Box:\n",
    "\n",
    "    # define constructor\n",
    "    def __init__(self, l, w, h, n):\n",
    "        self.length = l # define a member variable\n",
    "        self.width = w  # define a member variable\n",
    "        self.height = h # define a member variable\n",
    "        self.name = n   # define a member variable\n",
    "\n",
    "    \n",
    "    def volume(self):\n",
    "        return self.length * self.width * self.height\n",
    "\n",
    "\n",
    "# create an object of the class box\n",
    "box = Box(10, 10, 10, 'Travel')\n",
    "print(f'Volume of box:{box.volume()}')"
   ]
  },
  {
   "cell_type": "code",
   "execution_count": 68,
   "id": "5bcec72d-2138-45ec-85aa-257089f75e68",
   "metadata": {},
   "outputs": [
    {
     "name": "stdout",
     "output_type": "stream",
     "text": [
      "Serial number of box is 1 and its volume is:1000\n",
      "Serial number of box is 2 and its volume is:250\n",
      "Serial number of box is 3 and its volume is:250\n"
     ]
    }
   ],
   "source": [
    "# Instance variable vs class variable\n",
    "class Box:\n",
    "\n",
    "    count = 0    # define a class variable\n",
    "    \n",
    "    # define constructor\n",
    "    def __init__(self, l, w, h, n):\n",
    "        self.length = l # define a member variable\n",
    "        self.width = w  # define a member variable\n",
    "        self.height = h # define a member variable\n",
    "        self.name = n   # define a member variable\n",
    "        Box.count += 1  # count += 1?\n",
    "\n",
    "    def volume(self):\n",
    "        return self.length * self.width * self.height\n",
    "\n",
    "\n",
    "# create an object of the class box\n",
    "box1 = Box(10, 10, 10, 'Travel')\n",
    "print(f'Serial number of box is {Box.count} and its volume is:{box1.volume()}')\n",
    "\n",
    "box2 = Box(5, 10, 5, 'Sports')\n",
    "print(f'Serial number of box is {Box.count} and its volume is:{box2.volume()}')\n",
    "\n",
    "box = Box(5, 10, 5, 'Books')\n",
    "print(f'Serial number of box is {Box.count} and its volume is:{box.volume()}')"
   ]
  },
  {
   "cell_type": "code",
   "execution_count": null,
   "id": "a9d5b98b-0ce4-4735-ae5f-178172a8447a",
   "metadata": {},
   "outputs": [
    {
     "name": "stdout",
     "output_type": "stream",
     "text": [
      "Volume of box:1000\n"
     ]
    }
   ],
   "source": [
    "# multiple init methods and the effect of order of definitions\n",
    "class Box:\n",
    "\n",
    "    def __init__(self, l, w, h):\n",
    "        self.length = l\n",
    "        self.width = w\n",
    "        self.height = h\n",
    "        \n",
    "    def __init__(self, l, w, h, n):\n",
    "        self.length = l\n",
    "        self.width = w\n",
    "        self.height = h\n",
    "        self.name = n\n",
    "    \n",
    "    def volume(self):\n",
    "        return self.length * self.width * self.height\n",
    "\n",
    "\n",
    "# create an object of the class box\n",
    "box = Box(10, 10, 10, 'Travel')\n",
    "print(f'Volume of box:{box.volume()}')\n",
    "print(Box.name)"
   ]
  },
  {
   "cell_type": "code",
   "execution_count": 24,
   "id": "e062e1bd-c64a-472c-9f18-d3919d06e1d2",
   "metadata": {},
   "outputs": [
    {
     "name": "stdout",
     "output_type": "stream",
     "text": [
      "Volume of box:1000\n"
     ]
    }
   ],
   "source": [
    "# method overloading and the effect of order of definitions\n",
    "class Box:\n",
    "\n",
    "    def __init__(self, l, w, h, n):\n",
    "        self.length = l\n",
    "        self.width = w\n",
    "        self.height = h\n",
    "        self.name = n\n",
    "\n",
    "    def volume(self, l, w, h):\n",
    "        return l * w * h\n",
    "        \n",
    "    def volume(self):\n",
    "        return self.length * self.width * self.height\n",
    "\n",
    "\n",
    "# create an object of the class box\n",
    "box = Box(10, 10, 10, 'Travel')\n",
    "print(f'Volume of box:{box.volume()}')"
   ]
  },
  {
   "cell_type": "code",
   "execution_count": 13,
   "id": "ed37a8a7-b984-4b07-89de-fa95e0aa3d98",
   "metadata": {},
   "outputs": [
    {
     "name": "stdout",
     "output_type": "stream",
     "text": [
      "Volume of box:1000\n"
     ]
    }
   ],
   "source": [
    "# method overloading and the effect of order of definitions\n",
    "class Box:\n",
    "\n",
    "    def __init__(self, l, w, h, n):\n",
    "        self.length = l\n",
    "        self.width = w\n",
    "        self.height = h\n",
    "        self.name = n\n",
    "\n",
    "    def volume(self):\n",
    "        return self.length * self.width * self.height\n",
    "\n",
    "\n",
    "# create an object of the class box\n",
    "box = Box(10, 10, 10, 'Travel')\n",
    "print(f'Volume of box:{box.volume()}')"
   ]
  },
  {
   "cell_type": "code",
   "execution_count": 29,
   "id": "13290fa6-f8fd-4a1c-a874-74a132c21733",
   "metadata": {},
   "outputs": [
    {
     "name": "stdout",
     "output_type": "stream",
     "text": [
      "1.  storage west\n",
      "2.  storage east\n",
      "3.  storage west\n",
      "4.  storage west\n",
      "5.  No purpose No region\n",
      "6.  No purpose north\n"
     ]
    }
   ],
   "source": [
    "# Name conflict resolution: instance variable vs. class variable\n",
    "# instance variable has precedence \n",
    "class Warehouse:\n",
    "    purpose = 'storage' # class variable\n",
    "    region = 'west'     # class variable\n",
    "    def __init__(self):\n",
    "        pass\n",
    "      \n",
    "w1 = Warehouse()\n",
    "print(\"1. \", w1.purpose, w1.region) # access the class variables\n",
    "\n",
    "w2 = Warehouse()\n",
    "w2.region = 'east'        # create an instance variable dynamically\n",
    "print(\"2. \", w2.purpose, w2.region)\n",
    "\n",
    "print(\"3. \", Warehouse.purpose, Warehouse.region)\n",
    "\n",
    "# can w1 see the instance variable created by w2,dynamically?\n",
    "print(\"4. \", w1.purpose, w1.region)\n",
    "\n",
    "Warehouse.purpose = \"No purpose\"\n",
    "Warehouse.region = \"No region\"\n",
    "print(\"5. \", Warehouse.purpose, Warehouse.region)\n",
    "\n",
    "w1.region = \"north\"\n",
    "print(\"6. \", w1.purpose, w1.region)\n"
   ]
  },
  {
   "cell_type": "code",
   "execution_count": 62,
   "id": "0d3cd8d2-3854-4de4-9f15-702cedadac34",
   "metadata": {},
   "outputs": [
    {
     "name": "stdout",
     "output_type": "stream",
     "text": [
      "20\n",
      "Scientific Programming with Python\n",
      "Scientific Programming with Python\n",
      "200\n"
     ]
    }
   ],
   "source": [
    "# 1. Function defined outside the class as method of the class\n",
    "\n",
    "def f1(self, x, y):\n",
    "    return x if x>y else y\n",
    "    \n",
    "class C:\n",
    "\n",
    "    f = f1\n",
    "    \n",
    "    def g(self):\n",
    "        return 'Scientific Programming with Python'\n",
    "\n",
    "    h = g\n",
    "\n",
    "objC = C()\n",
    "print(objC.f(10, 20))\n",
    "print(objC.g())\n",
    "print(objC.h())\n",
    "\n",
    "print(f1(objC, 100, 200))\n",
    "#print(f(objC, 10, 20))"
   ]
  },
  {
   "cell_type": "code",
   "execution_count": 63,
   "id": "98fc3c15-a8b5-40f0-a076-334a943aec72",
   "metadata": {},
   "outputs": [
    {
     "name": "stdout",
     "output_type": "stream",
     "text": [
      "20\n",
      "Scientific Programming with Python\n",
      "Scientific Programming with Python\n",
      "200\n",
      "2000\n"
     ]
    }
   ],
   "source": [
    "# 2. Function defined outside the class as method of the class\n",
    "# keyword arguments\n",
    "# changing values of instance variables in outer function\n",
    "\n",
    "def f1(self, x = 1000, y = 2000):\n",
    "    self.X = x\n",
    "    self.Y = y\n",
    "    return self.X if self.X > self.Y else self.Y\n",
    "    \n",
    "class C:\n",
    "\n",
    "    def __init___(self):\n",
    "        self.X = 1\n",
    "        self.Y = 2\n",
    "        \n",
    "    f = f1\n",
    "    \n",
    "    def g(self):\n",
    "        return 'Scientific Programming with Python'\n",
    "\n",
    "    h = g\n",
    "\n",
    "objC = C()\n",
    "print(objC.f(10, 20))\n",
    "print(objC.g())\n",
    "print(objC.h())\n",
    "\n",
    "print(f1(objC, 100, 200))\n",
    "\n",
    "print(f1(objC))"
   ]
  },
  {
   "cell_type": "code",
   "execution_count": 49,
   "id": "2f445d82-05fe-43d3-8cc8-f5698ee4a9e4",
   "metadata": {},
   "outputs": [
    {
     "name": "stdout",
     "output_type": "stream",
     "text": [
      "20\n",
      "30\n"
     ]
    }
   ],
   "source": [
    "# Calling ordinary function from a method\n",
    "# location sensitivity of the function larger() i.e. before and after the class definition\n",
    "def larger(x, y):\n",
    "    return x if x > y else y\n",
    "    \n",
    "class C:\n",
    "    def g(self, first, second):\n",
    "        return larger(first, second)\n",
    "\n",
    "c = C()\n",
    "print(c.g(10, 20))\n",
    "print(larger(20, 30))\n"
   ]
  },
  {
   "cell_type": "code",
   "execution_count": 10,
   "id": "a1f49bc2-889c-4b42-ab31-f5d3cd517c45",
   "metadata": {},
   "outputs": [
    {
     "name": "stdout",
     "output_type": "stream",
     "text": [
      "{'x': 10}\n",
      "{'x': 10, 'y': 20}\n"
     ]
    }
   ],
   "source": [
    "class MyClass:\n",
    "    def __init__(self, x):\n",
    "        self.x = x\n",
    "\n",
    "obj = MyClass(10)\n",
    "print(obj.__dict__)  # Output: {'x': 10}\n",
    "\n",
    "obj.y = 20  # Adding a new attribute\n",
    "print(obj.__dict__)  # Output: {'x': 10, 'y': 20}\n"
   ]
  },
  {
   "cell_type": "code",
   "execution_count": null,
   "id": "23024387-0a28-45a7-95bf-c5ac3a50d05d",
   "metadata": {},
   "outputs": [],
   "source": []
  }
 ],
 "metadata": {
  "kernelspec": {
   "display_name": "base",
   "language": "python",
   "name": "python3"
  },
  "language_info": {
   "codemirror_mode": {
    "name": "ipython",
    "version": 3
   },
   "file_extension": ".py",
   "mimetype": "text/x-python",
   "name": "python",
   "nbconvert_exporter": "python",
   "pygments_lexer": "ipython3",
   "version": "3.12.7"
  }
 },
 "nbformat": 4,
 "nbformat_minor": 5
}
