{
 "cells": [
  {
   "cell_type": "markdown",
   "id": "cb50196e-8e1e-4b7c-8278-a1f5faf67f46",
   "metadata": {},
   "source": [
    "# Iterable Objects in Python\n",
    "\n",
    "In Python, an **iterable** is any object that can be looped over (i.e., you can iterate over its elements one by one). Iterable objects are those that implement the `__iter__()` or `__getitem__()` methods. Here’s a list of common iterable objects in Python:\n",
    "\n",
    "### 1. **Sequences**\n",
    "   - **Strings (`str`)**: A sequence of characters, e.g., `\"hello\"`.\n",
    "   - **Lists (`list`)**: An ordered collection of elements, e.g., `[1, 2, 3]`.\n",
    "   - **Tuples (`tuple`)**: An ordered, immutable collection of elements, e.g., `(1, 2, 3)`.\n",
    "   - **Ranges (`range`)**: Represents an immutable sequence of numbers, e.g., `range(10)`.\n",
    "   \n",
    "### 2. **Non-Sequence Collections**\n",
    "   - **Sets (`set`)**: An unordered collection of unique elements, e.g., `{1, 2, 3}`.\n",
    "   - **Dictionaries (`dict`)**: A collection of key-value pairs, e.g., `{\"a\": 1, \"b\": 2}`.\n",
    "   - **Frozen Sets (`frozenset`)**: An immutable version of a set, e.g., `frozenset([1, 2, 3])`.\n",
    "   \n",
    "### 3. **File Objects**\n",
    "   - **Files (`file`)**: When opened, a file object can be iterated over line by line, e.g., `with open('file.txt') as f:`.\n",
    "   \n",
    "### 4. **Custom Iterables**\n",
    "   - **Custom Objects**: Any object can be made iterable by defining an `__iter__()` method that returns an iterator or a `__getitem__()` method that supports indexing.\n",
    "\n",
    "### 5. **Iterators**\n",
    "   - **Generators (`generator`)**: A function that yields items one at a time, e.g., `(x**2 for x in range(5))`.\n",
    "   - **Iterator Objects**: Any object with a `__next__()` method and an `__iter__()` method that returns `self`.\n",
    "\n",
    "### 6. **Comprehensions**\n",
    "   - **List Comprehensions**: `[x for x in range(10)]`.\n",
    "   - **Set Comprehensions**: `{x for x in range(10)}`.\n",
    "   - **Dictionary Comprehensions**: `{x: x**2 for x in range(10)}`.\n",
    "   - **Generator Expressions**: `(x for x in range(10))`.\n",
    "\n",
    "### 7. **Other Built-in Iterables**\n",
    "   - **Enumerate (`enumerate`)**: Provides a counter along with the iterable elements, e.g., `enumerate(['a', 'b', 'c'])`.\n",
    "   - **Zip (`zip`)**: Combines multiple iterables into tuples, e.g., `zip([1, 2], ['a', 'b'])`.\n",
    "   - **Map (`map`)**: Applies a function to every item of an iterable, e.g., `map(str.upper, ['a', 'b', 'c'])`.\n",
    "   - **Filter (`filter`)**: Filters items from an iterable, e.g., `filter(lambda x: x > 0, [-1, 0, 1, 2])`.\n",
    "\n",
    "These are some of the most common iterable objects in Python. Any object that can return its members one at a time can be considered an iterable."
   ]
  },
  {
   "cell_type": "markdown",
   "id": "f69093c7-daae-45ec-a863-9cf0926a1e57",
   "metadata": {},
   "source": []
  },
  {
   "cell_type": "code",
   "execution_count": null,
   "id": "49d48ff8-2055-4fd2-a506-f6584b29b898",
   "metadata": {},
   "outputs": [],
   "source": []
  },
  {
   "cell_type": "markdown",
   "id": "81a1c2fc-57e3-4b0b-a98a-fe7aa3210817",
   "metadata": {},
   "source": []
  },
  {
   "cell_type": "code",
   "execution_count": null,
   "id": "88fc47b1-1779-49df-a00f-07cec03ff23c",
   "metadata": {},
   "outputs": [],
   "source": []
  },
  {
   "cell_type": "markdown",
   "id": "c280aadf-4370-4442-aa46-e0d5886b81b1",
   "metadata": {},
   "source": []
  },
  {
   "cell_type": "code",
   "execution_count": null,
   "id": "cf2fcfc4-90f6-4186-a8d2-31e4ab5a3af9",
   "metadata": {},
   "outputs": [],
   "source": []
  },
  {
   "cell_type": "code",
   "execution_count": null,
   "id": "554b12b7-7370-4680-868d-96c04e6a4d22",
   "metadata": {},
   "outputs": [],
   "source": []
  }
 ],
 "metadata": {
  "kernelspec": {
   "display_name": "Python 3 (ipykernel)",
   "language": "python",
   "name": "python3"
  },
  "language_info": {
   "codemirror_mode": {
    "name": "ipython",
    "version": 3
   },
   "file_extension": ".py",
   "mimetype": "text/x-python",
   "name": "python",
   "nbconvert_exporter": "python",
   "pygments_lexer": "ipython3",
   "version": "3.12.4"
  }
 },
 "nbformat": 4,
 "nbformat_minor": 5
}
