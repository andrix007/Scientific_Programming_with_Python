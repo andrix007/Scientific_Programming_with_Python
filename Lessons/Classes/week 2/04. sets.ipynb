{
 "cells": [
  {
   "cell_type": "markdown",
   "id": "c24b23da-12b9-4b18-a9bb-bf5e53c2f667",
   "metadata": {},
   "source": [
    "# Basics of Sets in Python\n",
    "\n",
    "A **set** in Python is a collection of unique elements. Sets are unordered, which means the elements don't have a specific order, and mutable, so you can add or remove elements from them. Python sets are similar to mathematical sets and provide a way to perform standard set operations such as union, intersection, difference, and symmetric difference.\n",
    "\n",
    "## 1. **Difference**\n",
    "\n",
    "The **difference** between two sets is a set containing elements that are in the first set but not in the second set. \n",
    "\n",
    "#### Example: Identifying Employees Not Assigned to a Specific Project\n",
    "\n",
    "Suppose you have two sets:\n",
    "- `all_employees`: a set of all employees in a company.\n",
    "- `project_team`: a set of employees assigned to a particular project.\n",
    "\n",
    "You want to find out which employees are not assigned to the project.\n",
    "\n",
    "```python\n",
    "all_employees = {\"Alice\", \"Bob\", \"Charlie\", \"David\", \"Eve\"}\n",
    "project_team = {\"Alice\", \"David\"}\n",
    "\n",
    "# Employees not in the project team\n",
    "not_in_project = all_employees.difference(project_team)\n",
    "print(not_in_project)\n",
    "```\n",
    "\n",
    "**Output:**\n",
    "```python\n",
    "{'Bob', 'Charlie', 'Eve'}\n",
    "```\n",
    "\n",
    "## 2. **Union**\n",
    "\n",
    "The **union** of two sets is a set containing all unique elements from both sets.\n",
    "\n",
    "#### Example: Creating a List of All Participants in Events\n",
    "\n",
    "Imagine you have two sets:\n",
    "- `event_a`: a set of participants in Event A.\n",
    "- `event_b`: a set of participants in Event B.\n",
    "\n",
    "You want to find out all unique participants across both events.\n",
    "\n",
    "```python\n",
    "event_a = {\"Alice\", \"Bob\", \"Charlie\"}\n",
    "event_b = {\"Charlie\", \"David\", \"Eve\"}\n",
    "\n",
    "# All participants in either Event A or Event B\n",
    "all_participants = event_a.union(event_b)\n",
    "print(all_participants)\n",
    "```\n",
    "\n",
    "**Output:**\n",
    "```python\n",
    "{'Alice', 'Bob', 'Charlie', 'David', 'Eve'}\n",
    "```\n",
    "\n",
    "## 3. **Intersection**\n",
    "\n",
    "The **intersection** of two sets is a set containing only elements that are in both sets.\n",
    "\n",
    "#### Example: Identifying Common Skills Between Two Candidates\n",
    "\n",
    "Suppose you have two sets:\n",
    "- `candidate_a_skills`: a set of skills Candidate A possesses.\n",
    "- `candidate_b_skills`: a set of skills Candidate B possesses.\n",
    "\n",
    "You want to find out the common skills both candidates have.\n",
    "\n",
    "```python\n",
    "candidate_a_skills = {\"Python\", \"Java\", \"SQL\"}\n",
    "candidate_b_skills = {\"Java\", \"C++\", \"SQL\"}\n",
    "\n",
    "# Common skills between both candidates\n",
    "common_skills = candidate_a_skills.intersection(candidate_b_skills)\n",
    "print(common_skills)\n",
    "```\n",
    "\n",
    "**Output:**\n",
    "```python\n",
    "{'Java', 'SQL'}\n",
    "```\n",
    "\n",
    "## 4. **Symmetric Difference**\n",
    "\n",
    "The **symmetric difference** between two sets is a set containing elements that are in either of the sets but not in both.\n",
    "\n",
    "#### Example: Finding Exclusive Items Between Two Shopping Lists\n",
    "\n",
    "Consider two shopping lists:\n",
    "- `shopping_list_a`: a set of items in Shopping List A.\n",
    "- `shopping_list_b`: a set of items in Shopping List B.\n",
    "\n",
    "You want to find out which items are unique to each shopping list (not shared between them).\n",
    "\n",
    "```python\n",
    "shopping_list_a = {\"milk\", \"bread\", \"butter\"}\n",
    "shopping_list_b = {\"bread\", \"cheese\", \"yogurt\"}\n",
    "\n",
    "# Items unique to each shopping list\n",
    "unique_items = shopping_list_a.symmetric_difference(shopping_list_b)\n",
    "print(unique_items)\n",
    "```\n",
    "\n",
    "**Output:**\n",
    "```python\n",
    "{'milk', 'butter', 'cheese', 'yogurt'}\n",
    "```\n",
    "\n",
    "## Summary\n",
    "- **Difference**: Elements in one set but not in the other.\n",
    "- **Union**: All unique elements from both sets.\n",
    "- **Intersection**: Common elements between two sets.\n",
    "- **Symmetric Difference**: Elements unique to each set, excluding the common ones.\n",
    "\n",
    "These operations are particularly useful in various computational problems, such as filtering data, merging datasets, finding commonalities, and identifying differences."
   ]
  },
  {
   "cell_type": "markdown",
   "id": "39b86f29-644d-4d41-8e1d-e182f5be1caf",
   "metadata": {},
   "source": [
    "# Case Study: Managing a University Course Registration System\n",
    "\n",
    "Imagine you are managing a university course registration system. You need to handle the list of students enrolled in different courses, manage the updates to these lists, and perform various operations to answer questions about student enrollments.\n",
    "\n",
    "Let's go through the functions and methods in the context of this problem.\n",
    "\n",
    "### 1. **`add()`** - Add a student to a course.\n",
    "\n",
    "Suppose you want to add a student named \"Alice\" to the \"Math101\" course.\n",
    "\n",
    "```python\n",
    "math101_students = set()\n",
    "math101_students.add(\"Alice\")\n",
    "```\n",
    "\n",
    "### 2. **`update()`** - Add multiple students to a course at once.\n",
    "\n",
    "You receive a list of students who need to be added to \"Math101\".\n",
    "\n",
    "```python\n",
    "new_students = {\"Bob\", \"Charlie\", \"David\"}\n",
    "math101_students.update(new_students)\n",
    "```\n",
    "\n",
    "### 3. **`remove()`** - Remove a student from a course.\n",
    "\n",
    "You want to remove \"Charlie\" from \"Math101\".\n",
    "\n",
    "```python\n",
    "math101_students.remove(\"Charlie\")\n",
    "```\n",
    "\n",
    "### 4. **`discard()`** - Remove a student from a course, but don’t raise an error if the student isn’t enrolled.\n",
    "\n",
    "You want to remove \"Eve\", but you're not sure if she’s enrolled in \"Math101\".\n",
    "\n",
    "```python\n",
    "math101_students.discard(\"Eve\")\n",
    "```\n",
    "\n",
    "### 5. **`pop()`** - Remove and return an arbitrary student from the course.\n",
    "\n",
    "You need to randomly select and remove a student from \"Math101\" for a special task.\n",
    "\n",
    "```python\n",
    "removed_student = math101_students.pop()\n",
    "```\n",
    "\n",
    "### 6. **`clear()`** - Remove all students from the course.\n",
    "\n",
    "At the end of the semester, you clear all students from \"Math101\".\n",
    "\n",
    "```python\n",
    "math101_students.clear()\n",
    "```\n",
    "\n",
    "### 7. **`union()`** - Find all students enrolled in either of two courses.\n",
    "\n",
    "You want to find students enrolled in either \"Math101\" or \"Physics101\".\n",
    "\n",
    "```python\n",
    "physics101_students = {\"David\", \"Eve\"}\n",
    "all_students = math101_students.union(physics101_students)\n",
    "```\n",
    "\n",
    "### 8. **`intersection()`** - Find students enrolled in both courses.\n",
    "\n",
    "You need to find students who are taking both \"Math101\" and \"Physics101\".\n",
    "\n",
    "```python\n",
    "common_students = math101_students.intersection(physics101_students)\n",
    "```\n",
    "\n",
    "### 9. **`difference()`** - Find students enrolled in one course but not the other.\n",
    "\n",
    "You want to find students who are in \"Math101\" but not in \"Physics101\".\n",
    "\n",
    "```python\n",
    "only_math_students = math101_students.difference(physics101_students)\n",
    "```\n",
    "\n",
    "### 10. **`symmetric_difference()`** - Find students enrolled in either course but not both.\n",
    "\n",
    "You want to find students who are in exactly one of the two courses.\n",
    "\n",
    "```python\n",
    "exclusive_students = math101_students.symmetric_difference(physics101_students)\n",
    "```\n",
    "\n",
    "### 11. **`issubset()`** - Check if all students in one course are also in another.\n",
    "\n",
    "You want to check if all \"Math101\" students are also enrolled in \"Physics101\".\n",
    "\n",
    "```python\n",
    "is_subset = math101_students.issubset(physics101_students)\n",
    "```\n",
    "\n",
    "### 12. **`issuperset()`** - Check if all students in another course are also in this course.\n",
    "\n",
    "You want to check if \"Math101\" includes all \"Physics101\" students.\n",
    "\n",
    "```python\n",
    "is_superset = math101_students.issuperset(physics101_students)\n",
    "```\n",
    "\n",
    "### 13. **`isdisjoint()`** - Check if no students are shared between two courses.\n",
    "\n",
    "You want to verify that no students are enrolled in both \"Math101\" and \"Chem101\".\n",
    "\n",
    "```python\n",
    "chem101_students = {\"Fiona\", \"George\"}\n",
    "are_disjoint = math101_students.isdisjoint(chem101_students)\n",
    "```\n",
    "\n",
    "### 14. **`copy()`** - Create a copy of the set of students.\n",
    "\n",
    "You want to create a backup of the current \"Math101\" students.\n",
    "\n",
    "```python\n",
    "backup_students = math101_students.copy()\n",
    "```\n",
    "\n",
    "### 15. **`len()`** - Get the number of students in the course.\n",
    "\n",
    "You want to know how many students are enrolled in \"Math101\".\n",
    "\n",
    "```python\n",
    "num_students = len(math101_students)\n",
    "```\n",
    "\n",
    "### 16. **`in`** - Check if a student is enrolled in a course.\n",
    "\n",
    "You want to see if \"Alice\" is enrolled in \"Math101\".\n",
    "\n",
    "```python\n",
    "is_enrolled = \"Alice\" in math101_students\n",
    "```\n",
    "\n",
    "### 17. **`not in`** - Check if a student is not enrolled in a course.\n",
    "\n",
    "You want to see if \"Hannah\" is not enrolled in \"Math101\".\n",
    "\n",
    "```python\n",
    "is_not_enrolled = \"Hannah\" not in math101_students\n",
    "```\n",
    "\n",
    "## Summary of the Usage\n",
    "In this example, the various set functions and methods help manage student enrollments, perform queries on the data, and ensure that operations are performed safely and efficiently in the university course registration system. This approach simplifies the process of handling multiple students and courses with a consistent, easy-to-use set of tools."
   ]
  },
  {
   "cell_type": "code",
   "execution_count": 3,
   "id": "f4ca2440-8daf-4494-b0fe-d39491e5c748",
   "metadata": {},
   "outputs": [
    {
     "name": "stdout",
     "output_type": "stream",
     "text": [
      "{'Alice'}\n"
     ]
    }
   ],
   "source": [
    "#### 1. add() - Add a student to a course.\n",
    "\n",
    "\n",
    "math101_students = set()\n",
    "math101_students.add(\"Alice\")\n",
    "\n",
    "print(math101_students)"
   ]
  },
  {
   "cell_type": "code",
   "execution_count": 4,
   "id": "aedd7bf0-f35a-47e5-9d77-574632d185fa",
   "metadata": {},
   "outputs": [
    {
     "name": "stdout",
     "output_type": "stream",
     "text": [
      "{'David', 'Alice', 'Charlie', 'Bob'}\n"
     ]
    }
   ],
   "source": [
    "#### 2. update() - Add multiple students to a course at once.\n",
    "\n",
    "new_students = {\"Bob\", \"Charlie\", \"David\"}\n",
    "math101_students.update(new_students)\n",
    "\n",
    "print(math101_students)"
   ]
  },
  {
   "cell_type": "code",
   "execution_count": 5,
   "id": "fe1392cb-be95-4b04-b3e3-8e126af35249",
   "metadata": {},
   "outputs": [
    {
     "name": "stdout",
     "output_type": "stream",
     "text": [
      "{'David', 'Alice', 'Bob'}\n"
     ]
    }
   ],
   "source": [
    "#### 3. remove() - Remove a student from a course.\n",
    "\n",
    "math101_students.remove(\"Charlie\")\n",
    "\n",
    "print(math101_students)"
   ]
  },
  {
   "cell_type": "code",
   "execution_count": 6,
   "id": "1e41256c-e1a1-4995-8a1b-d184d2651836",
   "metadata": {},
   "outputs": [
    {
     "name": "stdout",
     "output_type": "stream",
     "text": [
      "{'David', 'Alice', 'Bob'}\n"
     ]
    }
   ],
   "source": [
    "#### 4. discard() - Remove a student from a course, but don’t raise an error if the student isn’t enrolled.\n",
    "\n",
    "math101_students.discard(\"Eve\")\n",
    "\n",
    "print(math101_students)"
   ]
  },
  {
   "cell_type": "code",
   "execution_count": 7,
   "id": "79980389-d5cc-4da8-a0ac-b809ad1ac462",
   "metadata": {},
   "outputs": [
    {
     "name": "stdout",
     "output_type": "stream",
     "text": [
      "{'Alice', 'Bob'}\n"
     ]
    }
   ],
   "source": [
    "#### 5. pop() - Remove and return an arbitrary student from the course.\n",
    "\n",
    "removed_student = math101_students.pop()\n",
    "\n",
    "print(math101_students)"
   ]
  },
  {
   "cell_type": "code",
   "execution_count": 8,
   "id": "fc68a838-fe64-41ca-9a39-7be70b70d93e",
   "metadata": {},
   "outputs": [
    {
     "name": "stdout",
     "output_type": "stream",
     "text": [
      "set()\n"
     ]
    }
   ],
   "source": [
    "#### 6. clear() - Remove all students from the course.\n",
    "\n",
    "math101_students.clear()\n",
    "\n",
    "print(math101_students)"
   ]
  },
  {
   "cell_type": "code",
   "execution_count": 9,
   "id": "a2308399-7f95-48e2-bbe8-df6dd97e17ed",
   "metadata": {},
   "outputs": [
    {
     "name": "stdout",
     "output_type": "stream",
     "text": [
      "{'Eve', 'David'}\n"
     ]
    }
   ],
   "source": [
    "#### 7. union() - Find all students enrolled in either of two courses.\n",
    "\n",
    "physics101_students = {\"David\", \"Eve\"}\n",
    "all_students = math101_students.union(physics101_students)\n",
    "\n",
    "print(all_students)"
   ]
  },
  {
   "cell_type": "code",
   "execution_count": 10,
   "id": "406198dd-24c3-44b3-8656-db3af790c5b6",
   "metadata": {},
   "outputs": [
    {
     "name": "stdout",
     "output_type": "stream",
     "text": [
      "set()\n"
     ]
    }
   ],
   "source": [
    "#### 8. intersection() - Find students enrolled in both courses.\n",
    "\n",
    "common_students = math101_students.intersection(physics101_students)\n",
    "\n",
    "print(common_students)"
   ]
  },
  {
   "cell_type": "code",
   "execution_count": 11,
   "id": "8f1e3ad0-9a83-4913-bb78-8c4591b54b11",
   "metadata": {},
   "outputs": [
    {
     "name": "stdout",
     "output_type": "stream",
     "text": [
      "set()\n"
     ]
    }
   ],
   "source": [
    "#### 9. difference() - Find students enrolled in one course but not the other.\n",
    "\n",
    "only_math_students = math101_students.difference(physics101_students)\n",
    "\n",
    "print(only_math_students)"
   ]
  },
  {
   "cell_type": "code",
   "execution_count": 12,
   "id": "c0e2bb63-9f28-4443-8abc-862fb44769ca",
   "metadata": {},
   "outputs": [
    {
     "name": "stdout",
     "output_type": "stream",
     "text": [
      "{'Eve', 'David'}\n"
     ]
    }
   ],
   "source": [
    "#### 10. symmetric_difference() - Find students enrolled in either course but not both.\n",
    "\n",
    "exclusive_students = math101_students.symmetric_difference(physics101_students)\n",
    "\n",
    "print(exclusive_students)"
   ]
  },
  {
   "cell_type": "code",
   "execution_count": 14,
   "id": "9be2e16f-dcb8-497a-a270-8d4fd42fe938",
   "metadata": {},
   "outputs": [
    {
     "name": "stdout",
     "output_type": "stream",
     "text": [
      "set()\n",
      "{'Eve', 'David'}\n",
      "True\n"
     ]
    }
   ],
   "source": [
    "#### 11. issubset() - Check if all students in one course are also in another.\n",
    "\n",
    "is_subset = math101_students.issubset(physics101_students)\n",
    "\n",
    "print(math101_students)\n",
    "print(physics101_students)\n",
    "print(is_subset)"
   ]
  },
  {
   "cell_type": "code",
   "execution_count": 16,
   "id": "9c1531be-983b-48ee-95f3-e9b99478f9ae",
   "metadata": {},
   "outputs": [
    {
     "name": "stdout",
     "output_type": "stream",
     "text": [
      "set()\n",
      "{'Eve', 'David'}\n",
      "False\n"
     ]
    }
   ],
   "source": [
    "#### 12. issuperset() - Check if all students in another course are also in this course.\n",
    "\n",
    "is_superset = math101_students.issuperset(physics101_students)\n",
    "\n",
    "print(math101_students)\n",
    "print(physics101_students)\n",
    "print(is_superset)"
   ]
  },
  {
   "cell_type": "code",
   "execution_count": 17,
   "id": "3f9ae60f-ad66-4fd8-b9d8-ec2e3f6779be",
   "metadata": {},
   "outputs": [
    {
     "name": "stdout",
     "output_type": "stream",
     "text": [
      "set()\n",
      "{'George', 'Fiona'}\n",
      "True\n"
     ]
    }
   ],
   "source": [
    "#### 13. isdisjoint() - Check if no students are shared between two courses.\n",
    "\n",
    "chem101_students = {\"Fiona\", \"George\"}\n",
    "are_disjoint = math101_students.isdisjoint(chem101_students)\n",
    "\n",
    "print(math101_students)\n",
    "print(chem101_students)\n",
    "print(are_disjoint)"
   ]
  },
  {
   "cell_type": "code",
   "execution_count": 19,
   "id": "a8f6de78-5298-4ec6-b0c8-c6819659f976",
   "metadata": {},
   "outputs": [
    {
     "name": "stdout",
     "output_type": "stream",
     "text": [
      "{'George', 'Fiona'}\n",
      "{'George', 'Fiona'}\n"
     ]
    }
   ],
   "source": [
    "#### 14. copy() - Create a copy of the set of students.\n",
    "\n",
    "backup_students = chem101_students.copy()\n",
    "\n",
    "print(chem101_students)\n",
    "print(backup_students)"
   ]
  },
  {
   "cell_type": "code",
   "execution_count": 21,
   "id": "4e25954f-89de-41cb-9a4e-624db7d70034",
   "metadata": {},
   "outputs": [
    {
     "name": "stdout",
     "output_type": "stream",
     "text": [
      "{'George', 'Fiona'}\n",
      "2\n"
     ]
    }
   ],
   "source": [
    "#### 15. len() - Get the number of students in the course.\n",
    "\n",
    "num_students = len(chem101_students)\n",
    "\n",
    "print(chem101_students)\n",
    "print(num_students)"
   ]
  },
  {
   "cell_type": "code",
   "execution_count": 24,
   "id": "a6f6f213-a4cf-44df-89f8-32a3653a295f",
   "metadata": {},
   "outputs": [
    {
     "name": "stdout",
     "output_type": "stream",
     "text": [
      "{'George', 'Fiona'}\n",
      "False\n",
      "True\n"
     ]
    }
   ],
   "source": [
    "#### 16. in - Check if a student is enrolled in a course.\n",
    "\n",
    "is_enrolled = \"Alice\" in chem101_students\n",
    "\n",
    "print(chem101_students)\n",
    "print(is_enrolled)\n",
    "\n",
    "is_enrolled = \"Fiona\" in chem101_students\n",
    "print(is_enrolled)"
   ]
  },
  {
   "cell_type": "code",
   "execution_count": 26,
   "id": "4e1f4d27-96d3-4a19-8356-3bb3e19b9d8f",
   "metadata": {},
   "outputs": [
    {
     "name": "stdout",
     "output_type": "stream",
     "text": [
      "set()\n",
      "True\n"
     ]
    }
   ],
   "source": [
    "#### 17. not in - Check if a student is not enrolled in a course.\n",
    "\n",
    "is_not_enrolled = \"Hannah\" not in math101_students\n",
    "print(math101_students)\n",
    "print(is_not_enrolled)"
   ]
  },
  {
   "cell_type": "code",
   "execution_count": 1,
   "id": "147e86a5-a7b0-4086-9ba4-3f5f99bb5f99",
   "metadata": {},
   "outputs": [],
   "source": []
  },
  {
   "cell_type": "code",
   "execution_count": null,
   "id": "c49f138b-654d-412c-99bd-4310a810b45c",
   "metadata": {},
   "outputs": [],
   "source": []
  }
 ],
 "metadata": {
  "kernelspec": {
   "display_name": "Python 3 (ipykernel)",
   "language": "python",
   "name": "python3"
  },
  "language_info": {
   "codemirror_mode": {
    "name": "ipython",
    "version": 3
   },
   "file_extension": ".py",
   "mimetype": "text/x-python",
   "name": "python",
   "nbconvert_exporter": "python",
   "pygments_lexer": "ipython3",
   "version": "3.12.4"
  }
 },
 "nbformat": 4,
 "nbformat_minor": 5
}
