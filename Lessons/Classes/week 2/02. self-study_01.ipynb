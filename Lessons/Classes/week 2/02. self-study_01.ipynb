{
 "cells": [
  {
   "cell_type": "markdown",
   "id": "d6ad8294-c6a5-4591-b89c-262091803e24",
   "metadata": {},
   "source": [
    "## Sorting a list of complex numbers:\n",
    "\n",
    "In Python, complex numbers cannot be directly compared using the usual comparison operators (`<`, `>`, etc.) because complex numbers have both real and imaginary parts, and there isn't a natural way to order them in a linear fashion. As a result, trying to sort a list of complex numbers directly will raise a `TypeError`.\n",
    "\n",
    "However, you can define a custom sort order for complex numbers by specifying a key function in the `sort()` method or the `sorted()` function. Common strategies include sorting by the real part, the imaginary part, or the magnitude (absolute value) of the complex numbers.\n",
    "\n",
    "### Example 1: Sorting by Real Part\n",
    "\n",
    "If you want to sort a list of complex numbers based on their real parts, you can do the following:\n",
    "\n",
    "```python\n",
    "# List of complex numbers\n",
    "complex_numbers = [3 + 4j, 1 + 2j, 5 + 0j, 2 + 3j]\n",
    "\n",
    "# Sort by real part\n",
    "complex_numbers.sort(key=lambda x: x.real)\n",
    "\n",
    "print(\"Sorted by real part:\", complex_numbers)\n",
    "```\n",
    "\n",
    "**Output:**\n",
    "```python\n",
    "Sorted by real part: [(1+2j), (2+3j), (3+4j), (5+0j)]\n",
    "```\n",
    "\n",
    "### Example 2: Sorting by Imaginary Part\n",
    "\n",
    "If you want to sort by the imaginary part, you can use:\n",
    "\n",
    "```python\n",
    "# Sort by imaginary part\n",
    "complex_numbers.sort(key=lambda x: x.imag)\n",
    "\n",
    "print(\"Sorted by imaginary part:\", complex_numbers)\n",
    "```\n",
    "\n",
    "**Output:**\n",
    "```python\n",
    "Sorted by imaginary part: [(5+0j), (1+2j), (2+3j), (3+4j)]\n",
    "```\n",
    "\n",
    "### Example 3: Sorting by Magnitude (Absolute Value)\n",
    "\n",
    "The magnitude (or absolute value) of a complex number \\( z = a + bj \\) is calculated as \\( $|z| = \\sqrt{a^2 + b^2}$ \\). You can sort based on the magnitude using:\n",
    "\n",
    "```python\n",
    "# Sort by magnitude (absolute value)\n",
    "complex_numbers.sort(key=abs)\n",
    "\n",
    "print(\"Sorted by magnitude:\", complex_numbers)\n",
    "```\n",
    "\n",
    "**Output:**\n",
    "```python\n",
    "Sorted by magnitude: [(1+2j), (2+3j), (3+4j), (5+0j)]\n",
    "```\n",
    "\n",
    "### Explanation:\n",
    "\n",
    "- **Sorting by Real Part:** The `key=lambda x: x.real` sorts the list by the real component of each complex number.\n",
    "- **Sorting by Imaginary Part:** The `key=lambda x: x.imag` sorts the list by the imaginary component of each complex number.\n",
    "- **Sorting by Magnitude:** The `key=abs` sorts the list based on the magnitude of each complex number, using the `abs()` function which calculates \\( $\\sqrt{a^2 + b^2}$ \\).\n",
    "\n",
    "### Summary:\n",
    "Python doesn't inherently know how to sort complex numbers because they aren't naturally ordered. However, by using custom `key` functions, you can define the criteria by which complex numbers are sorted, such as by their real part, imaginary part, or magnitude."
   ]
  },
  {
   "cell_type": "code",
   "execution_count": 1,
   "id": "fb69fc86-93ef-4cc5-943c-5ff510649e13",
   "metadata": {},
   "outputs": [
    {
     "name": "stdout",
     "output_type": "stream",
     "text": [
      "Sorted by real part: [(1+2j), (2+3j), (3+4j), (5+0j)]\n"
     ]
    }
   ],
   "source": [
    "# Example 1: Sorting by Real Part\n",
    "# If you want to sort a list of complex numbers based on their real parts, you can do the following:\n",
    "\n",
    "# List of complex numbers\n",
    "complex_numbers = [3 + 4j, 1 + 2j, 5 + 0j, 2 + 3j]\n",
    "\n",
    "# Sort by real part\n",
    "complex_numbers.sort(key=lambda x: x.real)\n",
    "\n",
    "print(\"Sorted by real part:\", complex_numbers)"
   ]
  },
  {
   "cell_type": "code",
   "execution_count": 2,
   "id": "8bc3ec9b-5d15-4603-b9e4-def13cbf2fad",
   "metadata": {},
   "outputs": [
    {
     "name": "stdout",
     "output_type": "stream",
     "text": [
      "Sorted by imaginary part: [(5+0j), (1+2j), (2+3j), (3+4j)]\n"
     ]
    }
   ],
   "source": [
    "# Example 2: Sorting by Imaginary Part\n",
    "# If you want to sort by the imaginary part, you can use:\n",
    "\n",
    "# Sort by imaginary part\n",
    "complex_numbers.sort(key=lambda x: x.imag)\n",
    "\n",
    "print(\"Sorted by imaginary part:\", complex_numbers)"
   ]
  },
  {
   "cell_type": "code",
   "execution_count": 4,
   "id": "b2d4e116-fb08-4299-88d7-1426dfd608e0",
   "metadata": {},
   "outputs": [
    {
     "name": "stdout",
     "output_type": "stream",
     "text": [
      "Sorted by magnitude: [(1+2j), (2+3j), (5+0j), (3+4j)]\n"
     ]
    }
   ],
   "source": [
    "# Example 3: Sorting by Magnitude (Absolute Value)\n",
    "# You can sort based on the magnitude using:\n",
    "\n",
    "# Sort by magnitude (absolute value)\n",
    "complex_numbers.sort(key=abs) # Note the function of abs\n",
    "\n",
    "print(\"Sorted by magnitude:\", complex_numbers)"
   ]
  },
  {
   "cell_type": "markdown",
   "id": "3f3d59a4-0fd2-4c76-a264-ed4255c53d48",
   "metadata": {},
   "source": [
    "## Sorting a list of heterogeneous data:\n",
    "\n",
    "In Python, sorting a list containing heterogeneous data (i.e., data of different types) can be tricky. Python 3 does not allow direct comparisons between different data types, such as comparing a string with an integer. Attempting to sort a list with mixed data types like integers, strings, and floats without a custom key function will raise a `TypeError`.\n",
    "\n",
    "### Example of Attempting to Sort a Heterogeneous List\n",
    "\n",
    "```python\n",
    "heterogeneous_list = [3, \"apple\", 2.5, \"banana\", 1]\n",
    "\n",
    "# Attempt to sort. Ignore the details of try, except for this week. We shall cover these later.\n",
    "try:\n",
    "    heterogeneous_list.sort()\n",
    "except TypeError as e:\n",
    "    print(f\"Error: {e}\")\n",
    "```\n",
    "\n",
    "**Output:**\n",
    "```\n",
    "Error: '<' not supported between instances of 'str' and 'int'\n",
    "```\n",
    "\n",
    "This error occurs because Python does not know how to compare, for example, the integer `3` with the string `\"apple\"`.\n",
    "\n",
    "### Sorting a Heterogeneous List Using a Custom Key\n",
    "\n",
    "To sort a heterogeneous list, you can define a custom key function that provides a consistent way to compare the elements. One approach is to convert all items to strings and then sort them:\n",
    "\n",
    "```python\n",
    "heterogeneous_list = [3, \"apple\", 2.5, \"banana\", 1]\n",
    "\n",
    "# Sort by converting each item to a string\n",
    "heterogeneous_list.sort(key=str)\n",
    "\n",
    "print(\"Sorted list:\", heterogeneous_list)\n",
    "```\n",
    "\n",
    "**Output:**\n",
    "```python\n",
    "Sorted list: [1, 2.5, 3, 'apple', 'banana']\n",
    "```\n",
    "\n",
    "### Explanation:\n",
    "\n",
    "- **Custom Key Function (`key=str`)**: The `key=str` argument converts each element to a string before comparing. This allows Python to sort the elements in a consistent manner, as strings can be compared with each other lexicographically.\n",
    "- **Resulting Order**: The list is sorted lexicographically, meaning numbers appear first because when converted to strings, their numerical order still applies, followed by the strings in alphabetical order.\n",
    "\n",
    "### Summary:\n",
    "\n",
    "Python does not support direct sorting of heterogeneous lists containing different types like integers, strings, and floats due to type comparison restrictions. However, you can use a custom `key` function, such as `key=str`, to convert all elements to a comparable form, enabling sorting. This approach ensures that all elements can be compared and ordered consistently."
   ]
  },
  {
   "cell_type": "code",
   "execution_count": 10,
   "id": "72e65e98-af58-49bd-9f55-440cfc336b47",
   "metadata": {},
   "outputs": [
    {
     "name": "stdout",
     "output_type": "stream",
     "text": [
      "Sorted list: [1, 2.5, 3, 'apple', 'banana']\n"
     ]
    }
   ],
   "source": [
    "heterogeneous_list = [3, \"apple\", 2.5, \"banana\", 1]\n",
    "\n",
    "# Sort by converting each item to a string\n",
    "heterogeneous_list.sort(key=str)\n",
    "\n",
    "print(\"Sorted list:\", heterogeneous_list)"
   ]
  },
  {
   "cell_type": "code",
   "execution_count": 14,
   "id": "8e2378ef-cfbd-4c43-bb26-035cea664844",
   "metadata": {},
   "outputs": [
    {
     "ename": "ValueError",
     "evalue": "invalid literal for int() with base 10: '25.9'",
     "output_type": "error",
     "traceback": [
      "\u001b[1;31m---------------------------------------------------------------------------\u001b[0m",
      "\u001b[1;31mValueError\u001b[0m                                Traceback (most recent call last)",
      "Cell \u001b[1;32mIn[14], line 4\u001b[0m\n\u001b[0;32m      1\u001b[0m data \u001b[38;5;241m=\u001b[39m [\u001b[38;5;241m3\u001b[39m, \u001b[38;5;124m\"\u001b[39m\u001b[38;5;124m30\u001b[39m\u001b[38;5;124m\"\u001b[39m, \u001b[38;5;241m2.5\u001b[39m, \u001b[38;5;124m\"\u001b[39m\u001b[38;5;124m25.9\u001b[39m\u001b[38;5;124m\"\u001b[39m, \u001b[38;5;241m25.9\u001b[39m, \u001b[38;5;241m1\u001b[39m]\n\u001b[0;32m      3\u001b[0m \u001b[38;5;66;03m# Sort by converting each item to an int. This will generate error for our data. Why?\u001b[39;00m\n\u001b[1;32m----> 4\u001b[0m \u001b[43mdata\u001b[49m\u001b[38;5;241;43m.\u001b[39;49m\u001b[43msort\u001b[49m\u001b[43m(\u001b[49m\u001b[43mkey\u001b[49m\u001b[38;5;241;43m=\u001b[39;49m\u001b[38;5;28;43mint\u001b[39;49m\u001b[43m)\u001b[49m\n\u001b[0;32m      5\u001b[0m \u001b[38;5;28mprint\u001b[39m(\u001b[38;5;124m\"\u001b[39m\u001b[38;5;124mSorted list:\u001b[39m\u001b[38;5;124m\"\u001b[39m, data)\n",
      "\u001b[1;31mValueError\u001b[0m: invalid literal for int() with base 10: '25.9'"
     ]
    }
   ],
   "source": [
    "data = [3, \"30\", 2.5, \"25.9\", 25.9, 1]\n",
    "\n",
    "# Sort by converting each item to an int. This will generate error for our data. Why?\n",
    "data.sort(key=int)\n",
    "print(\"Sorted list:\", data)"
   ]
  },
  {
   "cell_type": "code",
   "execution_count": 12,
   "id": "8c83d752-57f9-4a1f-bfe1-371b62837493",
   "metadata": {},
   "outputs": [
    {
     "name": "stdout",
     "output_type": "stream",
     "text": [
      "Sorted list: [1, 2.5, 3, '25.9', 25.9, '30']\n"
     ]
    }
   ],
   "source": [
    "data = [3, \"30\", 2.5, \"25.9\", 25.9, 1]\n",
    "\n",
    "# Sort by converting each item to a string\n",
    "data.sort(key=float)\n",
    "print(\"Sorted list:\", data)"
   ]
  },
  {
   "cell_type": "code",
   "execution_count": 13,
   "id": "0abad2d5-5a1d-4349-a6a0-922b916feb4b",
   "metadata": {},
   "outputs": [
    {
     "name": "stdout",
     "output_type": "stream",
     "text": [
      "Sorted data1 list: [1, 2.5, 3, '25.9', 25.9, '30']\n",
      "Sorted data2 list: [1, 2.5, 3, '25.9', 25.9, '30']\n"
     ]
    }
   ],
   "source": [
    "data1 = [3, \"30\", 2.5, \"25.9\", 25.9, 1]\n",
    "data2 = [3, \"30\", 2.5, \"25.9\", 25.9, 1]\n",
    "\n",
    "# Sort by converting each item to a string\n",
    "data1.sort(key=float)\n",
    "print(\"Sorted data1 list:\", data1)\n",
    "\n",
    "data2.sort(key= lambda x: int(float(x)))\n",
    "print(\"Sorted data2 list:\", data2)"
   ]
  },
  {
   "cell_type": "markdown",
   "id": "6649f0ed-d1c6-483d-9da1-a2943c57edb4",
   "metadata": {},
   "source": [
    "## Deep vs. Shallow Copy in Python Lists\n",
    "\n",
    "#### **Shallow Copy**\n",
    "A shallow copy of a list creates a new list, but the elements within the list are references to the original objects. If the elements are mutable objects (e.g., lists, dictionaries), changes to these objects will reflect in both the original and the copied list because both lists are referencing the same objects.\n",
    "\n",
    "#### **Deep Copy**\n",
    "A deep copy, on the other hand, creates a new list and recursively copies all objects found in the original list. This means that any changes made to the elements of the deep-copied list will not affect the original list, and vice versa, because the deep copy creates entirely new objects, not just references.\n",
    "\n",
    "### Example: Shallow Copy vs. Deep Copy\n",
    "\n",
    "```python\n",
    "import copy\n",
    "\n",
    "# Original list with nested lists\n",
    "original_list = [[1, 2, 3], [4, 5, 6], 7, 8]\n",
    "\n",
    "# Create a shallow copy\n",
    "shallow_copied_list = copy.copy(original_list)\n",
    "\n",
    "# Create a deep copy\n",
    "deep_copied_list = copy.deepcopy(original_list)\n",
    "\n",
    "# Modify an element in the nested list of the original list\n",
    "original_list[0][1] = 'X'\n",
    "\n",
    "print(\"Original list:\", original_list)\n",
    "print(\"Shallow copied list:\", shallow_copied_list)\n",
    "print(\"Deep copied list:\", deep_copied_list)\n",
    "```\n",
    "\n",
    "**Output:**\n",
    "\n",
    "```python\n",
    "Original list: [[1, 'X', 3], [4, 5, 6], 7, 8]\n",
    "Shallow copied list: [[1, 'X', 3], [4, 5, 6], 7, 8]\n",
    "Deep copied list: [[1, 2, 3], [4, 5, 6], 7, 8]\n",
    "```\n",
    "\n",
    "### Explanation:\n",
    "\n",
    "- **Shallow Copy (`copy.copy()`):**\n",
    "  - The `shallow_copied_list` has a copy of the original list, but the inner lists (`[1, 2, 3]` and `[4, 5, 6]`) are still references to the same objects in memory as in the `original_list`.\n",
    "  - When we modify `original_list[0][1] = 'X'`, this change is reflected in the `shallow_copied_list` as well because they share the same inner lists.\n",
    "\n",
    "- **Deep Copy (`copy.deepcopy()`):**\n",
    "  - The `deep_copied_list` has a completely independent copy of all elements, including the nested lists.\n",
    "  - When we modify `original_list[0][1] = 'X'`, the `deep_copied_list` remains unchanged because it has its own copies of the nested lists.\n",
    "\n",
    "### Exclusive Uses:\n",
    "\n",
    "#### **Shallow Copy**\n",
    "- **Use when** you need a simple, non-recursive copy of the list and you are sure that the list does not contain nested structures or when you intentionally want to share references between the original and copied list.\n",
    "- **Example use case**: Copying a list of immutable objects like integers or strings, where the original and copied lists can safely share the same objects.\n",
    "\n",
    "#### **Deep Copy**\n",
    "- **Use when** you need a completely independent copy of a list, including all nested objects, and you want to ensure that changes to the copied list do not affect the original list in any way.\n",
    "- **Example use case**: Copying a list of mutable objects, such as other lists, dictionaries, or custom objects, where any modification in the copy should not alter the original list.\n",
    "\n",
    "### Summary:\n",
    "- **Shallow Copy**: Copies the list structure but not the objects within the list, resulting in shared references.\n",
    "- **Deep Copy**: Recursively copies everything, ensuring that all objects are independent between the original and the copied list."
   ]
  },
  {
   "cell_type": "code",
   "execution_count": 9,
   "id": "5d69bbc9-2de7-4293-b130-17a1de18c879",
   "metadata": {},
   "outputs": [
    {
     "name": "stdout",
     "output_type": "stream",
     "text": [
      "Original list: [[1, 2, 3], [4, 5, 6], 7, 8]\n",
      "Modified original list: [[1, 'X', 3], [4, 5, 6], 7, 8]\n",
      "Shallow copied list: [[1, 'X', 3], [4, 5, 6], 7, 8]\n",
      "Deep copied list: [[1, 2, 3], [4, 5, 6], 7, 8]\n"
     ]
    }
   ],
   "source": [
    "import copy\n",
    "\n",
    "# Original list with nested lists\n",
    "original_list = [[1, 2, 3], [4, 5, 6], 7, 8]\n",
    "print(\"Original list:\", original_list)\n",
    "\n",
    "# Create a shallow copy\n",
    "shallow_copied_list = copy.copy(original_list)\n",
    "\n",
    "# Create a deep copy\n",
    "deep_copied_list = copy.deepcopy(original_list)\n",
    "\n",
    "# Modify an element in the nested list of the original list\n",
    "original_list[0][1] = 'X'\n",
    "\n",
    "print(\"Modified original list:\", original_list)\n",
    "print(\"Shallow copied list:\", shallow_copied_list)\n",
    "print(\"Deep copied list:\", deep_copied_list)"
   ]
  },
  {
   "cell_type": "code",
   "execution_count": null,
   "id": "fba76c88-26b1-4aed-a74a-1fe7186e878b",
   "metadata": {},
   "outputs": [],
   "source": []
  }
 ],
 "metadata": {
  "kernelspec": {
   "display_name": "Python 3 (ipykernel)",
   "language": "python",
   "name": "python3"
  },
  "language_info": {
   "codemirror_mode": {
    "name": "ipython",
    "version": 3
   },
   "file_extension": ".py",
   "mimetype": "text/x-python",
   "name": "python",
   "nbconvert_exporter": "python",
   "pygments_lexer": "ipython3",
   "version": "3.12.4"
  }
 },
 "nbformat": 4,
 "nbformat_minor": 5
}
