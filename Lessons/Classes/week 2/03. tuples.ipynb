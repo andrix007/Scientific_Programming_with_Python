{
 "cells": [
  {
   "cell_type": "markdown",
   "id": "b4379bef-2f0f-462e-b58a-980ab46d5339",
   "metadata": {},
   "source": [
    "# Named Tuple\n",
    "\n",
    "In Python, a `namedtuple` is a factory function for creating tuple subclasses with named fields. Named tuples allow you to create simple classes that group together some values, and these values can be accessed using names (field names) instead of just index positions. Named tuples are essentially an extension of the regular tuples with named attributes for accessing elements.\n",
    "\n",
    "### Why Use Named Tuples?\n",
    "- **Clarity**: Named tuples make the code more readable by allowing you to refer to tuple elements by name rather than index.\n",
    "- **Immutability**: Like regular tuples, named tuples are immutable, meaning their elements cannot be changed after creation.\n",
    "- **Lightweight**: Named tuples are a lightweight alternative to defining a class in situations where you just need to bundle together some attributes.\n",
    "\n",
    "### Example of Using Named Tuples\n",
    "\n",
    "1. **Creating a Named Tuple**\n",
    "   You can create a named tuple using the `collections.namedtuple` function.\n",
    "\n",
    "   ```python\n",
    "   from collections import namedtuple\n",
    "\n",
    "   # Define a named tuple called 'Point' with fields 'x' and 'y'\n",
    "   Point = namedtuple('Point', ['x', 'y'])\n",
    "\n",
    "   # Create instances of Point\n",
    "   p1 = Point(2, 3)\n",
    "   p2 = Point(5, 7)\n",
    "\n",
    "   # Accessing elements by name\n",
    "   print(p1.x)  # Output: 2\n",
    "   print(p2.y)  # Output: 7\n",
    "\n",
    "   # Accessing elements by index (just like a regular tuple)\n",
    "   print(p1[0])  # Output: 2\n",
    "   print(p2[1])  # Output: 7\n",
    "   ```\n",
    "\n",
    "   In this example, `Point` is a named tuple with two fields, `x` and `y`. We can access these fields by name (`p1.x`) or by index (`p1[0]`).\n",
    "\n",
    "2. **Using Named Tuples in a More Complex Example**\n",
    "\n",
    "   Suppose you're working with data about students and you want to store the name, age, and grade of each student.\n",
    "\n",
    "   ```python\n",
    "   from collections import namedtuple\n",
    "\n",
    "   # Define a named tuple called 'Student' with fields 'name', 'age', and 'grade'\n",
    "   Student = namedtuple('Student', ['name', 'age', 'grade'])\n",
    "\n",
    "   # Create instances of Student\n",
    "   student1 = Student(name='Alice', age=20, grade='A')\n",
    "   student2 = Student(name='Bob', age=22, grade='B')\n",
    "\n",
    "   # Accessing the fields\n",
    "   print(student1.name)  # Output: Alice\n",
    "   print(student2.age)   # Output: 22\n",
    "\n",
    "   # Named tuple behaves like a regular tuple\n",
    "   print(student1)  # Output: Student(name='Alice', age=20, grade='A')\n",
    "\n",
    "   # Named tuples are immutable\n",
    "   try:\n",
    "       student1.age = 21  # This will raise an AttributeError\n",
    "   except AttributeError as e:\n",
    "       print(e)  # Output: can't set attribute\n",
    "   ```\n",
    "\n",
    "   In this example, `Student` is a named tuple that stores the name, age, and grade of a student. Like regular tuples, named tuples are immutable, so once a `Student` instance is created, you cannot modify its fields.\n",
    "\n",
    "3. **Using `._replace()` to Create a Modified Copy**\n",
    "\n",
    "   Although named tuples are immutable, you can create a modified copy of a named tuple using the `._replace()` method.\n",
    "\n",
    "   ```python\n",
    "   updated_student = student1._replace(age=21)\n",
    "   print(updated_student)  # Output: Student(name='Alice', age=21, grade='A')\n",
    "   ```\n",
    "\n",
    "   The `._replace()` method creates a new instance of the named tuple with the specified field(s) replaced.\n",
    "\n",
    "4. **Converting Named Tuple to a Dictionary**\n",
    "\n",
    "   You can convert a named tuple to a dictionary using the `_asdict()` method, which can be useful for serialization or when you need to work with the data in dictionary form.\n",
    "\n",
    "   ```python\n",
    "   student_dict = student1._asdict()\n",
    "   print(student_dict)  # Output: {'name': 'Alice', 'age': 20, 'grade': 'A'}\n",
    "   ```\n",
    "\n",
    "5. **Default Values in Named Tuples (Python 3.7+)**\n",
    "\n",
    "   With Python 3.7 and later, you can use `NamedTuple` from the `typing` module to define named tuples with default values.\n",
    "\n",
    "   ```python\n",
    "   from typing import NamedTuple\n",
    "\n",
    "   class Student(NamedTuple):\n",
    "       name: str\n",
    "       age: int = 18  # default age is 18\n",
    "       grade: str = 'B'  # default grade is B\n",
    "\n",
    "   student3 = Student(name='Charlie')\n",
    "   print(student3)  # Output: Student(name='Charlie', age=18, grade='B')\n",
    "   ```\n",
    "\n",
    "   Here, `Student` is a named tuple with default values for `age` and `grade`. If you create a `Student` without providing these fields, they will take on their default values.\n",
    "\n",
    "### Summary:\n",
    "- **Named tuples** enhance the readability and usability of tuples by allowing you to access elements by name rather than by index.\n",
    "- They are immutable like regular tuples, making them suitable for use cases where data should not be altered.\n",
    "- Named tuples are especially useful when you need to group related data in a clear and concise way without the overhead of defining a full class."
   ]
  },
  {
   "cell_type": "markdown",
   "id": "9c8211a0-4d1b-4090-a308-a69c49e3146b",
   "metadata": {},
   "source": [
    "# Case Study: Managing a Product Inventory System\n",
    "\n",
    "Imagine you are managing an inventory system for a store. Each product in your inventory is represented as a tuple containing the product name, its price, and the quantity available. You need to perform various operations on the inventory data using tuples.\n",
    "\n",
    "Let’s go through the functions and methods in the context of this problem.\n",
    "\n",
    "### Inventory Example\n",
    "\n",
    "```python\n",
    "inventory = [\n",
    "    (\"apple\", 0.5, 50),\n",
    "    (\"banana\", 0.2, 150),\n",
    "    (\"orange\", 0.75, 30),\n",
    "    (\"pear\", 0.5, 50)\n",
    "]\n",
    "```\n",
    "\n",
    "### 1. **`count()`** - Count the occurrence of a specific value in a tuple.\n",
    "\n",
    "You want to count how many products have the same price.\n",
    "\n",
    "```python\n",
    "prices = tuple(item[1] for item in inventory)\n",
    "price_count = prices.count(0.5)\n",
    "```\n",
    "\n",
    "### 2. **`index()`** - Find the first occurrence of a specific value in a tuple.\n",
    "\n",
    "You want to find the position of a specific product in the inventory.\n",
    "\n",
    "```python\n",
    "product_names = tuple(item[0] for item in inventory)\n",
    "banana_index = product_names.index(\"banana\")\n",
    "```\n",
    "\n",
    "### 3. **`len()`** - Get the number of items (products) in the inventory.\n",
    "\n",
    "You want to know how many different products are in your inventory.\n",
    "\n",
    "```python\n",
    "num_products = len(inventory)\n",
    "```\n",
    "\n",
    "### 4. **`max()`** - Find the maximum value in a tuple.\n",
    "\n",
    "You want to find the product with the highest price.\n",
    "\n",
    "```python\n",
    "prices = tuple(item[1] for item in inventory)\n",
    "max_price = max(prices)\n",
    "```\n",
    "\n",
    "### 5. **`min()`** - Find the minimum value in a tuple.\n",
    "\n",
    "You want to find the product with the lowest price.\n",
    "\n",
    "```python\n",
    "min_price = min(prices)\n",
    "```\n",
    "\n",
    "### 6. **`sum()`** - Calculate the total sum of elements in a tuple.\n",
    "\n",
    "You want to calculate the total inventory count (total number of units) across all products.\n",
    "\n",
    "```python\n",
    "quantities = tuple(item[2] for item in inventory)\n",
    "total_inventory = sum(quantities)\n",
    "```\n",
    "\n",
    "### 7. **`sorted()`** - Sort the elements of a tuple.\n",
    "\n",
    "You want to sort the inventory by product prices in ascending order.\n",
    "\n",
    "```python\n",
    "sorted_inventory = sorted(inventory, key=lambda x: x[1])\n",
    "```\n",
    "\n",
    "### 8. **`tuple()`** - Convert another data type to a tuple.\n",
    "\n",
    "You want to ensure that the list of product names is converted to a tuple to make it immutable.\n",
    "\n",
    "```python\n",
    "product_names = tuple(product_names)\n",
    "```\n",
    "\n",
    "### 9. **`in`** - Check if a specific product is in the inventory.\n",
    "\n",
    "You want to check if \"orange\" is one of the products in your inventory.\n",
    "\n",
    "```python\n",
    "is_orange_in_inventory = \"orange\" in product_names\n",
    "```\n",
    "\n",
    "### 10. **`not in`** - Check if a specific product is not in the inventory.\n",
    "\n",
    "You want to check if \"grape\" is not in your inventory.\n",
    "\n",
    "```python\n",
    "is_grape_not_in_inventory = \"grape\" not in product_names\n",
    "```\n",
    "\n",
    "## Summary of Usage\n",
    "In this example, the various tuple functions and methods help manage the store's inventory efficiently by performing operations like counting, finding specific products, calculating totals, and sorting data. Using tuples ensures that the data is immutable, which is useful for maintaining consistent product records in the inventory system."
   ]
  },
  {
   "cell_type": "code",
   "execution_count": 3,
   "id": "0983e7a2-5250-4353-b565-846082f99d54",
   "metadata": {},
   "outputs": [
    {
     "name": "stdout",
     "output_type": "stream",
     "text": [
      "[('apple', 0.5, 50), ('banana', 0.2, 150), ('orange', 0.75, 30), ('pear', 0.5, 50)]\n"
     ]
    }
   ],
   "source": [
    "inventory = [\n",
    "    (\"apple\", 0.5, 50),\n",
    "    (\"banana\", 0.2, 150),\n",
    "    (\"orange\", 0.75, 30),\n",
    "    (\"pear\", 0.5, 50)\n",
    "]\n",
    "print(inventory)"
   ]
  },
  {
   "cell_type": "code",
   "execution_count": 4,
   "id": "2b30c005-ce7d-4841-abe9-07cba7be2dd9",
   "metadata": {},
   "outputs": [
    {
     "name": "stdout",
     "output_type": "stream",
     "text": [
      "2\n"
     ]
    }
   ],
   "source": [
    "# 1. count() - Count the occurrence of a specific value in a tuple.\n",
    "\n",
    "prices = tuple(item[1] for item in inventory)\n",
    "price_count = prices.count(0.5)\n",
    "\n",
    "print(price_count)"
   ]
  },
  {
   "cell_type": "code",
   "execution_count": 13,
   "id": "fbab5233-1d3c-4e55-940e-ed1e33c9507b",
   "metadata": {},
   "outputs": [
    {
     "name": "stdout",
     "output_type": "stream",
     "text": [
      "1\n"
     ]
    }
   ],
   "source": [
    "# 2. index() - Find the first occurrence of a specific value in a tuple.\n",
    "\n",
    "product_names = tuple(item[0] for item in inventory)\n",
    "banana_index = product_names.index(\"banana\")\n",
    "\n",
    "print(banana_index)"
   ]
  },
  {
   "cell_type": "code",
   "execution_count": 7,
   "id": "6b670423-7aaa-4c9c-af24-b584734d33ba",
   "metadata": {},
   "outputs": [
    {
     "name": "stdout",
     "output_type": "stream",
     "text": [
      "4\n"
     ]
    }
   ],
   "source": [
    "# 3. len() - Get the number of items (products) in the inventory.\n",
    "\n",
    "num_products = len(inventory)\n",
    "\n",
    "print(num_products)"
   ]
  },
  {
   "cell_type": "code",
   "execution_count": 8,
   "id": "e141042a-cfd7-41aa-ac91-bf2bed30d209",
   "metadata": {},
   "outputs": [
    {
     "name": "stdout",
     "output_type": "stream",
     "text": [
      "0.75\n"
     ]
    }
   ],
   "source": [
    "# 4. max() - Find the maximum value in a tuple.\n",
    "\n",
    "prices = tuple(item[1] for item in inventory)\n",
    "max_price = max(prices)\n",
    "\n",
    "print(max_price)"
   ]
  },
  {
   "cell_type": "code",
   "execution_count": 9,
   "id": "8b1bb378-4ea3-452f-929d-eb12d5a8200c",
   "metadata": {},
   "outputs": [
    {
     "name": "stdout",
     "output_type": "stream",
     "text": [
      "0.2\n"
     ]
    }
   ],
   "source": [
    "# 5. min() - Find the minimum value in a tuple.\n",
    "\n",
    "min_price = min(prices)\n",
    "\n",
    "print(min_price)"
   ]
  },
  {
   "cell_type": "code",
   "execution_count": 14,
   "id": "1502d45a-2611-4e81-935f-328b984ebd76",
   "metadata": {},
   "outputs": [
    {
     "name": "stdout",
     "output_type": "stream",
     "text": [
      "(50, 150, 30, 50)\n",
      "280\n"
     ]
    }
   ],
   "source": [
    "# 6. sum() - Calculate the total sum of elements in a tuple.\n",
    "\n",
    "quantities = tuple(item[2] for item in inventory)\n",
    "print(quantities)\n",
    "\n",
    "total_inventory = sum(quantities)\n",
    "\n",
    "print(total_inventory)"
   ]
  },
  {
   "cell_type": "code",
   "execution_count": 11,
   "id": "4791272a-b1c3-46f0-b3fc-092d93bc36f9",
   "metadata": {},
   "outputs": [
    {
     "name": "stdout",
     "output_type": "stream",
     "text": [
      "[('orange', 0.75, 30), ('apple', 0.5, 50), ('pear', 0.5, 50), ('banana', 0.2, 150)]\n"
     ]
    }
   ],
   "source": [
    "# 7. sorted() - Sort the elements of a tuple.\n",
    "\n",
    "def givemesomepeaceofmind(inventoryItemforPeace):\n",
    "    return inventoryItemforPeace[1]\n",
    "\n",
    "sorted_inventory = sorted(inventory, key=lambda inventoryItemforPeace: inventoryItemforPeace[1], reverse=True)\n",
    "\n",
    "print(sorted_inventory)"
   ]
  },
  {
   "cell_type": "code",
   "execution_count": 14,
   "id": "28ecc663-747d-4eb2-b8f3-a1b514ad58a9",
   "metadata": {},
   "outputs": [
    {
     "name": "stdout",
     "output_type": "stream",
     "text": [
      "('apple', 'banana', 'orange', 'pear')\n"
     ]
    }
   ],
   "source": [
    "# 8. tuple() - Convert another data type to a tuple.\n",
    "\n",
    "product_names = tuple(product_names)\n",
    "\n",
    "print(product_names)"
   ]
  },
  {
   "cell_type": "code",
   "execution_count": 15,
   "id": "ca78facf-ed75-461a-91f2-fe1b65eedaa9",
   "metadata": {},
   "outputs": [
    {
     "name": "stdout",
     "output_type": "stream",
     "text": [
      "True\n"
     ]
    }
   ],
   "source": [
    "# 9. in - Check if a specific product is in the inventory.\n",
    "\n",
    "is_orange_in_inventory = \"orange\" in product_names\n",
    "\n",
    "print(is_orange_in_inventory)"
   ]
  },
  {
   "cell_type": "code",
   "execution_count": 20,
   "id": "515dcaab-8713-4c3c-8e50-b2649c611266",
   "metadata": {},
   "outputs": [
    {
     "name": "stdout",
     "output_type": "stream",
     "text": [
      "True\n"
     ]
    }
   ],
   "source": [
    "# 10. not in - Check if a specific product is not in the inventory.\n",
    "\n",
    "is_grape_not_in_inventory = \"grape\" not in product_names\n",
    "\n",
    "print(is_grape_not_in_inventory)"
   ]
  },
  {
   "cell_type": "code",
   "execution_count": null,
   "id": "99774f90-2729-44fe-b664-1581a60bf207",
   "metadata": {},
   "outputs": [],
   "source": []
  }
 ],
 "metadata": {
  "kernelspec": {
   "display_name": "base",
   "language": "python",
   "name": "python3"
  },
  "language_info": {
   "codemirror_mode": {
    "name": "ipython",
    "version": 3
   },
   "file_extension": ".py",
   "mimetype": "text/x-python",
   "name": "python",
   "nbconvert_exporter": "python",
   "pygments_lexer": "ipython3",
   "version": "3.12.7"
  }
 },
 "nbformat": 4,
 "nbformat_minor": 5
}
