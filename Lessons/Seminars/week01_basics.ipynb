{
 "cells": [
  {
   "cell_type": "markdown",
   "metadata": {},
   "source": [
    "# Not an obstacle\n",
    "\n",
    "John wants to calculate the average time he needs to run $x$ km. If he is tired, he runs 2 times slower than usual. The average speed of John is 5 km/h. The distance is $x$ km. Help John to calculate the average time he needs to run $x$ km.\n",
    "\n",
    "Write a function `average_time(x, is_tired)` that returns the average time in hours.\n",
    "\n",
    "```py\n",
    ">>> average_time(10, is_tired=False)\n",
    "2.0\n",
    ">>> average_time(10, is_tired=True)\n",
    "4.0\n",
    "```"
   ]
  },
  {
   "cell_type": "code",
   "execution_count": 6,
   "metadata": {},
   "outputs": [
    {
     "name": "stdout",
     "output_type": "stream",
     "text": [
      "2.0\n",
      "4.0\n"
     ]
    }
   ],
   "source": [
    "def average_time(x: int, is_tired: int) -> float:\n",
    "    speed = 5\n",
    "    if is_tired:\n",
    "        speed /= 2\n",
    "    return x / speed\n",
    "\n",
    "\n",
    "print(average_time(10, is_tired=False))  # 2.0\n",
    "print(average_time(10, is_tired=True))  # 4.0"
   ]
  },
  {
   "cell_type": "markdown",
   "metadata": {},
   "source": [
    "# Leap year\n",
    "\n",
    "Write a function `is_leap(year)` that returns `True` if the year is a leap year and `False` otherwise.\n",
    "\n",
    "```py\n",
    ">>> is_leap(2020)\n",
    "True\n",
    ">>> is_leap(2021)\n",
    "False\n",
    "```"
   ]
  },
  {
   "cell_type": "code",
   "execution_count": 7,
   "metadata": {},
   "outputs": [
    {
     "name": "stdout",
     "output_type": "stream",
     "text": [
      "True\n",
      "False\n"
     ]
    }
   ],
   "source": [
    "def is_leap(year: int) -> bool:\n",
    "    return year % 4 == 0 and (year % 100 != 0 or year % 400 == 0)\n",
    "\n",
    "\n",
    "print(is_leap(2020))  # True\n",
    "print(is_leap(2021))  # False"
   ]
  },
  {
   "cell_type": "markdown",
   "metadata": {},
   "source": [
    "# Cake for everyone\n",
    "\n",
    "At the Bioinformatics Institute, a competition is being organized between computer scientists and biologists. The winners of the competition will receive a large and delicious pie. In the biologists' team, there are $a$ people, and in the computer scientists' team, there are $b$ people.\n",
    "\n",
    "The pie needs to be pre-cut in such a way that it can be distributed to either team, depending on which one wins the competition, with each team member receiving an equal number of pie pieces. Since we don't want to cut the pie into too many tiny pieces, we need to find the minimum suitable number of pieces.\n",
    "\n",
    "Write a function `cake(a, b)` that returns the minimum number of pieces needed to pre-cut the pie.\n",
    "\n",
    "***Hint:*** use the while loop\n",
    "\n",
    "```py\n",
    ">>> cake(5, 5)\n",
    "5\n",
    ">>> cake(5, 3)\n",
    "15\n",
    ">>> cake(12, 8)\n",
    "24\n",
    "```\n"
   ]
  },
  {
   "cell_type": "code",
   "execution_count": 8,
   "metadata": {},
   "outputs": [
    {
     "name": "stdout",
     "output_type": "stream",
     "text": [
      "5\n",
      "15\n",
      "24\n"
     ]
    }
   ],
   "source": [
    "def cake(a: int, b: int) -> int:\n",
    "    pieces = a\n",
    "    while pieces % b != 0:\n",
    "        pieces += a\n",
    "    return pieces\n",
    "\n",
    "\n",
    "print(cake(5, 5))  # 5\n",
    "print(cake(5, 3))  # 15\n",
    "print(cake(12, 8))  # 24"
   ]
  },
  {
   "cell_type": "code",
   "execution_count": 9,
   "metadata": {},
   "outputs": [
    {
     "name": "stdout",
     "output_type": "stream",
     "text": [
      "5\n",
      "15\n",
      "24\n"
     ]
    }
   ],
   "source": [
    "from math import lcm\n",
    "\n",
    "\n",
    "def cake(a: int, b: int) -> int:\n",
    "    return lcm(a, b)\n",
    "\n",
    "\n",
    "print(cake(5, 5))  # 5\n",
    "print(cake(5, 3))  # 15\n",
    "print(cake(12, 8))  # 24"
   ]
  },
  {
   "cell_type": "markdown",
   "metadata": {},
   "source": [
    "# Eval\n",
    "\n",
    "Write a function `calc(expr)` that returns the result of the expression `expr`.\n",
    "\n",
    "***Hint:*** use the built-in `eval` function\n",
    "\n",
    "```py\n",
    ">>> calc('2 + 2')\n",
    "4\n",
    ">>> calc('2 * 2')\n",
    "4\n",
    ">>> calc('2 ** 3')\n",
    "8\n",
    "```\n"
   ]
  },
  {
   "cell_type": "code",
   "execution_count": 10,
   "metadata": {},
   "outputs": [
    {
     "name": "stdout",
     "output_type": "stream",
     "text": [
      "4\n",
      "4\n",
      "8\n"
     ]
    }
   ],
   "source": [
    "def calc(expr: str) -> int:\n",
    "    return eval(expr)\n",
    "\n",
    "\n",
    "print(calc('2 + 2'))  # 4\n",
    "print(calc('2 * 2'))  # 4\n",
    "print(calc('2 ** 3'))  # 8"
   ]
  }
 ],
 "metadata": {
  "kernelspec": {
   "display_name": "Python 3",
   "language": "python",
   "name": "python3"
  },
  "language_info": {
   "codemirror_mode": {
    "name": "ipython",
    "version": 3
   },
   "file_extension": ".py",
   "mimetype": "text/x-python",
   "name": "python",
   "nbconvert_exporter": "python",
   "pygments_lexer": "ipython3",
   "version": "3.12.2"
  }
 },
 "nbformat": 4,
 "nbformat_minor": 2
}
