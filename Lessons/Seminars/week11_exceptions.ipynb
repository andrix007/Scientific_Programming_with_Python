{
 "cells": [
  {
   "cell_type": "markdown",
   "metadata": {
    "vscode": {
     "languageId": "plaintext"
    }
   },
   "source": [
    "## Try-else-finally\n",
    "\n",
    "Write `read_file` function that performs the following:\n",
    "\n",
    "* Tries to open and read a file.\n",
    "* If successful, counts the number of words in the file.\n",
    "* Always ensures the file is closed using a `finally` block.\n",
    "* If the file does not exist, raise and handle an appropriate exception.\n",
    "\n",
    "### Example\n",
    "\n",
    "```python\n",
    ">>> read_file(\"test.txt\")\n",
    "The file contains 120 words.\n",
    ">>> read_file(\"nonexistent.txt\")\n",
    "Error: File does not exist.\n",
    "```"
   ]
  },
  {
   "cell_type": "markdown",
   "metadata": {},
   "source": [
    "### Solution"
   ]
  },
  {
   "cell_type": "code",
   "execution_count": 1,
   "metadata": {},
   "outputs": [],
   "source": [
    "def read_file(filename):\n",
    "    try:\n",
    "        file = open(filename, 'r')\n",
    "    except FileNotFoundError:\n",
    "        print(\"Error: File does not exist.\")\n",
    "    else:\n",
    "        content = file.read()\n",
    "        words = content.split()\n",
    "        print(f\"The file contains {len(words)} words.\")\n",
    "    finally:\n",
    "        try:\n",
    "            file.close()\n",
    "        except UnboundLocalError:\n",
    "            # finally is always executed, even if file is not opened\n",
    "            pass"
   ]
  },
  {
   "cell_type": "markdown",
   "metadata": {},
   "source": [
    "---\n",
    "\n",
    "## Custom Exception\n",
    "\n",
    "Create a custom exception named `NegativeValueError` that is raised when a negative number is passed to a function. Write a function that calculates the square root of a number but raises this custom exception for negative inputs.\n",
    "\n",
    "### Example\n",
    "\n",
    "```python\n",
    ">>> sqrt(25)\n",
    "5.0\n",
    ">>> sqrt(-4)\n",
    "NegativeValueError: Cannot take the square root of a negative number.\n",
    "```"
   ]
  },
  {
   "cell_type": "markdown",
   "metadata": {},
   "source": [
    "### Solution"
   ]
  },
  {
   "cell_type": "code",
   "execution_count": 2,
   "metadata": {},
   "outputs": [
    {
     "name": "stdout",
     "output_type": "stream",
     "text": [
      "5.0\n",
      "Cannot take the square root of a negative number.\n"
     ]
    }
   ],
   "source": [
    "class NegativeValueError(Exception):\n",
    "    pass\n",
    "\n",
    "def sqrt(value):\n",
    "    if value < 0:\n",
    "        raise NegativeValueError(\"Cannot take the square root of a negative number.\")\n",
    "    return value ** 0.5\n",
    "\n",
    "# Example usage\n",
    "try:\n",
    "    print(sqrt(25))\n",
    "    print(sqrt(-4))\n",
    "except NegativeValueError as e:\n",
    "    print(e)"
   ]
  },
  {
   "cell_type": "markdown",
   "metadata": {},
   "source": [
    "---\n",
    "\n",
    "## Chained Exception Handling\n",
    "`raise from`\n",
    "\n",
    "Write a function that performs division between two numbers, handling division by zero with a custom exception called `InvalidDivisionError`. If a `ZeroDivisionError` occurs, it should raise `InvalidDivisionError`, using `raise from` to chain the exceptions.\n",
    "\n",
    "### Example\n",
    "\n",
    "```python\n",
    ">>> divide(10, 2)\n",
    "5.0\n",
    ">>> divide(10, 0)\n",
    "InvalidDivisionError: Cannot divide by zero (caused by ZeroDivisionError).\n",
    "```"
   ]
  },
  {
   "cell_type": "markdown",
   "metadata": {},
   "source": [
    "### Solution"
   ]
  },
  {
   "cell_type": "code",
   "execution_count": 3,
   "metadata": {},
   "outputs": [
    {
     "name": "stdout",
     "output_type": "stream",
     "text": [
      "5.0\n",
      "Cannot divide by zero (caused by ZeroDivisionError).\n"
     ]
    }
   ],
   "source": [
    "class InvalidDivisionError(Exception):\n",
    "    pass\n",
    "\n",
    "def divide(a, b):\n",
    "    try:\n",
    "        result = a / b\n",
    "    except ZeroDivisionError as e:\n",
    "        raise InvalidDivisionError(\"Cannot divide by zero\") from e\n",
    "    return result\n",
    "\n",
    "# Example usage\n",
    "try:\n",
    "    print(divide(10, 2))\n",
    "    print(divide(10, 0))\n",
    "except InvalidDivisionError as e:\n",
    "    print(f\"{e} (caused by {e.__cause__.__class__.__name__}).\")"
   ]
  },
  {
   "cell_type": "markdown",
   "metadata": {},
   "source": [
    "---\n",
    "\n",
    "## Custom Exception Logging\n",
    "`sys.exc_info` `traceback.format_exception_only` `exc.with_traceback`\n",
    "\n",
    "Create a function that performs a division of two numbers. If a `ZeroDivisionError` occurs, log the exception details using `sys.exc_info` and `traceback.format_exception_only`. Then, raise a new custom exception called `InvalidDivisionError` and attach the original traceback using `exc.with_traceback`.\n",
    "\n",
    "* Log the original exception without stopping the program.\n",
    "* When re-raising the custom exception, ensure that the original traceback is preserved.\n",
    "\n",
    "### Example\n",
    "\n",
    "```python\n",
    ">>> divide_and_log(10, 2)\n",
    "Result: 5.0\n",
    ">>> divide_and_log(10, 0)\n",
    "Logging error: Cannot divide by zero (ZeroDivisionError)\n",
    "Traceback (most recent call last):\n",
    "  ...\n",
    "InvalidDivisionError: Division failed, invalid operation\n",
    "```"
   ]
  },
  {
   "cell_type": "markdown",
   "metadata": {},
   "source": [
    "### Solution"
   ]
  },
  {
   "cell_type": "code",
   "execution_count": 4,
   "metadata": {},
   "outputs": [
    {
     "name": "stdout",
     "output_type": "stream",
     "text": [
      "Result: 5.0\n",
      "Logging error: ZeroDivisionError: division by zero (ZeroDivisionError)\n",
      "Division failed, invalid operation\n"
     ]
    },
    {
     "name": "stderr",
     "output_type": "stream",
     "text": [
      "  File \"C:\\Users\\panuhin\\AppData\\Local\\Temp\\ipykernel_8480\\1323123038.py\", line 23, in <module>\n",
      "    divide_and_log(10, 0)\n",
      "  File \"C:\\Users\\panuhin\\AppData\\Local\\Temp\\ipykernel_8480\\1323123038.py\", line 16, in divide_and_log\n",
      "    raise InvalidDivisionError(\"Division failed, invalid operation\").with_traceback(exc_tb)\n",
      "  File \"C:\\Users\\panuhin\\AppData\\Local\\Temp\\ipykernel_8480\\1323123038.py\", line 9, in divide_and_log\n",
      "    result = a / b\n",
      "             ~~^~~\n"
     ]
    }
   ],
   "source": [
    "import sys\n",
    "import traceback\n",
    "\n",
    "class InvalidDivisionError(Exception):\n",
    "    pass\n",
    "\n",
    "def divide_and_log(a, b):\n",
    "    try:\n",
    "        result = a / b\n",
    "    except ZeroDivisionError as e:\n",
    "        exc_type, exc_value, exc_tb = sys.exc_info()\n",
    "        error_message = \"\".join(traceback.format_exception_only(exc_type, exc_value))\n",
    "        print(f\"Logging error: {error_message.strip()} ({exc_type.__name__})\")\n",
    "\n",
    "        # Raising custom exception with original traceback\n",
    "        raise InvalidDivisionError(\"Division failed, invalid operation\").with_traceback(exc_tb)\n",
    "    else:\n",
    "        print(f\"Result: {result}\")\n",
    "\n",
    "# Example usage\n",
    "try:\n",
    "    divide_and_log(10, 2)\n",
    "    divide_and_log(10, 0)\n",
    "except InvalidDivisionError as e:\n",
    "    _, _, tb = sys.exc_info()\n",
    "    traceback.print_tb(tb)  # Prints full traceback from the original ZeroDivisionError\n",
    "    print(e)"
   ]
  },
  {
   "cell_type": "markdown",
   "metadata": {},
   "source": [
    "---\n",
    "\n",
    "## Persistent File Reader\n",
    "\n",
    "Create a context manager named `FileHandler` that reads the content of a file and keeps the content available after the `with` block ends.\n",
    "\n",
    "* The file should be opened inside the context manager and automatically closed at the end.\n",
    "* After the `with` block, the file content should be stored in the `FileHandler` object, accessible via the `content` attribute.\n",
    "\n",
    "### Example\n",
    "\n",
    "```python\n",
    ">>> handler = FileHandler(\"example.txt\")\n",
    ">>> with handler as f:\n",
    "...     content = f.read()\n",
    "File is now open.\n",
    "File is now closed.\n",
    "\n",
    ">>> print(handler.content)\n",
    "This is a sample file content.\n",
    "```"
   ]
  },
  {
   "cell_type": "markdown",
   "metadata": {},
   "source": [
    "### Solution"
   ]
  },
  {
   "cell_type": "code",
   "execution_count": 5,
   "metadata": {},
   "outputs": [],
   "source": [
    "class FileHandler:\n",
    "    def __init__(self, filename):\n",
    "        self.filename = filename\n",
    "        self.file = None\n",
    "        self.content = None\n",
    "\n",
    "    def __enter__(self):\n",
    "        self.file = open(self.filename, 'r')\n",
    "        print(\"File is now open.\")\n",
    "        return self.file\n",
    "\n",
    "    def __exit__(self, exc_type, exc_value, traceback):\n",
    "        if self.file:\n",
    "            self.content = self.file.read()  # Store content for later use\n",
    "            self.file.close()\n",
    "        print(\"File is now closed.\")"
   ]
  },
  {
   "cell_type": "markdown",
   "metadata": {},
   "source": [
    "---\n",
    "\n",
    "## Custom Exception Handler\n",
    "\n",
    "Create a context manager class named `CustomExceptionHandler`. It should:\n",
    "\n",
    "* Accept two arguments:\n",
    "  * `exceptions`: A list of exception types to handle (e.g., `ValueError`, `TypeError`).\n",
    "  * `suppress_mode`: A boolean flag (`True` by default) that determines whether to suppress the exception or rethrow it.\n",
    "* During the context:\n",
    "  * If an exception occurs and is in the list of `exceptions`, print the exception name.\n",
    "  * Suppress or rethrow based on the value of `suppress_mode`.\n",
    "  * If an exception not in the list occurs, do nothing.\n",
    "\n",
    "### Example\n",
    "\n",
    "```python\n",
    ">>> with CustomExceptionHandler([ValueError], suppress_mode=True):\n",
    "...     x = int(\"not_a_number\")\n",
    "Caught ValueError: invalid literal for int() with base 10: 'not_a_number'\n",
    "\n",
    ">>> with CustomExceptionHandler([ZeroDivisionError], suppress_mode=False):\n",
    "...     1 / 0\n",
    "Caught ZeroDivisionError: division by zero\n",
    "Traceback (most recent call last):\n",
    "...\n",
    "ZeroDivisionError: division by zero\n",
    "```"
   ]
  },
  {
   "cell_type": "markdown",
   "metadata": {},
   "source": [
    "### Solution"
   ]
  },
  {
   "cell_type": "code",
   "execution_count": 6,
   "metadata": {},
   "outputs": [],
   "source": [
    "class CustomExceptionHandler:\n",
    "    def __init__(self, exceptions, suppress_mode=True):\n",
    "        self.exceptions = exceptions\n",
    "        self.suppress_mode = suppress_mode\n",
    "\n",
    "    def __enter__(self):\n",
    "        return self\n",
    "\n",
    "    def __exit__(self, exc_type, exc_value, traceback):\n",
    "        if exc_type in self.exceptions:\n",
    "            print(f\"Caught {exc_type.__name__}: {exc_value}\")\n",
    "            return self.suppress_mode  # Suppress if `suppress_mode` is True, otherwise rethrow\n",
    "        return False  # Do nothing for other exceptions"
   ]
  }
 ],
 "metadata": {
  "kernelspec": {
   "display_name": "Python 3",
   "language": "python",
   "name": "python3"
  },
  "language_info": {
   "codemirror_mode": {
    "name": "ipython",
    "version": 3
   },
   "file_extension": ".py",
   "mimetype": "text/x-python",
   "name": "python",
   "nbconvert_exporter": "python",
   "pygments_lexer": "ipython3",
   "version": "3.12.2"
  }
 },
 "nbformat": 4,
 "nbformat_minor": 2
}
