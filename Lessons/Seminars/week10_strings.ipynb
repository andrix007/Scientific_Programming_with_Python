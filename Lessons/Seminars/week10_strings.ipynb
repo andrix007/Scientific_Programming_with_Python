{
 "cells": [
  {
   "cell_type": "markdown",
   "metadata": {},
   "source": [
    "# Strings"
   ]
  },
  {
   "cell_type": "markdown",
   "metadata": {},
   "source": [
    "# Palindrome\n",
    "\n",
    "Write a function `is_palindrome` that checks if the word is palindrome (i.e. reads the same from left to right and right to left). Ignore the letter case.\n",
    "\n",
    "**Bonus:** \\\n",
    "Rewrite the function using only 1 line"
   ]
  },
  {
   "cell_type": "markdown",
   "metadata": {},
   "source": [
    "### Solution:"
   ]
  },
  {
   "cell_type": "code",
   "execution_count": 1,
   "metadata": {},
   "outputs": [
    {
     "name": "stdout",
     "output_type": "stream",
     "text": [
      "True False\n",
      "True False\n",
      "True False\n"
     ]
    }
   ],
   "source": [
    "# Option 1:\n",
    "def is_palindrome_1(word: str) -> bool:\n",
    "    word = word.lower()\n",
    "    for i in range(len(word)):\n",
    "        if word[i] != word[-i - 1]:\n",
    "            return False\n",
    "    return True\n",
    "\n",
    "# Option 2 (better, but slower):\n",
    "def is_palindrome_2(word: str) -> bool:\n",
    "    word = word.lower()\n",
    "    return word == word[::-1]\n",
    "\n",
    "# Option 3 (even better, although even more slower):\n",
    "def is_palindrome_3(word: str) -> bool:\n",
    "    return word.lower() == word.lower()[::-1]\n",
    "\n",
    "# Tests\n",
    "for func in (is_palindrome_1, is_palindrome_2, is_palindrome_3):\n",
    "    print(func(\"Eevee\"), func(\"Charizard\"))"
   ]
  },
  {
   "cell_type": "markdown",
   "metadata": {},
   "source": [
    "---\n",
    "\n",
    "# Simple calculator\n",
    "\n",
    "Little Johnny has been asked by his teacher to create a simple calculator that processes mathematical equations and prints the results. Unfortunately, Johnny is so lazy that he doesn’t want to read the entire problem statement! Can you help him by writing a program that accepts and processes all input text?\n",
    "\n",
    "The input text may include:\n",
    "- Signed numbers\n",
    "- Spaces anywhere\n",
    "- Irrelevant text (might appear within the equation)\n",
    "\n",
    "The calculator should be able to handle the following operations:\n",
    "- Addition (`+`)\n",
    "- Subtraction (`-`)\n",
    "\n",
    "Example input 1:\n",
    "```txt\n",
    "Johnny has 10 apples, then he eats 3, plus 5 more come from the store, and finally, he gives -2 to his friend. How many apples does he have now?\n",
    "```\n",
    "\n",
    "Example input 2:\n",
    "```txt\n",
    "- Two to the power of ten is 1024.\n",
    "  Two to the power of eleven is 2024.\n",
    "- Two weeks equals 14 days.\n",
    "  1000 is a very round number.\n",
    "  What year was the first \"The Legend of Zelda\" game released?\n",
    "```\n",
    "\n",
    "**Bonus:** \\\n",
    "To get an excellent grade, Johnny must present his answer in a neatly formatted manner. For example:\n",
    "\n",
    "Output: `-9 - 8 - 7 - 6 - 5 - 4 - 3 - 2 - 1 = -45`\n",
    "\n",
    "#### Template:"
   ]
  },
  {
   "cell_type": "code",
   "execution_count": 2,
   "metadata": {},
   "outputs": [
    {
     "name": "stdout",
     "output_type": "stream",
     "text": [
      "None\n",
      "None\n"
     ]
    }
   ],
   "source": [
    "def calc(statement: str) -> str:\n",
    "    # Write your code here\n",
    "    pass\n",
    "\n",
    "\n",
    "print(calc(\n",
    "    \"\"\"\n",
    "    Johnny has 10 apples, then he eats 3, plus 5 more come from the store, and finally, he gives -2 to his friend. How many apples does he have now?\n",
    "    \"\"\"\n",
    "))  # 10 + 3 + 5 - 2 = 16\n",
    "\n",
    "print(calc(\n",
    "    \"\"\"\n",
    "    - Two to the power of ten is 1024.\n",
    "      Two to the power of eleven is 2024.\n",
    "    - Two weeks equals 14 days.\n",
    "      1000 is a very round number.\n",
    "      What year was the first \"The Legend of Zelda\" game released?\n",
    "    \"\"\"\n",
    "))  # -1024 - 2024 + 14 - 1000 = 1986"
   ]
  },
  {
   "cell_type": "markdown",
   "metadata": {},
   "source": [
    "### Solution:"
   ]
  },
  {
   "cell_type": "code",
   "execution_count": 3,
   "metadata": {},
   "outputs": [
    {
     "name": "stdout",
     "output_type": "stream",
     "text": [
      "10 + 3 + 5 - 2 = 16\n",
      "-1024 + 2024 - 14 + 1000 = 1986\n"
     ]
    }
   ],
   "source": [
    "def calc(statement: str) -> str:\n",
    "    result = []\n",
    "\n",
    "    current_operation = ''\n",
    "    current_number = ''\n",
    "\n",
    "    statement += '#'  # Trick to process the last number in the statement\n",
    "\n",
    "    for letter in statement:\n",
    "        # 1) We encounter space -> skip it\n",
    "        if letter.isspace():\n",
    "            continue\n",
    "\n",
    "        # 2) We encounter a digit -> add it to the current number\n",
    "        if letter.isnumeric():\n",
    "            current_number += letter\n",
    "\n",
    "        # 3) We encounter a sign symbol (minus) -> store it for later\n",
    "        elif letter == '-':\n",
    "            current_operation = '-'\n",
    "\n",
    "        # 4) We encounter non-space and non-number symbol, which means that the number sequence has ended\n",
    "        else:\n",
    "            if current_number:\n",
    "                result.append(int(f'{current_operation}{current_number}'))\n",
    "\n",
    "                current_operation = '+'\n",
    "                current_number = ''\n",
    "\n",
    "    return f'{\" \".join(map(str, (\n",
    "        f\"{'-' if item < 0 else '+'} {abs(item)}\" if index else item\n",
    "        for index, item in enumerate(result)\n",
    "    )))} = {sum(result)}'\n",
    "\n",
    "print(calc(\n",
    "    \"\"\"\n",
    "    Johnny has 10 apples, then he eats 3, plus 5 more come from the store, and finally, he gives -2 to his friend. How many apples does he have now?\n",
    "    \"\"\"\n",
    "))  # 10 + 3 + 5 - 2 = 16\n",
    "\n",
    "print(calc(\n",
    "    \"\"\"\n",
    "    - Two to the power of ten is 1024.\n",
    "      Two to the power of eleven is 2024.\n",
    "    - Two weeks equals 14 days.\n",
    "      1000 is a very round number.\n",
    "      What year was the first \"The Legend of Zelda\" game released?\n",
    "    \"\"\"\n",
    "))  # -1024 - 2024 + 14 - 1000 = 1986"
   ]
  },
  {
   "cell_type": "markdown",
   "metadata": {},
   "source": [
    "---\n",
    "\n",
    "# No numbers\n",
    "\n",
    "Get two **digits** from the standard input: left and right bounds.\n",
    "Print all **digits** in the given range without using `int()` or `float()`"
   ]
  },
  {
   "cell_type": "markdown",
   "metadata": {},
   "source": [
    "### Solution:"
   ]
  },
  {
   "cell_type": "code",
   "execution_count": 4,
   "metadata": {},
   "outputs": [
    {
     "name": "stdout",
     "output_type": "stream",
     "text": [
      "3 4 5 6 7 8 "
     ]
    }
   ],
   "source": [
    "# left, right = input(\"Enter two digits\").split()\n",
    "left, right = '3', '8'\n",
    "\n",
    "for i in range(ord(left), ord(right) + 1):\n",
    "    print(chr(i), end=' ')"
   ]
  },
  {
   "cell_type": "markdown",
   "metadata": {},
   "source": [
    "#### Follow up:\n",
    "\n",
    "Write a function `my_int()` that converts a string to an integer without using an `int()` or `float()` function (a.k.a. a simple implementation of `int()` function)"
   ]
  },
  {
   "cell_type": "markdown",
   "metadata": {},
   "source": [
    "### Solution:"
   ]
  },
  {
   "cell_type": "code",
   "execution_count": 5,
   "metadata": {},
   "outputs": [
    {
     "name": "stdout",
     "output_type": "stream",
     "text": [
      "136\n"
     ]
    }
   ],
   "source": [
    "def my_int(string: str) -> int:\n",
    "    result = 0\n",
    "    for letter in string:\n",
    "        result *= 10\n",
    "        result += ord(letter) - ord('0')\n",
    "    return result\n",
    "\n",
    "print(my_int('136'))  # 136"
   ]
  },
  {
   "cell_type": "markdown",
   "metadata": {},
   "source": [
    "#### Follow up 2:\n",
    "\n",
    "The same as before, but the base of the number system can be any number from 2 to 10\n",
    "\n",
    "##### Tests:\n",
    "\n",
    "```python\n",
    "print(my_int('136'))  # 136\n",
    "print(my_int('136', base=8))    # 94 = 6 + 3 * 8 + 1 * 8^2 = 6 + 24 + 64\n",
    "print(my_int(\"01010\", base=2))  # 10 = 1 * 2 + 1 * 2^3     = 2 + 8\n",
    "# print(my_int('136', base=2))  # ValueError\n",
    "```"
   ]
  },
  {
   "cell_type": "markdown",
   "metadata": {},
   "source": [
    "### Solution:"
   ]
  },
  {
   "cell_type": "code",
   "execution_count": 6,
   "metadata": {},
   "outputs": [
    {
     "name": "stdout",
     "output_type": "stream",
     "text": [
      "136\n",
      "94\n",
      "10\n"
     ]
    }
   ],
   "source": [
    "def my_int(string: str, base: int = 10) -> int:\n",
    "    result = 0\n",
    "    for letter in string:\n",
    "        result *= base\n",
    "        if ord(letter) >= ord('0') + base:\n",
    "            raise ValueError(f\"Invalid digit for base {base}: {letter}\")\n",
    "        result += ord(letter) - ord('0')\n",
    "    return result\n",
    "\n",
    "print(my_int('136'))  # 136\n",
    "print(my_int('136', base=8))    # 94 = 6 + 3 * 8 + 1 * 8^2 = 6 + 24 + 64\n",
    "print(my_int('01010', base=2))  # 10 = 1 * 2 + 1 * 2^3     = 2 + 8\n",
    "# print(my_int('136', base=2))  # ValueError"
   ]
  },
  {
   "cell_type": "markdown",
   "metadata": {},
   "source": [
    "---\n",
    "\n",
    "# Math problem?\n",
    "\n",
    "When solving mathematical problems, unnecessary text is sometimes not crossed out, but enclosed in brackets. This means that it does not need to be read. However, we don't want to accidentally skip reading variables and small expressions, so we'll assume that anything with length <= 5 is easy to read anyway and should not be skipped.\n",
    "\n",
    "Write a function `clean_solution` that will remove everything inside the brackets that has length > 5 and the brackets themselves, returning the cleaned text (brackets can be nested)\n",
    "\n",
    "<!-- This problem can be solved using either simple loops and string manipulation, or **regular expressions** (can't be easily) -->\n",
    "\n",
    "Example input:\n",
    "```txt\n",
    "To calculate the total work done (W) by a variable force (F), use the integral formula W=∫_a^b F(x) dx.\n",
    "(\n",
    "Here, F(x) is the force as a function of position x.\n",
    "The integral is computed from x=a to x=b (In this case, a and b are the initial and final positions, respectively)\n",
    ")\n",
    "```"
   ]
  },
  {
   "cell_type": "markdown",
   "metadata": {},
   "source": [
    "### Template:"
   ]
  },
  {
   "cell_type": "code",
   "execution_count": 7,
   "metadata": {},
   "outputs": [
    {
     "name": "stdout",
     "output_type": "stream",
     "text": [
      "None\n"
     ]
    }
   ],
   "source": [
    "def clean_solution(text: str) -> str:\n",
    "    # Write your code here\n",
    "    pass\n",
    "\n",
    "print(clean_solution(\n",
    "    '''\n",
    "    To calculate the total work done (W) by a variable force (F), use the integral formula W=∫_a^b F(x) dx.\n",
    "    (\n",
    "    Here, F(x) is the force as a function of position x.\n",
    "    The integral is computed from x=a to x=b (In this case, a and b are the initial and final positions, respectively)\n",
    "    )\n",
    "    '''\n",
    ".strip()))  # To calculate the total work done (W) by a variable force (F), use the integral formula W=∫_a^b F(x) dx."
   ]
  },
  {
   "cell_type": "markdown",
   "metadata": {},
   "source": [
    "### Solution:"
   ]
  },
  {
   "cell_type": "code",
   "execution_count": 8,
   "metadata": {},
   "outputs": [
    {
     "name": "stdout",
     "output_type": "stream",
     "text": [
      "To calculate the total work done (W) by a variable force (F), use the integral formula W=∫_a^b F(x) dx.\n",
      "    \n"
     ]
    }
   ],
   "source": [
    "def clean_solution(text: str) -> str:\n",
    "    opened_pos = 0\n",
    "    depth = 0\n",
    "    for current_pos, char in enumerate(text):\n",
    "        if char == '(':\n",
    "            if depth == 0:\n",
    "                opened_pos = current_pos\n",
    "            depth += 1\n",
    "        elif char == ')':\n",
    "            depth -= 1\n",
    "            if depth == 0 and current_pos - opened_pos > 5:\n",
    "                text = text[:opened_pos] + text[current_pos + 1:]\n",
    "    return text\n",
    "\n",
    "print(clean_solution(\n",
    "    '''\n",
    "    To calculate the total work done (W) by a variable force (F), use the integral formula W=∫_a^b F(x) dx.\n",
    "    (\n",
    "    Here, F(x) is the force as a function of position x.\n",
    "    The integral is computed from x=a to x=b (In this case, a and b are the initial and final positions, respectively)\n",
    "    )\n",
    "    '''\n",
    ".strip()))  # To calculate the total work done (W) by a variable force (F), use the integral formula W=∫_a^b F(x) dx."
   ]
  },
  {
   "cell_type": "markdown",
   "metadata": {},
   "source": [
    "---\n",
    "\n",
    "# Automating emails\n",
    "\n",
    "You are developing an automated system that will monitor incoming emails and read them out loud.\n",
    "\n",
    "Using regular expressions, extract the following information:\n",
    "\n",
    "- Sender name\n",
    "- Sender email\n",
    "- Sender domain\n",
    "- Recipient name\n",
    "- Email subject (without the \"Re:\")\n",
    "- Email body\n",
    "\n",
    "Example input:\n",
    "```txt\n",
    "From: Elon Musk `elon@tesla.com`\n",
    "To: Constructor University\n",
    "Subject: re: re: re: ready for More Rockets? 🚀🚀🚀\n",
    "Body:\n",
    "    Just letting you know, the House Party Protocol is now in the final stages of preparation 🥳\n",
    "```"
   ]
  },
  {
   "cell_type": "markdown",
   "metadata": {},
   "source": [
    "### Template:"
   ]
  },
  {
   "cell_type": "code",
   "execution_count": 9,
   "metadata": {
    "tags": [
     "raises-exception"
    ]
   },
   "outputs": [
    {
     "ename": "SyntaxError",
     "evalue": "invalid syntax (2622142647.py, line 12)",
     "output_type": "error",
     "traceback": [
      "\u001b[1;36m  Cell \u001b[1;32mIn[9], line 12\u001b[1;36m\u001b[0m\n\u001b[1;33m    sender_pattern = ???\u001b[0m\n\u001b[1;37m                     ^\u001b[0m\n\u001b[1;31mSyntaxError\u001b[0m\u001b[1;31m:\u001b[0m invalid syntax\n"
     ]
    }
   ],
   "source": [
    "import re\n",
    "\n",
    "email = '''\n",
    "From: Elon Musk `elon@tesla.com`\n",
    "To: Constructor University\n",
    "Subject: re: re: re: ready for More Rockets? 🚀🚀🚀\n",
    "Body:\n",
    "    Just letting you know, the House Party Protocol is now in the final stages of preparation 🥳\n",
    "'''\n",
    "\n",
    "# Regular expressions for extracting the information\n",
    "sender_pattern = ???\n",
    "recipient_name_pattern = ???\n",
    "subject_pattern = ???\n",
    "body_pattern = ???\n",
    "\n",
    "# Extracting information\n",
    "sender_name, sender_email, sender_domain = ???\n",
    "recipient_name = ???\n",
    "subject = ???\n",
    "body = ???\n",
    "\n",
    "# Output the extracted information\n",
    "print(\"Sender Name:\", sender_name)\n",
    "print(\"Sender Email:\", sender_email)\n",
    "print(\"Sender Domain:\", sender_domain)\n",
    "print(\"Recipient Name:\", recipient_name)\n",
    "print(\"Email Subject:\", subject)\n",
    "print(\"Email Body:\", body)"
   ]
  },
  {
   "cell_type": "markdown",
   "metadata": {},
   "source": [
    "### Solution:"
   ]
  },
  {
   "cell_type": "code",
   "execution_count": 10,
   "metadata": {},
   "outputs": [
    {
     "name": "stdout",
     "output_type": "stream",
     "text": [
      "Sender Name: Elon Musk \n",
      "Sender Email: elon@tesla.com\n",
      "Sender Domain: tesla.com\n",
      "Recipient Name: Constructor University\n",
      "Email Subject: ready for More Rockets? 🚀🚀🚀\n",
      "Email Body: Just letting you know, the House Party Protocol is now in the final stages of preparation 🥳\n"
     ]
    }
   ],
   "source": [
    "import re\n",
    "\n",
    "email = '''\n",
    "From: Elon Musk `elon@tesla.com`\n",
    "To: Constructor University\n",
    "Subject: re: re: re: ready for More Rockets? 🚀🚀🚀\n",
    "Body:\n",
    "    Just letting you know, the House Party Protocol is now in the final stages of preparation 🥳\n",
    "'''\n",
    "\n",
    "# Regular expressions for extracting the information\n",
    "sender_pattern = r'From:\\s*(.*)\\s*`([^`@]+@([^`]+))`'\n",
    "recipient_name_pattern = r'To:\\s*(.*)'\n",
    "subject_pattern = r'Subject:\\s*(?:[Rr]e:\\s*)*(.*)'\n",
    "body_pattern = r'Body:\\s*(.*)'\n",
    "\n",
    "# Extracting information\n",
    "sender_name, sender_email, sender_domain = re.search(sender_pattern, email).groups()\n",
    "recipient_name = re.search(recipient_name_pattern, email).group(1)\n",
    "subject = re.search(subject_pattern, email).group(1)\n",
    "body = re.search(body_pattern, email).group(1).strip()\n",
    "\n",
    "# Output the extracted information\n",
    "print(\"Sender Name:\", sender_name)\n",
    "print(\"Sender Email:\", sender_email)\n",
    "print(\"Sender Domain:\", sender_domain)\n",
    "print(\"Recipient Name:\", recipient_name)\n",
    "print(\"Email Subject:\", subject)\n",
    "print(\"Email Body:\", body)"
   ]
  }
 ],
 "metadata": {
  "kernelspec": {
   "display_name": "Python 3",
   "language": "python",
   "name": "python3"
  },
  "language_info": {
   "codemirror_mode": {
    "name": "ipython",
    "version": 3
   },
   "file_extension": ".py",
   "mimetype": "text/x-python",
   "name": "python",
   "nbconvert_exporter": "python",
   "pygments_lexer": "ipython3",
   "version": "3.12.2"
  }
 },
 "nbformat": 4,
 "nbformat_minor": 2
}
