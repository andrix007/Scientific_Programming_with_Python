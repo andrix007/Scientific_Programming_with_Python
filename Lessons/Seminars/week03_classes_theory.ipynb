{
 "cells": [
  {
   "cell_type": "markdown",
   "metadata": {},
   "source": [
    "# Classes/instances and methods/attributes\n",
    "\n",
    "Classes are like blueprints for objects. They define the structure (attributes) and behavior (methods) that objects created from them will have. Objects are instances of classes, meaning each one has its own unique data, but they all follow the same blueprint.\n",
    "\n",
    "- **Class**: A blueprint that defines attributes (data) and methods (functions).\n",
    "- **Instance**: A unique object created from a class.\n",
    "- **Attributes**: Data stored in an instance or class.\n",
    "- **Methods**: Functions defined inside a class that operate on instances."
   ]
  },
  {
   "cell_type": "code",
   "execution_count": 37,
   "metadata": {},
   "outputs": [
    {
     "name": "stdout",
     "output_type": "stream",
     "text": [
      "This car is a red Toyota.\n",
      "Toyota\n"
     ]
    }
   ],
   "source": [
    "# Define a class \"Car\" (blueprint for car objects)\n",
    "class Car:\n",
    "    # Constructor method, initializes attributes (data)\n",
    "    def __init__(self, brand, color):\n",
    "        self.brand = brand  # instance attribute\n",
    "        self.color = color  # instance attribute\n",
    "\n",
    "    # Method that describes the car\n",
    "    def describe(self):\n",
    "        return f\"This car is a {self.color} {self.brand}.\"\n",
    "\n",
    "# Create an instance (object) of Car\n",
    "my_car = Car(brand=\"Toyota\", color=\"red\")\n",
    "\n",
    "# Accessing attributes and methods of the instance\n",
    "print(my_car.describe())  # Calls the method 'describe' for 'my_car'\n",
    "print(my_car.brand)       # Access the attribute 'brand' of 'my_car'"
   ]
  },
  {
   "cell_type": "code",
   "execution_count": 38,
   "metadata": {},
   "outputs": [
    {
     "name": "stdout",
     "output_type": "stream",
     "text": [
      "This car is a blue Honda.\n"
     ]
    }
   ],
   "source": [
    "# Create another instance of Car\n",
    "another_car = Car(brand=\"Honda\", color=\"blue\")\n",
    "\n",
    "# Each instance has its own data\n",
    "print(another_car.describe())  # \"This car is a blue Honda.\""
   ]
  },
  {
   "cell_type": "markdown",
   "metadata": {},
   "source": [
    "# Class Attributes\n",
    "\n",
    "Classes can also have **class attributes**. These belong to the class itself and are _shared among all instances_ of that class.\n",
    "\n",
    "- **Instance attributes**: Unique to each object (defined in `__init__`).\n",
    "- **Class attributes**: Shared by all instances (defined directly inside the class, outside `__init__`)."
   ]
  },
  {
   "cell_type": "code",
   "execution_count": 39,
   "metadata": {},
   "outputs": [
    {
     "name": "stdout",
     "output_type": "stream",
     "text": [
      "A red Toyota with 4 wheels.\n",
      "A blue Honda with 4 wheels.\n",
      "4\n",
      "4\n"
     ]
    }
   ],
   "source": [
    "# Define a class \"Car\" with a class attribute\n",
    "class Car:\n",
    "    # Class attribute (shared by all instances)\n",
    "    wheels = 4\n",
    "\n",
    "    # Constructor method (instance attributes)\n",
    "    def __init__(self, brand, color):\n",
    "        self.brand = brand   # instance attribute\n",
    "        self.color = color   # instance attribute\n",
    "\n",
    "    # Method to describe the car\n",
    "    def describe(self):\n",
    "        return f\"A {self.color} {self.brand} with {Car.wheels} wheels.\"\n",
    "\n",
    "# Create two instances of Car\n",
    "car1 = Car(brand=\"Toyota\", color=\"red\")\n",
    "car2 = Car(brand=\"Honda\", color=\"blue\")\n",
    "\n",
    "# Accessing class attribute and instance methods\n",
    "print(car1.describe())  # \"A red Toyota with 4 wheels.\"\n",
    "print(car2.describe())  # \"A blue Honda with 4 wheels.\"\n",
    "\n",
    "# Class attributes are shared by all instances\n",
    "print(car1.wheels)  # 4\n",
    "print(car2.wheels)  # 4"
   ]
  },
  {
   "cell_type": "code",
   "execution_count": 40,
   "metadata": {},
   "outputs": [
    {
     "name": "stdout",
     "output_type": "stream",
     "text": [
      "6\n",
      "6\n",
      "8\n",
      "6\n"
     ]
    }
   ],
   "source": [
    "# Change the class attribute 'wheels' for all instances\n",
    "Car.wheels = 6\n",
    "\n",
    "# Both instances now reflect the change\n",
    "print(car1.wheels)  # \"A red Toyota with 6 wheels.\"\n",
    "print(car2.wheels)  # \"A blue Honda with 6 wheels.\"\n",
    "\n",
    "# Modifying only an instance's attribute does not affect others\n",
    "car1.wheels = 8  # This only changes for 'car1'\n",
    "print(car1.wheels)  # 8\n",
    "print(car2.wheels)  # 6 (unchanged for car2)"
   ]
  },
  {
   "cell_type": "markdown",
   "metadata": {},
   "source": [
    "# Properties (Getters and Setters)\n",
    "\n",
    "In Python, properties provide a way to control access to an attribute. With properties, you can define methods to get or set values (called **getters** and **setters**) while keeping the syntax of simple attribute access.\n",
    "\n",
    "- **Getter**: A method that gets the value of an attribute.\n",
    "- **Setter**: A method that sets the value of an attribute.\n",
    "\n",
    "This allows for validation or custom behavior when accessing or updating an attribute, without changing how it's accessed."
   ]
  },
  {
   "cell_type": "code",
   "execution_count": 41,
   "metadata": {},
   "outputs": [
    {
     "name": "stdout",
     "output_type": "stream",
     "text": [
      "30\n",
      "35\n"
     ]
    }
   ],
   "source": [
    "# Define a class with a private attribute and property methods\n",
    "class Person:\n",
    "    def __init__(self, name, age):\n",
    "        self.name = name\n",
    "        self._age = age  # protected attribute (conventionally starts with _)\n",
    "\n",
    "    # Getter method to access the age attribute\n",
    "    @property\n",
    "    def age(self):\n",
    "        return self._age\n",
    "\n",
    "    # Setter method to set the age attribute with validation\n",
    "    @age.setter\n",
    "    def age(self, value):\n",
    "        if value < 0:\n",
    "            raise ValueError(\"Age cannot be negative\")\n",
    "        self._age = value\n",
    "\n",
    "# Create an instance of Person\n",
    "person = Person(name=\"Alice\", age=30)\n",
    "\n",
    "# Accessing the 'age' attribute using the getter\n",
    "print(person.age)  # 30\n",
    "\n",
    "# Modifying the 'age' attribute using the setter\n",
    "person.age = 35\n",
    "print(person.age)  # 35\n"
   ]
  },
  {
   "cell_type": "code",
   "execution_count": 42,
   "metadata": {},
   "outputs": [
    {
     "name": "stdout",
     "output_type": "stream",
     "text": [
      "Age cannot be negative\n"
     ]
    }
   ],
   "source": [
    "# Trying to set an invalid value using the setter\n",
    "try:\n",
    "    person.age = -5  # This will raise a ValueError\n",
    "except ValueError as e:\n",
    "    print(e)  # \"Age cannot be negative\"\n"
   ]
  },
  {
   "cell_type": "markdown",
   "metadata": {},
   "source": [
    "### Why use properties?\n",
    "\n",
    "- You can keep the same syntax for accessing attributes (like `person.age`).\n",
    "- Add validation or logic to attribute access without changing how it is used.\n",
    "- Helps maintain control over how values are stored or changed.\n"
   ]
  },
  {
   "cell_type": "markdown",
   "metadata": {},
   "source": [
    "# Inheritance\n",
    "\n",
    "Inheritance allows one class to inherit attributes and methods from another class. This helps reuse code and makes it easier to create specialized versions of a class.\n",
    "\n",
    "- **Parent class** (or base class): The class that is inherited from.\n",
    "- **Child class** (or derived class): The class that inherits from the parent class. It can extend or override the behavior of the parent class.\n",
    "\n",
    "Inheritance creates an \"is-a\" relationship. For example, if a `Dog` class inherits from an `Animal` class, a dog _is a_ type of animal.\n",
    "\n",
    "### Motivation for Inheritance\n",
    "\n",
    "- **Reuse code**: Avoid duplicating code by inheriting from a base class.\n",
    "- **Organize code**: Group related classes under a common parent, making it easier to manage and extend.\n",
    "- **Extend functionality**: Child classes can add or override methods from the parent class, making it easy to create specialized versions.\n",
    "- **Maintainability**: Changes in the parent class are automatically reflected in the child classes, making code easier to maintain."
   ]
  },
  {
   "cell_type": "code",
   "execution_count": 43,
   "metadata": {},
   "outputs": [
    {
     "name": "stdout",
     "output_type": "stream",
     "text": [
      "Buddy barks.\n",
      "Whiskers meows.\n"
     ]
    }
   ],
   "source": [
    "# Parent class (base class)\n",
    "class Animal:\n",
    "    def __init__(self, name):\n",
    "        self.name = name\n",
    "\n",
    "    def speak(self):\n",
    "        return f\"{self.name} makes a sound.\"\n",
    "\n",
    "# Child class (inherits from Animal)\n",
    "class Dog(Animal):\n",
    "    def speak(self):\n",
    "        return f\"{self.name} barks.\"\n",
    "\n",
    "# Another child class (inherits from Animal)\n",
    "class Cat(Animal):\n",
    "    def speak(self):\n",
    "        return f\"{self.name} meows.\"\n",
    "\n",
    "# Create instances of Dog and Cat\n",
    "dog = Dog(name=\"Buddy\")\n",
    "cat = Cat(name=\"Whiskers\")\n",
    "\n",
    "# Using inherited methods\n",
    "print(dog.speak())  # \"Buddy barks\"\n",
    "print(cat.speak())  # \"Whiskers meows\""
   ]
  },
  {
   "cell_type": "markdown",
   "metadata": {},
   "source": [
    "### Inheritance from Python Built-ins\n",
    "\n",
    "You can also inherit from Python's built-in classes, like `list`, `dict`, or `object`, to create custom versions of them, while keeping their original functionality.\n",
    "\n",
    "For example, you can extend the functionality of a list by creating a new class that inherits from `list`.\n"
   ]
  },
  {
   "cell_type": "code",
   "execution_count": 44,
   "metadata": {},
   "outputs": [
    {
     "name": "stdout",
     "output_type": "stream",
     "text": [
      "[1, 2, 3, 4, 5]\n",
      "15\n"
     ]
    }
   ],
   "source": [
    "# Inheriting from Python's built-in list\n",
    "class CustomList(list):\n",
    "    # Method to sum all elements in the list\n",
    "    def sum(self):\n",
    "        return sum(self)\n",
    "\n",
    "# Create an instance of CustomList\n",
    "my_list = CustomList([1, 2, 3, 4])\n",
    "\n",
    "# Use methods from the built-in list class\n",
    "my_list.append(5)\n",
    "print(my_list)  # [1, 2, 3, 4, 5]\n",
    "\n",
    "# Use the new 'sum' method\n",
    "print(my_list.sum())  # 15"
   ]
  },
  {
   "cell_type": "markdown",
   "metadata": {},
   "source": [
    "# Magic Methods (Dunder Methods)\n",
    "\n",
    "Magic methods (also called **dunder** methods because they start and end with double underscores, `__`) allow you to define how objects of a class behave with Python's built-in operations (like addition, string representation, comparisons, etc.).\n",
    "\n",
    "- `__init__`: Initializes an object (called when an instance is created).\n",
    "- `__str__`: Defines how the object is represented as a string.\n",
    "- **Operation methods**: Like `__add__` (for `+`), `__sub__` (for `-`), `__mul__` (for `*`), and `__truediv__` (for `/`).\n",
    "- **Comparison methods**: Like `__eq__` (for `==`), `__lt__` (for `<`), and `__gt__` (for `>`).\n",
    "- `__float__` (bonus): Converts an object to a float.\n",
    "\n",
    "You can read more online (e.g. at [RealPython](https://realpython.com/python-magic-methods/))"
   ]
  },
  {
   "cell_type": "code",
   "execution_count": 45,
   "metadata": {},
   "outputs": [
    {
     "name": "stdout",
     "output_type": "stream",
     "text": [
      "Point(1, 2)\n",
      "Point(4, 6)\n",
      "False\n",
      "Distance from (0, 0): 2.23606797749979\n"
     ]
    }
   ],
   "source": [
    "# Example class using magic methods\n",
    "class Point:\n",
    "    def __init__(self, x, y):\n",
    "        self.x = x\n",
    "        self.y = y\n",
    "\n",
    "    # Magic method for string representation\n",
    "    def __str__(self):\n",
    "        return f\"Point({self.x}, {self.y})\"\n",
    "\n",
    "    # Magic method for addition\n",
    "    def __add__(self, other):\n",
    "        return Point(self.x + other.x, self.y + other.y)\n",
    "\n",
    "    # Magic method for equality comparison\n",
    "    def __eq__(self, other):\n",
    "        return self.x == other.x and self.y == other.y\n",
    "\n",
    "    # Float: distance from origin\n",
    "    def __float__(self):\n",
    "        return (self.x ** 2 + self.y ** 2) ** 0.5\n",
    "\n",
    "# Create two points\n",
    "p1 = Point(1, 2)\n",
    "p2 = Point(3, 4)\n",
    "\n",
    "# Using magic methods\n",
    "print(p1)             # Calls __str__: \"Point(1, 2)\"\n",
    "print(p1 + p2)        # Calls __add__: \"Point(4, 6)\"\n",
    "print(p1 == p2)       # Calls __eq__: False\n",
    "print(\"Distance from (0, 0):\", float(p1))  # Calls __float__: 2.236"
   ]
  },
  {
   "cell_type": "markdown",
   "metadata": {},
   "source": [
    "# Dataclasses\n",
    "\n",
    "`dataclass` is a \"special\" class that simplifies class creation for storing data. It automatically generates methods like `__init__`, `__repr__`, and comparison methods, making your code cleaner and less repetitive.\n",
    "\n",
    "- **Default values**: You can set default values for attributes.\n",
    "- **Order**: By using `order=True`, you can automatically generate comparison methods (`<`, `>`, etc.).\n",
    "- **post_init**: A special method (`__post_init__`) that is run after the `__init__` method, useful for additional initialization logic."
   ]
  },
  {
   "cell_type": "code",
   "execution_count": 46,
   "metadata": {},
   "outputs": [
    {
     "name": "stdout",
     "output_type": "stream",
     "text": [
      "Person(name='Alice', age=30, height=1.7, subjects=['Math', 'Science'])\n",
      "False\n"
     ]
    }
   ],
   "source": [
    "from dataclasses import dataclass, field\n",
    "\n",
    "# Using dataclass with default values and ordering\n",
    "@dataclass(order=True)\n",
    "class Person:\n",
    "    name: str\n",
    "    age: int = 0   # Default value for age\n",
    "    height: float = field(default=1.75)  # Using 'field' for default value\n",
    "    subjects: list = field(default_factory=list) # Use a factory function since list is mutable\n",
    "\n",
    "    # post-init method for additional logic\n",
    "    def __post_init__(self):\n",
    "        if self.age < 0:\n",
    "            raise ValueError(\"Age cannot be negative\")\n",
    "\n",
    "\n",
    "# Create instances of Person\n",
    "p1 = Person(name=\"Alice\", age=30, height=1.7, subjects=[\"Math\", \"Science\"])\n",
    "p2 = Person(name=\"Bob\", age=25, height=1.8, subjects=[\"History\"])\n",
    "\n",
    "# Using generated methods\n",
    "print(p1)            # \"Person(name='Alice', age=30, height=1.75)\"\n",
    "print(p1 > p2)       # Calls __lt__: False (because \"Alice\" < \"Bob\")"
   ]
  },
  {
   "cell_type": "markdown",
   "metadata": {},
   "source": [
    "### Comparison Methods"
   ]
  },
  {
   "cell_type": "code",
   "execution_count": 47,
   "metadata": {},
   "outputs": [
    {
     "name": "stdout",
     "output_type": "stream",
     "text": [
      "True\n",
      "False\n"
     ]
    }
   ],
   "source": [
    "from dataclasses import dataclass, field\n",
    "\n",
    "# Example 1: Using dataclass with 'order=True' to compare by 'x' and 'y' (ignoring 'name')\n",
    "@dataclass(order=True)\n",
    "class Point:\n",
    "    # The fields used for comparison will be considered in the order they are declared\n",
    "    name: str = field(compare=False)  # 'name' is not used for comparison\n",
    "    x: int\n",
    "    y: int\n",
    "    price: float = field(default=0.0, compare=False)\n",
    "\n",
    "\n",
    "# Create two points\n",
    "p1 = Point(name=\"A\", x=1, y=5)\n",
    "p2 = Point(name=\"B\", x=2, y=3)\n",
    "\n",
    "# Comparing points\n",
    "print(p1 < p2)  # True, compares (1, 5) with (2, 3)\n",
    "print(p1 > p2)  # False\n"
   ]
  },
  {
   "cell_type": "code",
   "execution_count": 48,
   "metadata": {},
   "outputs": [
    {
     "name": "stdout",
     "output_type": "stream",
     "text": [
      "True\n",
      "False\n"
     ]
    }
   ],
   "source": [
    "# Example 2: Manually implementing __lt__ for custom comparison logic\n",
    "@dataclass\n",
    "class PointManual:\n",
    "    name: str\n",
    "    x: int\n",
    "    y: int\n",
    "    price: float = 0.0\n",
    "\n",
    "    # Custom __lt__ method for comparison (ignoring 'name')\n",
    "    def __lt__(self, other):\n",
    "        return (self.x, self.y) < (other.x, other.y)\n",
    "\n",
    "\n",
    "# Create two points\n",
    "p1 = PointManual(name=\"A\", x=1, y=5)\n",
    "p2 = PointManual(name=\"B\", x=2, y=3)\n",
    "\n",
    "# Comparing points using custom __lt__\n",
    "print(p1 < p2)  # True, compares (1, 5) with (2, 3)\n",
    "print(p1 > p2)  # False"
   ]
  }
 ],
 "metadata": {
  "kernelspec": {
   "display_name": "Python 3",
   "language": "python",
   "name": "python3"
  },
  "language_info": {
   "codemirror_mode": {
    "name": "ipython",
    "version": 3
   },
   "file_extension": ".py",
   "mimetype": "text/x-python",
   "name": "python",
   "nbconvert_exporter": "python",
   "pygments_lexer": "ipython3",
   "version": "3.12.2"
  }
 },
 "nbformat": 4,
 "nbformat_minor": 2
}
