{
 "cells": [
  {
   "cell_type": "markdown",
   "id": "b139d423",
   "metadata": {},
   "source": [
    "# Warm Up\n",
    "\n",
    "Write the following functions:\n",
    "* `sum_with_step_k(nums, k)`\n",
    "\n",
    "Description: This function takes a list of integers (nums) and a positive integer (k). It returns the sum of all the integers in the list where the indices of these integers are divisible by k.\n",
    "\n",
    "Example:\n",
    "```python\n",
    ">>> sum_with_step_k([1, 2, 3, 4, 5, 6, 7, 8, 9, 10], 3)\n",
    "22\n",
    "```\n",
    "Explanation: 22 = 1 + 4 + 7 + 10\n",
    "\n",
    "* `max_element(nums)`\n",
    "\n",
    "Description: This function takes a list of integers (nums) and returns the index of the maximum element in the list. \\\n",
    "Note: You can solve this problem using a one-liner with the built-in max function and enumerate function.\n",
    "\n",
    "Example:\n",
    "```python\n",
    ">>> max_element([100, 2, 3, 4, 5, 6, 7, 8, 9, 10])\n",
    "0\n",
    "```\n",
    "\n",
    "* `k_multiples(a, b, k)`\n",
    "\n",
    "Description: This function takes two integers a and b and a positive integer k. It returns the list of multiples of k in the range from a to b.\n",
    "\n",
    "Example:\n",
    "```python\n",
    ">>> k_multiples(1, 10, 3)\n",
    "[3, 6, 9]\n",
    "```"
   ]
  },
  {
   "cell_type": "code",
   "execution_count": 71,
   "id": "4fdcfa9e",
   "metadata": {},
   "outputs": [
    {
     "name": "stdout",
     "output_type": "stream",
     "text": [
      "22\n",
      "0\n",
      "[3, 6, 9]\n"
     ]
    }
   ],
   "source": [
    "def sum_with_step_k(nums, k):\n",
    "    return sum(nums[::k])\n",
    "\n",
    "\n",
    "def max_element(nums):\n",
    "    return max(enumerate(nums), key=lambda x: x[1])[0]\n",
    "\n",
    "\n",
    "def k_multiples(a, b, k):\n",
    "    return [i for i in range(a, b + 1) if i % k == 0]\n",
    "\n",
    "\n",
    "print(sum_with_step_k([1, 2, 3, 4, 5, 6, 7, 8, 9, 10], 3))  # 22\n",
    "print(max_element([100, 2, 3, 4, 5, 6, 7, 8, 9, 10]))  # 0\n",
    "print(k_multiples(1, 10, 3))  # [3, 6, 9]"
   ]
  },
  {
   "cell_type": "markdown",
   "id": "3dc9a137",
   "metadata": {},
   "source": [
    "# Has duplicates\n",
    "\n",
    "Write a function named `has_duplicates` that takes a list as a parameter and returns True if there is any object that appears more than once in the list.\n",
    "\n",
    "Write the function in three different ways:\n",
    "* using a list\n",
    "* using a set\n",
    "* using a dictionary\n",
    "\n",
    "For example:\n",
    "```python\n",
    ">>> has_duplicates([1, 2, 3, 4, 4])\n",
    "True\n",
    "```"
   ]
  },
  {
   "cell_type": "code",
   "execution_count": 72,
   "id": "462e2d90",
   "metadata": {},
   "outputs": [
    {
     "name": "stdout",
     "output_type": "stream",
     "text": [
      "True\n",
      "True\n",
      "True\n"
     ]
    }
   ],
   "source": [
    "# Using a list\n",
    "def has_duplicates_list(lst):\n",
    "    for el in lst:\n",
    "        if lst.count(el) > 1:\n",
    "            return True\n",
    "    return False\n",
    "\n",
    "\n",
    "# Using a set\n",
    "def has_duplicates_set(lst):\n",
    "    return len(lst) != len(set(lst))\n",
    "\n",
    "\n",
    "# Using a dictionary\n",
    "def has_duplicates_dict(lst):\n",
    "    d = {}\n",
    "    for el in lst:\n",
    "        if el in d:\n",
    "            return True\n",
    "        d[el] = 1\n",
    "    return False\n",
    "\n",
    "\n",
    "print(has_duplicates_list([1, 2, 3, 4, 4]))  # True\n",
    "print(has_duplicates_set([1, 2, 3, 4, 4]))  # True\n",
    "print(has_duplicates_dict([1, 2, 3, 4, 4]))  # True"
   ]
  },
  {
   "cell_type": "markdown",
   "id": "a7627743",
   "metadata": {},
   "source": [
    "# Cumulative Sum\n",
    "\n",
    "Write a function called `cumsum` that takes a list of numbers and returns a new list where each element is the cumulative sum of the elements in the original list up to that point.\n",
    "\n",
    "In other words, the ith element in the new list is the sum of the first i+1 elements from the original list.\n",
    "\n",
    "Example:\n",
    "```python\n",
    ">>> t = [1, 2, 3]\n",
    ">>> cumsum(t)\n",
    "[1, 3, 6]\n",
    "```\n",
    "In this example, the first element is 1, the second element is 1 + 2 = 3, and the third element is 1 + 2 + 3 = 6."
   ]
  },
  {
   "cell_type": "code",
   "execution_count": 73,
   "id": "76bed755",
   "metadata": {},
   "outputs": [
    {
     "name": "stdout",
     "output_type": "stream",
     "text": [
      "[1, 3, 6]\n"
     ]
    }
   ],
   "source": [
    "def cumsum(t):\n",
    "    return [sum(t[:i + 1]) for i in range(len(t))]\n",
    "\n",
    "\n",
    "def cumsum_efficient(t):\n",
    "    total = 0\n",
    "    cumsum_list = []\n",
    "    for num in t:\n",
    "        total += num\n",
    "        cumsum_list.append(total)\n",
    "    return cumsum_list\n",
    "\n",
    "\n",
    "t = [1, 2, 3]\n",
    "print(cumsum(t))  # [1, 3, 6]"
   ]
  },
  {
   "cell_type": "markdown",
   "id": "10b667b6",
   "metadata": {},
   "source": [
    "# Nested Dictionary\n",
    "\n",
    "You have a list of transactions where each transaction is a tuple of the form `(customer_id, product, amount_spent)`. Write a function `total_by_client` that takes this list of transactions and returns a nested dictionary where each customer ID maps to another dictionary, which contains products as keys and total amount spent on each product as values.\n",
    "\n",
    "Example input:\n",
    "```python\n",
    "transactions = [\n",
    "    (1, 'apple', 5),\n",
    "    (2, 'banana', 3),\n",
    "    (1, 'banana', 2),\n",
    "    (1, 'apple', 3),\n",
    "    (2, 'apple', 4)\n",
    "]\n",
    "```\n",
    "\n",
    "Expected output:\n",
    "```python\n",
    "{\n",
    "    1: {'apple': 8, 'banana': 2},\n",
    "    2: {'banana': 3, 'apple': 4}\n",
    "}\n",
    "```\n",
    "Hint: You can use setdefault method to create a new dictionary for each customer ID."
   ]
  },
  {
   "cell_type": "code",
   "execution_count": 74,
   "id": "c62c90e3",
   "metadata": {},
   "outputs": [
    {
     "name": "stdout",
     "output_type": "stream",
     "text": [
      "{1: {'apple': 8, 'banana': 2}, 2: {'banana': 3, 'apple': 4}}\n"
     ]
    }
   ],
   "source": [
    "def total_by_client(transactions: list) -> dict:\n",
    "    result = {}\n",
    "    for client_id, product, amount in transactions:\n",
    "        result[client_id] = result.setdefault(client_id, {})\n",
    "        result[client_id][product] = result[client_id].setdefault(product, 0) + amount\n",
    "    return result\n",
    "\n",
    "\n",
    "transactions = [\n",
    "    (1, 'apple', 5),\n",
    "    (2, 'banana', 3),\n",
    "    (1, 'banana', 2),\n",
    "    (1, 'apple', 3),\n",
    "    (2, 'apple', 4)\n",
    "]\n",
    "\n",
    "print(total_by_client(transactions))  # {1: {'apple': 8, 'banana': 2}, 2: {'banana': 3, 'apple': 4}}"
   ]
  },
  {
   "cell_type": "code",
   "execution_count": 75,
   "id": "529df2a5",
   "metadata": {},
   "outputs": [
    {
     "name": "stdout",
     "output_type": "stream",
     "text": [
      "defaultdict(<function total_by_client.<locals>.<lambda> at 0x000001AB433EBCE0>, {1: defaultdict(<class 'int'>, {'apple': 8, 'banana': 2}), 2: defaultdict(<class 'int'>, {'banana': 3, 'apple': 4})})\n"
     ]
    }
   ],
   "source": [
    "from collections import defaultdict\n",
    "\n",
    "\n",
    "def total_by_client(transactions: list) -> dict:\n",
    "    result = defaultdict(lambda: defaultdict(int))\n",
    "    for client_id, product, amount in transactions:\n",
    "        result[client_id][product] += amount\n",
    "    return result\n",
    "\n",
    "\n",
    "transactions = [\n",
    "    (1, 'apple', 5),\n",
    "    (2, 'banana', 3),\n",
    "    (1, 'banana', 2),\n",
    "    (1, 'apple', 3),\n",
    "    (2, 'apple', 4)\n",
    "]\n",
    "\n",
    "print(total_by_client(transactions))  # {1: {'apple': 8, 'banana': 2}, 2: {'banana': 3, 'apple': 4}}"
   ]
  },
  {
   "cell_type": "markdown",
   "id": "6098b997",
   "metadata": {},
   "source": [
    "# Inclusion-Exclusion\n",
    "\n",
    "You are managing a university course system, where students can enroll in multiple courses. You have the following data:\n",
    "- A set of students enrolled in `Math`\n",
    "- A set of students enrolled in `Science`\n",
    "- A set of students enrolled in `Art`\n",
    "\n",
    "Write a function `optimize_courses` that performs the following tasks using set operations:\n",
    "1. Find the set of students enrolled in all three courses (Math, Science, and Art).\n",
    "2. Find the set of students enrolled in exactly two out of the three courses.\n",
    "3. Find the set of students enrolled in only one course.\n",
    "4. Return a dictionary summarizing the results for the three tasks above.\n",
    "\n",
    "Example input:\n",
    "```python\n",
    "math = {\"Alice\", \"Bob\", \"Charlie\", \"David\"}\n",
    "science = {\"Charlie\", \"David\", \"Edward\", \"Fiona\"}\n",
    "art = {\"Alice\", \"David\", \"Fiona\", \"George\"}\n",
    "```\n",
    "\n",
    "Expected output:\n",
    "```python\n",
    "{\n",
    "    \"all_three\": {\"David\"},\n",
    "    \"exactly_two\": {\"Alice\", \"Charlie\", \"Fiona\"},\n",
    "    \"only_one\": {\"Bob\", \"Edward\", \"George\"}\n",
    "}\n",
    "```\n",
    "\n",
    "Hint: Use set operations like union, intersection, and difference (`|`, `&`, `-`)."
   ]
  },
  {
   "cell_type": "code",
   "execution_count": 76,
   "id": "5e01cc0b",
   "metadata": {},
   "outputs": [
    {
     "name": "stdout",
     "output_type": "stream",
     "text": [
      "{'all_three': {'David'}, 'exactly_two': {'Alice', 'Charlie', 'Fiona'}, 'only_one': {'George', 'Edward', 'Bob'}}\n"
     ]
    }
   ],
   "source": [
    "def optimize_courses(math: set, science: set, art: set) -> dict:\n",
    "    # Students in all three courses\n",
    "    all_three = math & science & art\n",
    "\n",
    "    # Students in exactly two courses\n",
    "    math_science = math & science\n",
    "    math_art = math & art\n",
    "    science_art = science & art\n",
    "    exactly_two = (math_science | math_art | science_art) - all_three\n",
    "\n",
    "    # Students in only one course\n",
    "    only_one = (math | science | art) - (math & science) - (math & art) - (science & art)\n",
    "\n",
    "    return {\n",
    "        \"all_three\": all_three,\n",
    "        \"exactly_two\": exactly_two,\n",
    "        \"only_one\": only_one\n",
    "    }\n",
    "\n",
    "\n",
    "math = {\"Alice\", \"Bob\", \"Charlie\", \"David\"}\n",
    "science = {\"Charlie\", \"David\", \"Edward\", \"Fiona\"}\n",
    "art = {\"Alice\", \"David\", \"Fiona\", \"George\"}\n",
    "\n",
    "print(optimize_courses(math, science, art))  # {'all_three': {'David'}, 'exactly_two': {'Alice', 'Charlie', 'Fiona'}, 'only_one': {'George', 'Edward', 'Bob'}}"
   ]
  },
  {
   "cell_type": "markdown",
   "id": "8047f92c",
   "metadata": {},
   "source": [
    "# Chop-chop\n",
    "\n",
    "Write a function called `chop` that takes a list, modifies it by removing the first and last elements. The function should return None.\n",
    "\n",
    "For example:\n",
    "```python\n",
    ">>> t = [1, 2, 3, 4]\n",
    ">>> chop(t)\n",
    ">>> t\n",
    "[2, 3]\n",
    "```"
   ]
  },
  {
   "cell_type": "code",
   "execution_count": 77,
   "id": "737030d2",
   "metadata": {},
   "outputs": [
    {
     "name": "stdout",
     "output_type": "stream",
     "text": [
      "[2, 3]\n"
     ]
    }
   ],
   "source": [
    "def chop(t):\n",
    "    del t[0], t[-1]\n",
    "\n",
    "\n",
    "t = [1, 2, 3, 4]\n",
    "chop(t)\n",
    "print(t)  # [2, 3]"
   ]
  },
  {
   "cell_type": "markdown",
   "id": "a0233fb7",
   "metadata": {},
   "source": [
    "# Anagrams\n",
    "\n",
    "Two words are considered anagrams if you can rearrange the letters from one word to spell the other.\n",
    "\n",
    "Write a function called `is_anagram` that takes two strings and returns `True` if they are anagrams and `False` otherwise.\n",
    "\n",
    "For example:\n",
    "```python\n",
    ">>> is_anagram(\"listen\", \"silent\")\n",
    "True\n",
    "\n",
    ">>> is_anagram(\"hello\", \"world\")\n",
    "False\n",
    "```"
   ]
  },
  {
   "cell_type": "code",
   "execution_count": 78,
   "id": "5184489e",
   "metadata": {},
   "outputs": [
    {
     "name": "stdout",
     "output_type": "stream",
     "text": [
      "True\n",
      "False\n"
     ]
    }
   ],
   "source": [
    "def is_anagram(word1, word2):\n",
    "    return sorted(word1) == sorted(word2)\n",
    "\n",
    "\n",
    "print(is_anagram(\"listen\", \"silent\"))  # True\n",
    "print(is_anagram(\"hello\", \"world\"))  # False"
   ]
  }
 ],
 "metadata": {
  "kernelspec": {
   "display_name": "Python 3",
   "language": "python",
   "name": "python3"
  },
  "language_info": {
   "codemirror_mode": {
    "name": "ipython",
    "version": 3
   },
   "file_extension": ".py",
   "mimetype": "text/x-python",
   "name": "python",
   "nbconvert_exporter": "python",
   "pygments_lexer": "ipython3",
   "version": "3.12.2"
  }
 },
 "nbformat": 4,
 "nbformat_minor": 5
}
