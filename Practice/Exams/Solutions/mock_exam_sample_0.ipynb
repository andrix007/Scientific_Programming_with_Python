{
 "cells": [
  {
   "cell_type": "markdown",
   "id": "bda5be1f-cc03-4c84-a89a-30c15c11bf1d",
   "metadata": {},
   "source": [
    "### Problem 1: Daily Temperature Tracker and Analyzer\n",
    "\n",
    "The following program tracks daily temperatures for a week, allowing the user to input temperatures, analyze the data, and categorize each day based on temperature ranges.\n",
    "\n",
    "### Source Code\n",
    "\n"
   ]
  },
  {
   "cell_type": "code",
   "execution_count": 2,
   "id": "6ab86c50-e6b2-4b18-a79d-d0159970dcd0",
   "metadata": {},
   "outputs": [
    {
     "name": "stdin",
     "output_type": "stream",
     "text": [
      "Enter the temperature for day 1:  100\n",
      "Enter the temperature for day 2:  50\n",
      "Enter the temperature for day 3:  30\n",
      "Enter the temperature for day 4:  20\n",
      "Enter the temperature for day 5:  10\n",
      "Enter the temperature for day 6:  0\n",
      "Enter the temperature for day 7:  -10\n"
     ]
    },
    {
     "name": "stdout",
     "output_type": "stream",
     "text": [
      "Temperature: 100.0°C, Category: Hot, Description: High Temperature\n",
      "Temperature: 50.0°C, Category: Hot, Description: High Temperature\n",
      "Temperature: 30.0°C, Category: Warm, Description: Comfortable Temperature\n",
      "Temperature: 20.0°C, Category: Warm, Description: Comfortable Temperature\n",
      "Temperature: 10.0°C, Category: Cool, Description: Moderate Temperature\n",
      "Temperature: 0.0°C, Category: Cool, Description: Moderate Temperature\n",
      "Temperature: -10.0°C, Category: Cold, Description: Very Low Temperature\n",
      "\n",
      "--- Weekly Summary ---\n",
      "Total Days Recorded: 7\n",
      "Cold Days: 1\n",
      "Cool Days: 2\n",
      "Warm Days: 2\n",
      "Hot Days: 2\n",
      "Minimum Temperature: -10.0°C\n",
      "Maximum Temperature: 100.0°C\n",
      "Average Temperature: 28.57°C\n"
     ]
    },
    {
     "name": "stdin",
     "output_type": "stream",
     "text": [
      "\n",
      "Re-enter the number of days (must be 7 for this program):  7\n"
     ]
    },
    {
     "name": "stdout",
     "output_type": "stream",
     "text": [
      "\n",
      "Temperature tracking is complete.\n",
      "******************************\n"
     ]
    }
   ],
   "source": [
    "# Variables\n",
    "day_count = 7\n",
    "temperatures = []\n",
    "total_temp = 0  # Sum of all temperatures for average calculation\n",
    "cold_days = 0\n",
    "cool_days = 0\n",
    "warm_days = 0\n",
    "hot_days = 0\n",
    "\n",
    "# Input loop to get temperatures for each day\n",
    "for day in range(1, day_count + 1):\n",
    "    # TODO 01: The user must see the message: \"Enter the temperature for day 1\" and so on.\n",
    "    temp = float(input(f\"Enter the temperature for day {day}: \"))  # Standard Input\n",
    "    # TODO 02: insert one line code to maintain a list of temperature input\n",
    "    temperatures.append(temp)\n",
    "    # TODO 03: compute total temperature total_temp\n",
    "    total_temp += temp  # Arithmetic Operator for sum\n",
    "\n",
    "# Initialize min and max based on the first entry\n",
    "min_temp = temperatures[0]\n",
    "max_temp = temperatures[0]\n",
    "\n",
    "# Processing loop to classify and analyze each temperature\n",
    "for temp in temperatures:\n",
    "    # Update min and max temperatures\n",
    "    if temp < min_temp:\n",
    "        min_temp = temp\n",
    "    if temp > max_temp:\n",
    "        max_temp = temp\n",
    "\n",
    "    # Classify temperature and count occurrences\n",
    "    if temp < 0:\n",
    "        category = \"Cold\"\n",
    "        # TODO 04: update counter cold_days\n",
    "        cold_days += 1\n",
    "    # TODO 05: design condition for the close interval: [0,15]\n",
    "    elif 0 <= temp <= 15:\n",
    "        category = \"Cool\"\n",
    "        cool_days += 1\n",
    "    elif 16 <= temp <= 30:\n",
    "        category = \"Warm\"\n",
    "        warm_days += 1\n",
    "    else:\n",
    "        category = \"Hot\"\n",
    "        hot_days += 1\n",
    "\n",
    "    # Use match to set an additional description based on the category\n",
    "    match category:\n",
    "        case \"Cold\":\n",
    "            description = \"Very Low Temperature\"\n",
    "        case \"Cool\":\n",
    "            description = \"Moderate Temperature\"\n",
    "        case \"Warm\":\n",
    "            description = \"Comfortable Temperature\"\n",
    "        case \"Hot\":\n",
    "            description = \"High Temperature\"\n",
    "        # TODO 06: handle all other cases with description: \"Undefined category\"\n",
    "        case _: \n",
    "            description = \"Undefined category\"\n",
    "    \n",
    "    # Output each day's temperature, category, and description\n",
    "    # TODO 07: Output each day's temperature, category, and description in the following format:\n",
    "    # Temperature: -10°C, Category: Cold, Description: Very Low Temperature\n",
    "    print(f\"Temperature: {temp}°C, Category: {category}, Description: {description}\")\n",
    "\n",
    "# Calculate the average temperature\n",
    "# TODO 08: use one line to compute daily average temperature, only if day_count is non-zero and positive\n",
    "average_temp = total_temp / day_count if day_count > 0 else 0\n",
    "\n",
    "# Output summary statistics\n",
    "print(\"\\n--- Weekly Summary ---\")\n",
    "print(f\"Total Days Recorded: {day_count}\")\n",
    "print(f\"Cold Days: {cold_days}\")\n",
    "print(f\"Cool Days: {cool_days}\")\n",
    "print(f\"Warm Days: {warm_days}\")\n",
    "print(f\"Hot Days: {hot_days}\")\n",
    "print(f\"Minimum Temperature: {min_temp}°C\")\n",
    "print(f\"Maximum Temperature: {max_temp}°C\")\n",
    "print(f\"Average Temperature: {average_temp:.2f}°C\")\n",
    "\n",
    "while True:\n",
    "    try:\n",
    "        new_day_count = int(input(\"\\nRe-enter the number of days (must be 7 for this program): \"))\n",
    "        if new_day_count == 7:\n",
    "            # TODO 09: test passed, so transfer control to the last print() statement\n",
    "            break\n",
    "        else:\n",
    "            print(\"Please enter 7 as the number of days for this tracker.\")\n",
    "    except ValueError:\n",
    "        print(\"Invalid input. Please enter a number.\")\n",
    "\n",
    "# Print completion message\n",
    "print(\"\\nTemperature tracking is complete.\")\n",
    "# TODO 10: use a single statement to print the character: * 30 times in one line\n",
    "print (\"*\" * 30)"
   ]
  },
  {
   "cell_type": "code",
   "execution_count": null,
   "id": "55f3f357-0917-4c84-a31f-9a7447325001",
   "metadata": {},
   "outputs": [],
   "source": []
  }
 ],
 "metadata": {
  "kernelspec": {
   "display_name": "Python 3 (ipykernel)",
   "language": "python",
   "name": "python3"
  },
  "language_info": {
   "codemirror_mode": {
    "name": "ipython",
    "version": 3
   },
   "file_extension": ".py",
   "mimetype": "text/x-python",
   "name": "python",
   "nbconvert_exporter": "python",
   "pygments_lexer": "ipython3",
   "version": "3.12.4"
  }
 },
 "nbformat": 4,
 "nbformat_minor": 5
}
