{
 "cells": [
  {
   "cell_type": "markdown",
   "metadata": {},
   "source": [
    "### 1) Basic Array Creation 🍏\n",
    "\n",
    "Create a 1D NumPy array containing the integers from 10 to 50, inclusive\n",
    "\n",
    "<details><summary>Useful functions</summary>\n",
    "\n",
    "```py\n",
    "numpy.arange(start, stop, step)  # Returns an array of evenly spaced values within a given interval.\n",
    "```\n",
    "</details>"
   ]
  },
  {
   "cell_type": "code",
   "execution_count": null,
   "metadata": {},
   "outputs": [
    {
     "name": "stdout",
     "output_type": "stream",
     "text": [
      "[10 11 12 13 14 15 16 17 18 19 20 21 22 23 24 25 26 27 28 29 30 31 32 33\n",
      " 34 35 36 37 38 39 40 41 42 43 44 45 46 47 48 49 50]\n"
     ]
    }
   ],
   "source": [
    "import numpy as np\n",
    "\n",
    "arr = \n",
    "print(arr)"
   ]
  },
  {
   "cell_type": "markdown",
   "metadata": {},
   "source": [
    "### 2) Array Arithmetic 🔢\n",
    "\n",
    "Create two NumPy arrays of shape `(3, 3)`, filled with random integers between 1 and 20\n",
    "\n",
    "Perform element-wise addition, subtraction, multiplication, and division\n",
    "\n",
    "<details><summary>Useful functions</summary>\n",
    "\n",
    "```py\n",
    "numpy.random.randint(low, high, size)  # Returns an array of random integers from low (inclusive) to high (exclusive)\n",
    "```\n",
    "</details>"
   ]
  },
  {
   "cell_type": "code",
   "execution_count": null,
   "metadata": {},
   "outputs": [
    {
     "name": "stdout",
     "output_type": "stream",
     "text": [
      "Addition:\n",
      " [[ 9  4 17]\n",
      " [14 18 17]\n",
      " [22 20 10]]\n",
      "Subtraction:\n",
      " [[ -5  -2 -11]\n",
      " [ -8  -6 -13]\n",
      " [ 10  14   8]]\n",
      "Multiplication:\n",
      " [[14  3 42]\n",
      " [33 72 30]\n",
      " [96 51  9]]\n",
      "Division:\n",
      " [[0.28571429 0.33333333 0.21428571]\n",
      " [0.27272727 0.5        0.13333333]\n",
      " [2.66666667 5.66666667 9.        ]]\n"
     ]
    }
   ],
   "source": [
    "arr1 = \n",
    "arr2 = \n",
    "\n",
    "addition = arr1 + arr2\n",
    "subtraction = arr1 - arr2\n",
    "multiplication = arr1 * arr2\n",
    "division = arr1 / arr2\n",
    "\n",
    "print(\"Addition:\\n\", addition)\n",
    "print(\"Subtraction:\\n\", subtraction)\n",
    "print(\"Multiplication:\\n\", multiplication)\n",
    "print(\"Division:\\n\", division)"
   ]
  },
  {
   "cell_type": "markdown",
   "metadata": {},
   "source": [
    "### 3) Summing the Diagonals 🎲\n",
    "\n",
    "Create a 5x5 matrix of random integers between 10 and 100\n",
    "\n",
    "Calculate the sum of both the main diagonal and the anti-diagonal\n",
    "\n",
    "<details><summary>Useful functions</summary>\n",
    "\n",
    "```py\n",
    "numpy.diag(array)    # Extracts the diagonal elements of an array\n",
    "numpy.fliplr(array)  # Flips the array in the left/right direction\n",
    "numpy.sum(array)     # Returns the sum of all elements in the array\n",
    "```\n",
    "</details>"
   ]
  },
  {
   "cell_type": "code",
   "execution_count": null,
   "metadata": {},
   "outputs": [
    {
     "name": "stdout",
     "output_type": "stream",
     "text": [
      "Main diagonal sum: 193\n",
      "Anti-diagonal sum: 221\n"
     ]
    }
   ],
   "source": [
    "matrix = \n",
    "\n",
    "main_diag_sum = \n",
    "anti_diag_sum = \n",
    "\n",
    "print(\"Main diagonal sum:\", main_diag_sum)\n",
    "print(\"Anti-diagonal sum:\", anti_diag_sum)"
   ]
  },
  {
   "cell_type": "markdown",
   "metadata": {},
   "source": [
    "### 4) Fancy Indexing with Conditions 🔍\n",
    "\n",
    "Generate a NumPy array of 100 random integers between 1 and 100\n",
    "\n",
    "Find all elements that are divisible by 3 but not by 5 using array indexing"
   ]
  },
  {
   "cell_type": "code",
   "execution_count": null,
   "metadata": {},
   "outputs": [
    {
     "name": "stdout",
     "output_type": "stream",
     "text": [
      "[84  3  6 51 93 66 78 78 87 96  9 21 81 36 24 84 42 84 81 21 12]\n"
     ]
    }
   ],
   "source": [
    "arr = \n",
    "\n",
    "filtered = \n",
    "\n",
    "print(filtered)"
   ]
  },
  {
   "cell_type": "markdown",
   "metadata": {},
   "source": [
    "### 5) Flatten, Sort, and Find 📏\n",
    "\n",
    "Create a 6x6 matrix of random integers\n",
    "\n",
    "Flatten it into a 1D array, sort the array, and find the 3 largest elements\n",
    "\n",
    "<details><summary>Useful functions</summary>\n",
    "\n",
    "```py\n",
    "numpy.ndarray.ravel(array)  # Returns a flattened array\n",
    "numpy.sort(array)           # Returns a sorted copy of the array\n",
    "```\n",
    "</details>"
   ]
  },
  {
   "cell_type": "code",
   "execution_count": null,
   "metadata": {},
   "outputs": [
    {
     "name": "stdout",
     "output_type": "stream",
     "text": [
      "3 largest elements: [89 95 97]\n"
     ]
    }
   ],
   "source": [
    "matrix = \n",
    "\n",
    "flattened = \n",
    "sorted_array = \n",
    "largest_3 = \n",
    "\n",
    "print(\"3 largest elements:\", largest_3)"
   ]
  },
  {
   "cell_type": "markdown",
   "metadata": {},
   "source": [
    "### 6) Normalize the Data 📈\n",
    "\n",
    "Create a NumPy array with 20 random floating-point numbers between 0 and 1\n",
    "\n",
    "Normalize this data so that the new values range between 0 and 100\n",
    "\n",
    "> *Hint:* The formula for normalization is: $X_{\\text{norm}} = \\frac{X - X_{\\text{min}}}{X_{\\text{max}} - X_{\\text{min}}} \\times (\\text{new-max} - \\text{new-min}) + \\text{new-min}$\n",
    "\n",
    "<details><summary>Useful functions</summary>\n",
    "\n",
    "```py\n",
    "numpy.random.rand(size)  # Returns an array of random floats in the half-open interval [0.0, 1.0)\n",
    "```\n",
    "</details>"
   ]
  },
  {
   "cell_type": "code",
   "execution_count": null,
   "metadata": {},
   "outputs": [
    {
     "name": "stdout",
     "output_type": "stream",
     "text": [
      "Normalized array: [ 34.54822402 100.           0.          28.20571139  57.7750509\n",
      "   0.45209101  22.56684599  88.32222371   5.03291633  21.64647402\n",
      "  16.10629415  93.73326425  93.30524742  89.98142695  84.46033801\n",
      "  77.15243936  48.68497834  90.65820631  92.40925564  55.70818011]\n"
     ]
    }
   ],
   "source": [
    "arr = \n",
    "normalized = \n",
    "\n",
    "print(\"Normalized array:\", normalized)"
   ]
  },
  {
   "cell_type": "markdown",
   "metadata": {},
   "source": [
    "### 7) Broadcasting and Scaling 📊\n",
    "\n",
    "Create a 4x5 matrix of random integers between 10 and 100\n",
    "\n",
    "Subtract the column-wise mean from each element in the matrix\n",
    "\n",
    "<details><summary>Useful functions</summary>\n",
    "\n",
    "```py\n",
    "numpy.ndarray.mean(array, axis)  # Returns the mean of the array along the specified axis\n",
    "```\n",
    "</details>"
   ]
  },
  {
   "cell_type": "code",
   "execution_count": null,
   "metadata": {},
   "outputs": [
    {
     "name": "stdout",
     "output_type": "stream",
     "text": [
      "Column-wise mean subtracted:\n",
      " [[ -5.    15.75 -14.5  -43.5  -25.5 ]\n",
      " [ 12.   -16.25  -3.5   32.5   21.5 ]\n",
      " [-18.   -18.25 -24.5   44.5    3.5 ]\n",
      " [ 11.    18.75  42.5  -33.5    0.5 ]]\n"
     ]
    }
   ],
   "source": [
    "matrix = \n",
    "\n",
    "column_means = \n",
    "standardized = \n",
    "\n",
    "print(\"Column-wise mean subtracted:\\n\", standardized)"
   ]
  },
  {
   "cell_type": "markdown",
   "metadata": {},
   "source": [
    "### 8) Matrix Multiplication Challenge 🤯\n",
    "\n",
    "Create two matrices of size 4x3 and 3x5 with random integers\n",
    "\n",
    "Perform matrix multiplication on them\n",
    "\n",
    "<details><summary>Useful functions</summary>\n",
    "\n",
    "```py\n",
    "numpy.ndarray.dot(array1, array2)  # Returns the dot product of two arrays\n",
    "```\n",
    "</details>"
   ]
  },
  {
   "cell_type": "code",
   "execution_count": null,
   "metadata": {},
   "outputs": [
    {
     "name": "stdout",
     "output_type": "stream",
     "text": [
      "Matrix multiplication result:\n",
      " [[ 52  95 139  49  86]\n",
      " [ 68  29  85  27  65]\n",
      " [ 91  62 127  49 107]\n",
      " [ 50  68 110  38  71]]\n"
     ]
    }
   ],
   "source": [
    "matrix1 = \n",
    "matrix2 = \n",
    "\n",
    "result = \n",
    "\n",
    "print(\"Matrix multiplication result:\\n\", result)"
   ]
  },
  {
   "cell_type": "markdown",
   "metadata": {},
   "source": [
    "### 9) Find the Peaks 📉\n",
    "\n",
    "Generate a 1D NumPy array with 20 random integers between 0 and 50\n",
    "\n",
    "Identify the \"peaks\" (local maxima) in the array (local maxima)\n",
    "\n",
    "> *Hint:* compare each element to its neighbors"
   ]
  },
  {
   "cell_type": "code",
   "execution_count": null,
   "metadata": {},
   "outputs": [
    {
     "name": "stdout",
     "output_type": "stream",
     "text": [
      "Peaks: [48 17 24 23 45]\n"
     ]
    }
   ],
   "source": [
    "arr =\n",
    "\n",
    "peaks = \n",
    "\n",
    "print(\"Peaks:\", peaks)"
   ]
  },
  {
   "cell_type": "markdown",
   "metadata": {},
   "source": [
    "### 10) Simulate a Dice Roll 🎲🎲\n",
    "\n",
    "Simulate rolling two six-sided dice 10,000 times\n",
    "\n",
    "Count how many times the sum of the two dice equals 7"
   ]
  },
  {
   "cell_type": "code",
   "execution_count": null,
   "metadata": {},
   "outputs": [
    {
     "name": "stdout",
     "output_type": "stream",
     "text": [
      "Number of times the sum is 7: 1635\n"
     ]
    }
   ],
   "source": [
    "rolls = \n",
    "\n",
    "sums = \n",
    "sevens = \n",
    "\n",
    "print(\"Number of times the sum is 7:\", sevens)"
   ]
  }
 ],
 "metadata": {
  "kernelspec": {
   "display_name": "Python 3",
   "language": "python",
   "name": "python3"
  },
  "language_info": {
   "codemirror_mode": {
    "name": "ipython",
    "version": 3
   },
   "file_extension": ".py",
   "mimetype": "text/x-python",
   "name": "python",
   "nbconvert_exporter": "python",
   "pygments_lexer": "ipython3",
   "version": "3.12.2"
  }
 },
 "nbformat": 4,
 "nbformat_minor": 2
}
