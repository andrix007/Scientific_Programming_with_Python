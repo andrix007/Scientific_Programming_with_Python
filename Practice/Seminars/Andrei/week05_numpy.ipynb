{
 "cells": [
  {
   "cell_type": "markdown",
   "metadata": {},
   "source": [
    "### 1) Basic Array Creation 🍏\n",
    "\n",
    "Create a 1D NumPy array containing the integers from 10 to 50, inclusive\n",
    "\n",
    "<details><summary>Useful functions</summary>\n",
    "\n",
    "```py\n",
    "numpy.arange(start, stop, step)  # Returns an array of evenly spaced values within a given interval.\n",
    "```\n",
    "</details>"
   ]
  },
  {
   "cell_type": "code",
   "execution_count": 1,
   "metadata": {},
   "outputs": [
    {
     "name": "stdout",
     "output_type": "stream",
     "text": [
      "[10 11 12 13 14 15 16 17 18 19 20 21 22 23 24 25 26 27 28 29 30 31 32 33\n",
      " 34 35 36 37 38 39 40 41 42 43 44 45 46 47 48 49 50]\n"
     ]
    }
   ],
   "source": [
    "import numpy as np\n",
    "\n",
    "arr = np.arange(10,51,1)\n",
    "print(arr)"
   ]
  },
  {
   "cell_type": "markdown",
   "metadata": {},
   "source": [
    "### 2) Array Arithmetic 🔢\n",
    "\n",
    "Create two NumPy arrays of shape `(3, 3)`, filled with random integers between 1 and 20\n",
    "\n",
    "Perform element-wise addition, subtraction, multiplication, and division\n",
    "\n",
    "<details><summary>Useful functions</summary>\n",
    "\n",
    "```py\n",
    "numpy.random.randint(low, high, size)  # Returns an array of random integers from low (inclusive) to high (exclusive)\n",
    "```\n",
    "</details>"
   ]
  },
  {
   "cell_type": "code",
   "execution_count": 3,
   "metadata": {},
   "outputs": [
    {
     "name": "stdout",
     "output_type": "stream",
     "text": [
      "Addition:\n",
      " [[28 26 15]\n",
      " [ 7 29 27]\n",
      " [21 10 28]]\n",
      "Subtraction:\n",
      " [[ 12  -2 -11]\n",
      " [ -1  -1  -9]\n",
      " [-11   4  -8]]\n",
      "Multiplication:\n",
      " [[160 168  26]\n",
      " [ 12 210 162]\n",
      " [ 80  21 180]]\n",
      "Division:\n",
      " [[2.5        0.85714286 0.15384615]\n",
      " [0.75       0.93333333 0.5       ]\n",
      " [0.3125     2.33333333 0.55555556]]\n"
     ]
    }
   ],
   "source": [
    "arr1 = np.random.randint(1,21,size=(3,3))\n",
    "arr2 = np.random.randint(1,21,size=(3,3))\n",
    "\n",
    "addition = arr1 + arr2\n",
    "subtraction = arr1 - arr2\n",
    "multiplication = arr1 * arr2\n",
    "division = arr1 / arr2\n",
    "\n",
    "print(\"Addition:\\n\", addition)\n",
    "print(\"Subtraction:\\n\", subtraction)\n",
    "print(\"Multiplication:\\n\", multiplication)\n",
    "print(\"Division:\\n\", division)"
   ]
  },
  {
   "cell_type": "code",
   "execution_count": null,
   "metadata": {},
   "outputs": [
    {
     "name": "stdout",
     "output_type": "stream",
     "text": [
      "Addition:\n",
      " [[ 9  4 17]\n",
      " [14 18 17]\n",
      " [22 20 10]]\n",
      "Subtraction:\n",
      " [[ -5  -2 -11]\n",
      " [ -8  -6 -13]\n",
      " [ 10  14   8]]\n",
      "Multiplication:\n",
      " [[14  3 42]\n",
      " [33 72 30]\n",
      " [96 51  9]]\n",
      "Division:\n",
      " [[0.28571429 0.33333333 0.21428571]\n",
      " [0.27272727 0.5        0.13333333]\n",
      " [2.66666667 5.66666667 9.        ]]\n"
     ]
    }
   ],
   "source": [
    "arr1 = \n",
    "arr2 = \n",
    "\n",
    "addition = arr1 + arr2\n",
    "subtraction = arr1 - arr2\n",
    "multiplication = arr1 * arr2\n",
    "division = arr1 / arr2\n",
    "\n",
    "print(\"Addition:\\n\", addition)\n",
    "print(\"Subtraction:\\n\", subtraction)\n",
    "print(\"Multiplication:\\n\", multiplication)\n",
    "print(\"Division:\\n\", division)"
   ]
  },
  {
   "cell_type": "markdown",
   "metadata": {},
   "source": [
    "### 3) Summing the Diagonals 🎲\n",
    "\n",
    "Create a 5x5 matrix of random integers between 10 and 100\n",
    "\n",
    "Calculate the sum of both the main diagonal and the anti-diagonal\n",
    "\n",
    "<details><summary>Useful functions</summary>\n",
    "\n",
    "```py\n",
    "numpy.diag(array)    # Extracts the diagonal elements of an array\n",
    "numpy.fliplr(array)  # Flips the array in the left/right direction\n",
    "numpy.sum(array)     # Returns the sum of all elements in the array\n",
    "```\n",
    "</details>"
   ]
  },
  {
   "cell_type": "code",
   "execution_count": 16,
   "metadata": {},
   "outputs": [
    {
     "name": "stdout",
     "output_type": "stream",
     "text": [
      "Main diagonal sum: 284\n",
      "Anti-diagonal sum: 169\n"
     ]
    }
   ],
   "source": [
    "matrix = np.random.randint(10,101,size=(5,5))\n",
    "\n",
    "main_diag_sum = np.sum(np.diag(matrix))\n",
    "anti_diag_sum = np.sum(np.diag(np.fliplr(matrix)))\n",
    "\n",
    "print(\"Main diagonal sum:\", main_diag_sum)\n",
    "print(\"Anti-diagonal sum:\", anti_diag_sum)"
   ]
  },
  {
   "cell_type": "code",
   "execution_count": null,
   "metadata": {},
   "outputs": [
    {
     "name": "stdout",
     "output_type": "stream",
     "text": [
      "Main diagonal sum: 193\n",
      "Anti-diagonal sum: 221\n"
     ]
    }
   ],
   "source": [
    "matrix = np.random.randint(10,101,size=(5,5))\n",
    "\n",
    "main_diag_sum = matrix.sum(matrix.diagonal)\n",
    "anti_diag_sum = matrix.sum(np.flip(matrix).diagonal)\n",
    "\n",
    "print(\"Main diagonal sum:\", main_diag_sum)\n",
    "print(\"Anti-diagonal sum:\", anti_diag_sum)"
   ]
  },
  {
   "cell_type": "markdown",
   "metadata": {},
   "source": [
    "### 4) Fancy Indexing with Conditions 🔍\n",
    "\n",
    "Generate a NumPy array of 100 random integers between 1 and 100\n",
    "\n",
    "Find all elements that are divisible by 3 but not by 5 using array indexing"
   ]
  },
  {
   "cell_type": "code",
   "execution_count": 18,
   "metadata": {},
   "outputs": [
    {
     "name": "stdout",
     "output_type": "stream",
     "text": [
      "[ 3  6  9 12 18 21 24 27 33 36 39 42 48 51 54 57 63 66 69 72 78 81 84 87\n",
      " 93 96 99]\n"
     ]
    }
   ],
   "source": [
    "arr = np.arange(1,101,1)\n",
    "\n",
    "filtered = arr[(arr % 3 == 0) & (arr % 5 != 0)]\n",
    "\n",
    "print(filtered)"
   ]
  },
  {
   "cell_type": "markdown",
   "metadata": {},
   "source": [
    "### 5) Flatten, Sort, and Find 📏\n",
    "\n",
    "Create a 6x6 matrix of random integers\n",
    "\n",
    "Flatten it into a 1D array, sort the array, and find the 3 largest elements\n",
    "\n",
    "<details><summary>Useful functions</summary>\n",
    "\n",
    "```py\n",
    "numpy.ndarray.ravel(array)  # Returns a flattened array\n",
    "numpy.sort(array)           # Returns a sorted copy of the array\n",
    "```\n",
    "</details>"
   ]
  },
  {
   "cell_type": "code",
   "execution_count": 35,
   "metadata": {},
   "outputs": [
    {
     "name": "stdout",
     "output_type": "stream",
     "text": [
      "3 largest elements: [ 933  998 1000]\n"
     ]
    }
   ],
   "source": [
    "matrix = np.random.randint(1,1001,size=(6,6))\n",
    "\n",
    "flattened = np.ravel(matrix)\n",
    "sorted_array = np.sort(flattened)\n",
    "largest_3 = sorted_array[-3:]\n",
    "\n",
    "print(\"3 largest elements:\", largest_3)"
   ]
  },
  {
   "cell_type": "markdown",
   "metadata": {},
   "source": [
    "### 6) Normalize the Data 📈\n",
    "\n",
    "Create a NumPy array with 20 random floating-point numbers between 0 and 1\n",
    "\n",
    "Normalize this data so that the new values range between 0 and 100\n",
    "\n",
    "> *Hint:* The formula for normalization is: $X_{\\text{norm}} = \\frac{X - X_{\\text{min}}}{X_{\\text{max}} - X_{\\text{min}}} \\times (\\text{new-max} - \\text{new-min}) + \\text{new-min}$\n",
    "\n",
    "<details><summary>Useful functions</summary>\n",
    "\n",
    "```py\n",
    "numpy.random.rand(size)  # Returns an array of random floats in the half-open interval [0.0, 1.0)\n",
    "```\n",
    "</details>"
   ]
  },
  {
   "cell_type": "code",
   "execution_count": 38,
   "metadata": {},
   "outputs": [
    {
     "name": "stdout",
     "output_type": "stream",
     "text": [
      "Normalized array: [ 45.90568197  45.33650616  30.80996129   5.4658108   97.79284789\n",
      "  80.16644806  35.64869912  57.14298678  53.02788558  36.29938621\n",
      "  27.52430439  40.35998142 100.          39.93003281  15.95640731\n",
      "  83.22064462   0.          14.31794631  61.26923701  77.8364972 ]\n"
     ]
    }
   ],
   "source": [
    "arr = np.random.rand(20)\n",
    "normalized = (arr-np.min(arr))/(np.max(arr)-np.min(arr))*(100-0)+0\n",
    "\n",
    "print(\"Normalized array:\", normalized)"
   ]
  },
  {
   "cell_type": "markdown",
   "metadata": {},
   "source": [
    "### 7) Broadcasting and Scaling 📊\n",
    "\n",
    "Create a 4x5 matrix of random integers between 10 and 100\n",
    "\n",
    "Subtract the column-wise mean from each element in the matrix\n",
    "\n",
    "<details><summary>Useful functions</summary>\n",
    "\n",
    "```py\n",
    "numpy.ndarray.mean(array, axis)  # Returns the mean of the array along the specified axis\n",
    "```\n",
    "</details>"
   ]
  },
  {
   "cell_type": "code",
   "execution_count": 42,
   "metadata": {},
   "outputs": [
    {
     "name": "stdout",
     "output_type": "stream",
     "text": [
      "Column-wise mean subtracted:\n",
      " [[ 21.75  19.25   9.   -28.25   6.75]\n",
      " [-21.25 -23.75   9.    33.75  31.75]\n",
      " [-33.25  13.25  17.    -0.25 -14.25]\n",
      " [ 32.75  -8.75 -35.    -5.25 -24.25]]\n"
     ]
    }
   ],
   "source": [
    "matrix = np.random.randint(10,101,size=(4,5))\n",
    "\n",
    "column_means = matrix.mean(axis=0)\n",
    "standardized = matrix - column_means\n",
    "\n",
    "print(\"Column-wise mean subtracted:\\n\", standardized)"
   ]
  },
  {
   "cell_type": "markdown",
   "metadata": {},
   "source": [
    "### 8) Matrix Multiplication Challenge 🤯\n",
    "\n",
    "Create two matrices of size 4x3 and 3x5 with random integers\n",
    "\n",
    "Perform matrix multiplication on them\n",
    "\n",
    "<details><summary>Useful functions</summary>\n",
    "\n",
    "```py\n",
    "numpy.ndarray.dot(array1, array2)  # Returns the dot product of two arrays\n",
    "```\n",
    "</details>"
   ]
  },
  {
   "cell_type": "code",
   "execution_count": 45,
   "metadata": {},
   "outputs": [
    {
     "name": "stdout",
     "output_type": "stream",
     "text": [
      "Matrix multiplication result:\n",
      " [[ 969050  563145  575776  459763  470680]\n",
      " [ 479138  343484  263166  218694  254086]\n",
      " [1216717 1040888  660251  554663  702889]\n",
      " [1352243 1199738  547627  532654  787086]]\n",
      "(4, 5)\n"
     ]
    }
   ],
   "source": [
    "matrix1 = np.random.randint(1,1001,size=(4,3))\n",
    "matrix2 = np.random.randint(1,1001,size=(3,5))\n",
    "\n",
    "result = np.dot(matrix1, matrix2)\n",
    "\n",
    "print(\"Matrix multiplication result:\\n\", result)\n",
    "print(result.shape)"
   ]
  },
  {
   "cell_type": "markdown",
   "metadata": {},
   "source": [
    "### 9) Find the Peaks 📉\n",
    "\n",
    "Generate a 1D NumPy array with 20 random integers between 0 and 50\n",
    "\n",
    "Identify the \"peaks\" (local maxima) in the array (local maxima)\n",
    "\n",
    "> *Hint:* compare each element to its neighbors"
   ]
  },
  {
   "cell_type": "code",
   "execution_count": 47,
   "metadata": {},
   "outputs": [
    {
     "name": "stdout",
     "output_type": "stream",
     "text": [
      "[15 47 16 20 26 24 31 11 28 16  4 36 42 37 42 17 10  6  8 11]\n",
      "Peaks: [47 26 31 28 42 42]\n"
     ]
    }
   ],
   "source": [
    "arr = np.random.randint(0, 51, 20)\n",
    "print(arr)\n",
    "\n",
    "is_peak = (arr > np.roll(arr, 1)) & (arr > np.roll(arr, -1))\n",
    "\n",
    "is_peak[0] = is_peak[-1] = False\n",
    "\n",
    "print(\"Peaks:\", arr[is_peak])"
   ]
  },
  {
   "cell_type": "markdown",
   "metadata": {},
   "source": [
    "### 10) Simulate a Dice Roll 🎲🎲\n",
    "\n",
    "Simulate rolling two six-sided dice 10,000 times\n",
    "\n",
    "Count how many times the sum of the two dice equals 7"
   ]
  },
  {
   "cell_type": "code",
   "execution_count": 57,
   "metadata": {},
   "outputs": [
    {
     "name": "stdout",
     "output_type": "stream",
     "text": [
      "Number of times the sum is 7: 1612\n"
     ]
    }
   ],
   "source": [
    "rolls = np.random.randint(1,7,size=(10000,2))\n",
    "\n",
    "sums = rolls.sum(axis=1)\n",
    "sevens = np.sum(sums == 7)\n",
    "\n",
    "print(\"Number of times the sum is 7:\", sevens)"
   ]
  }
 ],
 "metadata": {
  "kernelspec": {
   "display_name": "base",
   "language": "python",
   "name": "python3"
  },
  "language_info": {
   "codemirror_mode": {
    "name": "ipython",
    "version": 3
   },
   "file_extension": ".py",
   "mimetype": "text/x-python",
   "name": "python",
   "nbconvert_exporter": "python",
   "pygments_lexer": "ipython3",
   "version": "3.12.7"
  }
 },
 "nbformat": 4,
 "nbformat_minor": 2
}
