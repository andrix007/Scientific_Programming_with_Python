{
 "cells": [
  {
   "cell_type": "markdown",
   "metadata": {},
   "source": [
    "# Amusement Park\n",
    "\n",
    "The `amusement_park.csv` file contains a dataset with information about visitors to an amusement park.\n",
    "\n",
    "Each row represents a single visitor, and the columns capture various details about their visit:\n",
    "\n",
    "| **Column Name**     | **Type**          | **Possible Values**                        | **Description**                                                 |\n",
    "|---------------------|:-----------------:|--------------------------------------------|-----------------------------------------------------------------|\n",
    "| **`VisitorID`**     | `int`             |                                            | Unique identifier for each visitor                              |\n",
    "| **`Name`**          | `str`             |                                            | Visitor's full name in the format Surname, FirstName            |\n",
    "| **`Age`**           | `Optional[float]` | Any positive number or `None`              | Age of the visitor (may contain missing values)                 |\n",
    "| **`Sex`**           | `str`             | `male`, `female`                           | Gender of the visitor                                           |\n",
    "| **`TicketClass`**   | `int`             | `1`, `2`, `3`                              | The class of the ticket purchased                               |\n",
    "| **`Fare`**          | `float`           | Any positive number                        | The price paid for the ticket                                   |\n",
    "| **`TicketNumber`**  | `str`             | Alphanumeric                               | The visitor's ticket number (numeric or alphanumeric)           |\n",
    "| **`RideType`**      | `Optional[str]`   | Various ride names or `None`               | Type of ride chosen by the visitor (may contain missing values) |\n",
    "| **`EntryTime`**     | `datetime64[ns]`  |                                            | Time of park entry stored as a datetime object                  |\n",
    "| **`Exited`**        | `bool`            | `True`, `False`                            | Indicates if the visitor exited the park                        |\n",
    "| **`EnteredVia`**    | `str`             | `Main Entrance`, `North Gate`, `East Gate` | Entrance gate used by the visitor                               |"
   ]
  },
  {
   "cell_type": "markdown",
   "metadata": {},
   "source": [
    "### 0) Read the dataset and take a look at it 📊\n",
    "\n",
    "Dataset URL: https://github.com/Python-Homeworks-CUB/Seminars/blob/main/notebooks/amusement_park.csv\n",
    "\n",
    "> *Hint:* Add `?raw=true` to the URL to get the raw file from GitHub\n",
    "\n",
    "<details><summary>Useful functions</summary>\n",
    "\n",
    "```python\n",
    "pandas.read_csv  # Read a CSV file into a DataFrame\n",
    "```\n",
    "</details>"
   ]
  },
  {
   "cell_type": "code",
   "execution_count": 1,
   "metadata": {},
   "outputs": [
    {
     "name": "stdout",
     "output_type": "stream",
     "text": [
      "     VisitorID              Name   Age     Sex  TicketClass   Fare TicketNumber       RideType            EntryTime  Exited     EnteredVia\n",
      "0            1   Williams, Sally  39.0    male            1  68.10        16798            NaN  2024-10-01 21:00:00    True     North Gate\n",
      "1            2      Wilson, Jane  16.0    male            1  97.20       14FLKT  rollercoaster  2024-10-01 14:42:00    True  Main Entrance\n",
      "2            3   Jones, Michelle   NaN  female            2  39.78         3251  haunted house  2024-10-01 16:55:00    True     North Gate\n",
      "3            4     Brown, Daniel   NaN  female            2  47.80        04114    bumper cars  2024-10-01 21:08:00    True     North Gate\n",
      "4            5    Moore, Michael   NaN    male            3  47.70        01352  haunted house  2024-10-01 13:25:00    True  Main Entrance\n",
      "..         ...               ...   ...     ...          ...    ...          ...            ...                  ...     ...            ...\n",
      "995        996   Williams, Chris  71.0    male            2  80.80       IHNFA0  haunted house  2024-10-01 16:32:00    True      East Gate\n",
      "996        997  Wilson, Michelle   NaN  female            1  71.43       O18I5V    bumper cars  2024-10-01 14:27:00    True  Main Entrance\n",
      "997        998     Wilson, Chris  64.0  female            1  89.36       QBERRX       carousel  2024-10-01 16:01:00   False     North Gate\n",
      "998        999   Jones, Michelle   NaN  female            3  10.47       506172       carousel  2024-10-01 12:15:00    True     North Gate\n",
      "999       1000  Davis, Christina  48.0  female            1  70.55     23098603       carousel  2024-10-01 16:06:00   False     North Gate\n",
      "\n",
      "[1000 rows x 11 columns]\n"
     ]
    }
   ],
   "source": [
    "import pandas as pd\n",
    "\n",
    "pd.set_option('display.width', 10 ** 10)  # Optional, allows for prettier printing\n",
    "\n",
    "df = pd.read_csv('https://github.com/Python-Homeworks-CUB/Seminars/blob/main/notebooks/amusement_park.csv?raw=true')\n",
    "print(df)"
   ]
  },
  {
   "cell_type": "markdown",
   "metadata": {},
   "source": [
    "### 1) Age Profiling 🎂\n",
    "\n",
    "Find the average age of visitors who entered through the `North Gate` and `East Gate`, separately for each ticket class\n",
    "\n",
    "\n",
    "<details><summary>Useful functions</summary>\n",
    "\n",
    "```python\n",
    "pandas.Series.isin        # Check whether values are contained in Series\n",
    "pandas.DataFrame.groupby  # Group DataFrame using a mapper or by a Series of columns\n",
    "pandas.DataFrame.mean     # Return the mean of the values for the requested axis (technically, it's pandas.core.groupby.SeriesGroupBy.mean)\n",
    "```\n",
    "</details>\n",
    "<br>\n",
    "\n",
    "> *Hint:* To print the `groupby` object, you can use `obj.apply(print)`"
   ]
  },
  {
   "cell_type": "code",
   "execution_count": 2,
   "metadata": {},
   "outputs": [
    {
     "name": "stdout",
     "output_type": "stream",
     "text": [
      "TicketClass\n",
      "1    42.051136\n",
      "2    41.794466\n",
      "3    44.118110\n",
      "Name: Age, dtype: float64\n"
     ]
    }
   ],
   "source": [
    "avg_age_by_gate = df[\n",
    "    df['EnteredVia'].isin(['North Gate', 'East Gate'])\n",
    "].groupby('TicketClass')['Age'].mean()\n",
    "\n",
    "print(avg_age_by_gate)"
   ]
  },
  {
   "cell_type": "markdown",
   "metadata": {},
   "source": [
    "### 2) The Phantom Ages 👻\n",
    "\n",
    "For the Age column, fill in the missing values with the median of the entire dataset and check how many values were filled\n",
    "\n",
    "<details><summary>Useful functions</summary>\n",
    "\n",
    "```python\n",
    "pandas.Series.median  # Return the median of the values\n",
    "pandas.Series.isna    # Detect missing values (returns a boolean Series with True for missing values)\n",
    "pandas.Series.sum     # Return the sum of the values\n",
    "pandas.Series.fillna  # Fill NA/NaN values using the specified method\n",
    "```\n",
    "</details>"
   ]
  },
  {
   "cell_type": "code",
   "execution_count": 3,
   "metadata": {},
   "outputs": [
    {
     "name": "stdout",
     "output_type": "stream",
     "text": [
      "Filled 139 missing values in Age with median: 42.0\n"
     ]
    }
   ],
   "source": [
    "median_age = df['Age'].median()\n",
    "filled_count = df['Age'].isna().sum()\n",
    "df['Age'] = df['Age'].fillna(median_age)\n",
    "\n",
    "print(f'Filled {filled_count} missing values in Age with median: {median_age}')"
   ]
  },
  {
   "cell_type": "markdown",
   "metadata": {},
   "source": [
    "### 4) The Cheapskate Club 💰\n",
    "\n",
    "Find the number of visitors who paid the minimum ticket fare and the average age among them\n",
    "\n",
    "<details><summary>Useful functions</summary>\n",
    "\n",
    "```python\n",
    "pandas.Series.min         # Return the minimum of the values\n",
    "pandas.Series == {value}  # Select rows where the Series is equal to a specific value\n",
    "pandas.DataFrame.shape    # Return a tuple representing the dimensionality of the DataFrame\n",
    "```\n",
    "</details>"
   ]
  },
  {
   "cell_type": "code",
   "execution_count": 4,
   "metadata": {},
   "outputs": [
    {
     "name": "stdout",
     "output_type": "stream",
     "text": [
      "Visitors with minimum fare: 1\n",
      "Their average age: 50.0\n"
     ]
    }
   ],
   "source": [
    "min_fare = df['Fare'].min()\n",
    "min_fare_visitors = df[df['Fare'] == min_fare]\n",
    "average_age_min_fare = min_fare_visitors['Age'].mean()\n",
    "\n",
    "print(f'Visitors with minimum fare: {min_fare_visitors.shape[0]}')\n",
    "print(f'Their average age: {average_age_min_fare}')"
   ]
  },
  {
   "cell_type": "markdown",
   "metadata": {},
   "source": [
    "### 5) Lady's Choice 👩‍🎤\n",
    "\n",
    "Identify the ride that has more female visitors than male visitors. Provide the name of the ride and the counts of female and male visitors for that ride.\n",
    "\n",
    "<details><summary>Useful functions</summary>\n",
    "\n",
    "```python\n",
    "pandas.DataFrame.size                 # Return the size of each group\n",
    "pandas.DataFrame.unstack              # Pivot a level of the index labels\n",
    "pandas.DataFrame[boolean expression]  # Select rows based on a boolean condition\n",
    "```\n",
    "</details>\n",
    "<br>\n",
    "\n",
    "> *Hint:* You can use `obj.groups` on a `groupby` object to see the groups\n",
    "\n",
    "> *Hint:* You can use `obj.index` on a `DataFrame` to see the labels"
   ]
  },
  {
   "cell_type": "code",
   "execution_count": 5,
   "metadata": {},
   "outputs": [
    {
     "data": {
      "text/html": [
       "<div>\n",
       "<style scoped>\n",
       "    .dataframe tbody tr th:only-of-type {\n",
       "        vertical-align: middle;\n",
       "    }\n",
       "\n",
       "    .dataframe tbody tr th {\n",
       "        vertical-align: top;\n",
       "    }\n",
       "\n",
       "    .dataframe thead th {\n",
       "        text-align: right;\n",
       "    }\n",
       "</style>\n",
       "<table border=\"1\" class=\"dataframe\">\n",
       "  <thead>\n",
       "    <tr style=\"text-align: right;\">\n",
       "      <th>Sex</th>\n",
       "      <th>female</th>\n",
       "      <th>male</th>\n",
       "    </tr>\n",
       "    <tr>\n",
       "      <th>RideType</th>\n",
       "      <th></th>\n",
       "      <th></th>\n",
       "    </tr>\n",
       "  </thead>\n",
       "  <tbody>\n",
       "    <tr>\n",
       "      <th>bumper cars</th>\n",
       "      <td>90</td>\n",
       "      <td>83</td>\n",
       "    </tr>\n",
       "    <tr>\n",
       "      <th>carousel</th>\n",
       "      <td>108</td>\n",
       "      <td>102</td>\n",
       "    </tr>\n",
       "    <tr>\n",
       "      <th>haunted house</th>\n",
       "      <td>101</td>\n",
       "      <td>91</td>\n",
       "    </tr>\n",
       "  </tbody>\n",
       "</table>\n",
       "</div>"
      ],
      "text/plain": [
       "Sex            female  male\n",
       "RideType                   \n",
       "bumper cars        90    83\n",
       "carousel          108   102\n",
       "haunted house     101    91"
      ]
     },
     "execution_count": 5,
     "metadata": {},
     "output_type": "execute_result"
    }
   ],
   "source": [
    "ride_gender_count = df.groupby(['RideType', 'Sex']).size().unstack()\n",
    "\n",
    "ride_gender_count[ride_gender_count['female'] > ride_gender_count['male']]\n",
    "# As we can see, in Jupyter Notebook we can pretty-print the DataFrame"
   ]
  },
  {
   "cell_type": "markdown",
   "metadata": {},
   "source": [
    "### 6) Lucky Tickets 🍀\n",
    "\n",
    "Determine the percentage of lucky tickets among visitors"
   ]
  },
  {
   "cell_type": "code",
   "execution_count": 6,
   "metadata": {},
   "outputs": [
    {
     "name": "stdout",
     "output_type": "stream",
     "text": [
      "Percentage of lucky tickets: 6.0%\n"
     ]
    }
   ],
   "source": [
    "def is_lucky(ticket):\n",
    "    digits = ''.join(char for char in ticket if char.isdigit())\n",
    "\n",
    "    if len(digits) % 2 != 0:\n",
    "        return False\n",
    "\n",
    "    middle = len(digits) // 2\n",
    "    sum_first_half = sum(int(digit) for digit in digits[:middle])\n",
    "    sum_second_half = sum(int(digit) for digit in digits[middle:])\n",
    "\n",
    "    return sum_first_half == sum_second_half\n",
    "\n",
    "\n",
    "df['IsLucky'] = df['TicketNumber'].apply(is_lucky)\n",
    "lucky = df[df['IsLucky']]\n",
    "proportion_lucky = lucky.shape[0] / df.shape[0]\n",
    "print(f'Percentage of lucky tickets: {proportion_lucky * 100}%')"
   ]
  },
  {
   "cell_type": "markdown",
   "metadata": {},
   "source": [
    "### 7) How Should I Call You? 🗣️\n",
    "\n",
    "Split the full name into `Surname` and `FirstName`, then create a new dataframe with these two columns.\n",
    "\n",
    "Show a preview of the freshly created DataFrame\n",
    "\n",
    "<details><summary>Useful functions</summary>\n",
    "\n",
    "```python\n",
    "pandas.Series.str        # Accessor object for string methods\n",
    "pandas.Series.str.split  # Split strings around given separator (expand: True to return a DataFrame)\n",
    "```\n",
    "</details>\n",
    "<br>\n",
    "\n",
    "> *Hint:* You can use the `DataFrame.head()` method to display the first few rows of the new DataFrame"
   ]
  },
  {
   "cell_type": "code",
   "execution_count": 7,
   "metadata": {},
   "outputs": [
    {
     "data": {
      "text/html": [
       "<div>\n",
       "<style scoped>\n",
       "    .dataframe tbody tr th:only-of-type {\n",
       "        vertical-align: middle;\n",
       "    }\n",
       "\n",
       "    .dataframe tbody tr th {\n",
       "        vertical-align: top;\n",
       "    }\n",
       "\n",
       "    .dataframe thead th {\n",
       "        text-align: right;\n",
       "    }\n",
       "</style>\n",
       "<table border=\"1\" class=\"dataframe\">\n",
       "  <thead>\n",
       "    <tr style=\"text-align: right;\">\n",
       "      <th></th>\n",
       "      <th>Surname</th>\n",
       "      <th>FirstName</th>\n",
       "    </tr>\n",
       "  </thead>\n",
       "  <tbody>\n",
       "    <tr>\n",
       "      <th>0</th>\n",
       "      <td>Williams</td>\n",
       "      <td>Sally</td>\n",
       "    </tr>\n",
       "    <tr>\n",
       "      <th>1</th>\n",
       "      <td>Wilson</td>\n",
       "      <td>Jane</td>\n",
       "    </tr>\n",
       "    <tr>\n",
       "      <th>2</th>\n",
       "      <td>Jones</td>\n",
       "      <td>Michelle</td>\n",
       "    </tr>\n",
       "    <tr>\n",
       "      <th>3</th>\n",
       "      <td>Brown</td>\n",
       "      <td>Daniel</td>\n",
       "    </tr>\n",
       "    <tr>\n",
       "      <th>4</th>\n",
       "      <td>Moore</td>\n",
       "      <td>Michael</td>\n",
       "    </tr>\n",
       "  </tbody>\n",
       "</table>\n",
       "</div>"
      ],
      "text/plain": [
       "    Surname  FirstName\n",
       "0  Williams      Sally\n",
       "1    Wilson       Jane\n",
       "2     Jones   Michelle\n",
       "3     Brown     Daniel\n",
       "4     Moore    Michael"
      ]
     },
     "execution_count": 7,
     "metadata": {},
     "output_type": "execute_result"
    }
   ],
   "source": [
    "df[['Surname', 'FirstName']] = df['Name'].str.split(',', expand=True)\n",
    "df[[\"Surname\", \"FirstName\"]].head()"
   ]
  },
  {
   "cell_type": "markdown",
   "metadata": {},
   "source": [
    "### 8) Can't Live Without Math (NumPy) 🤓\n",
    "\n",
    "Calculate basic statistical metrics for the `Fare` column: `median`, `min`, `max`, `std` (Standard Deviation)\n",
    "\n",
    "> *Requirement*: Use `NumPy` here\n",
    "\n",
    "<details><summary>Useful functions</summary>\n",
    "\n",
    "```python\n",
    "pandas.DataFrame.to_numpy  # Convert the DataFrame to a NumPy array\n",
    "```\n",
    "</details>\n",
    "\n",
    "<!-- <details><summary>Useful functions</summary>\n",
    "\n",
    "```python\n",
    "pandas.DataFrame.agg  # Aggregate using one or more operations\n",
    "```\n",
    "</details>\n",
    "<br>\n",
    "\n",
    "> *Hint*: We can select one column in the DataFrame and then use `DataFrame.agg` to calculate multiple metrics at once. -->"
   ]
  },
  {
   "cell_type": "code",
   "execution_count": 8,
   "metadata": {},
   "outputs": [
    {
     "name": "stdout",
     "output_type": "stream",
     "text": [
      "Median Fare: 56.2\n",
      "Min Fare: 10.06\n",
      "Max Fare: 149.61\n",
      "Standard Deviation of Fare: 32.26327145468048\n"
     ]
    }
   ],
   "source": [
    "import numpy as np\n",
    "\n",
    "fare_values = df['Fare'].to_numpy()\n",
    "\n",
    "median_fare = np.median(fare_values)\n",
    "min_fare = np.min(fare_values)\n",
    "max_fare = np.max(fare_values)\n",
    "std_fare = np.std(fare_values)\n",
    "\n",
    "print(f'Median Fare: {median_fare}')\n",
    "print(f'Min Fare: {min_fare}')\n",
    "print(f'Max Fare: {max_fare}')\n",
    "print(f'Standard Deviation of Fare: {std_fare}')"
   ]
  },
  {
   "cell_type": "markdown",
   "metadata": {},
   "source": [
    "### 9) Popular Rides 🎢\n",
    "\n",
    "Find rides with more than 100 visitors and get their names and visitor counts.\n",
    "\n",
    "<details><summary>Useful functions</summary>\n",
    "\n",
    "```python\n",
    "pandas.DataFrame.value_counts  # Return a Series containing counts of unique rows in the DataFrame\n",
    "```\n",
    "</details>"
   ]
  },
  {
   "cell_type": "code",
   "execution_count": 9,
   "metadata": {},
   "outputs": [
    {
     "name": "stdout",
     "output_type": "stream",
     "text": [
      "Rides with more than 100 visitors: carousel, haunted house, rollercoaster, bumper cars\n"
     ]
    }
   ],
   "source": [
    "all_attractions = df['RideType'].value_counts()\n",
    "popular_attractions = all_attractions[all_attractions > 100].index\n",
    "\n",
    "print(f'Rides with more than 100 visitors: {\", \".join(popular_attractions)}')"
   ]
  }
 ],
 "metadata": {
  "kernelspec": {
   "display_name": "Python 3",
   "language": "python",
   "name": "python3"
  },
  "language_info": {
   "codemirror_mode": {
    "name": "ipython",
    "version": 3
   },
   "file_extension": ".py",
   "mimetype": "text/x-python",
   "name": "python",
   "nbconvert_exporter": "python",
   "pygments_lexer": "ipython3",
   "version": "3.12.2"
  }
 },
 "nbformat": 4,
 "nbformat_minor": 2
}
